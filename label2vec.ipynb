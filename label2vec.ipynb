{
 "cells": [
  {
   "cell_type": "code",
   "execution_count": 1,
   "metadata": {},
   "outputs": [
    {
     "name": "stderr",
     "output_type": "stream",
     "text": [
      "2024-03-24 14:31:39,868\tINFO util.py:154 -- Outdated packages:\n",
      "  ipywidgets==7.6.5 found, needs ipywidgets>=8\n",
      "Run `pip install -U ipywidgets`, then restart the notebook server for rich notebook output.\n"
     ]
    }
   ],
   "source": [
    "from gensim.utils import simple_preprocess\n",
    "from gensim.models.doc2vec import TaggedDocument, Doc2Vec\n",
    "import pandas as pd\n",
    "import pickle\n",
    "from sklearn.model_selection import train_test_split\n",
    "from lbl2vec import Lbl2Vec\n",
    "from gensim.downloader import load"
   ]
  },
  {
   "cell_type": "markdown",
   "metadata": {},
   "source": [
    "# Plan Overview:\n",
    "0. Keyword Definition\n",
    "1. Data Preparation\n",
    "2. Model Training"
   ]
  },
  {
   "cell_type": "markdown",
   "metadata": {},
   "source": [
    "### 0. Keyword Definition"
   ]
  },
  {
   "cell_type": "markdown",
   "metadata": {},
   "source": [
    "#### Categories:"
   ]
  },
  {
   "cell_type": "markdown",
   "metadata": {},
   "source": [
    "    1.  Bike Lane Obstruction: bike, cycle, path,  \n",
    "    2.  Bus Lane Obstruction: bus, stop, \n",
    "    3.  Non-resident Parking: resident, state\n",
    "    4.  Blocked Fire Hydrant: fire, hydrant\n",
    "    5.  Blocked Sidewalk: sidewalk, side, walk\n",
    "    6.  Blocked Driveway: driveway, drive, way, private\n",
    "    7.  Blocked Crosswalk: crosswalk, cross, walk\n",
    "    8.  Blocked Handicap spot: handicap, placard,\n",
    "    9.  Double Parking: double, triple\n",
    "    10. No stopping zone: stopping, zone\n",
    "    11. visitor spot: visitor, hour"
   ]
  },
  {
   "cell_type": "code",
   "execution_count": 2,
   "metadata": {},
   "outputs": [
    {
     "data": {
      "text/html": [
       "<div>\n",
       "<style scoped>\n",
       "    .dataframe tbody tr th:only-of-type {\n",
       "        vertical-align: middle;\n",
       "    }\n",
       "\n",
       "    .dataframe tbody tr th {\n",
       "        vertical-align: top;\n",
       "    }\n",
       "\n",
       "    .dataframe thead th {\n",
       "        text-align: right;\n",
       "    }\n",
       "</style>\n",
       "<table border=\"1\" class=\"dataframe\">\n",
       "  <thead>\n",
       "    <tr style=\"text-align: right;\">\n",
       "      <th></th>\n",
       "      <th>category</th>\n",
       "      <th>keywords</th>\n",
       "    </tr>\n",
       "  </thead>\n",
       "  <tbody>\n",
       "    <tr>\n",
       "      <th>0</th>\n",
       "      <td>bike lane</td>\n",
       "      <td>[bike, cycle, cycling, path, sharrow]</td>\n",
       "    </tr>\n",
       "    <tr>\n",
       "      <th>1</th>\n",
       "      <td>bus lane</td>\n",
       "      <td>[bus]</td>\n",
       "    </tr>\n",
       "    <tr>\n",
       "      <th>2</th>\n",
       "      <td>resident parking</td>\n",
       "      <td>[resident, state, plate, plates]</td>\n",
       "    </tr>\n",
       "    <tr>\n",
       "      <th>3</th>\n",
       "      <td>fire hydrant</td>\n",
       "      <td>[fire, hydrant]</td>\n",
       "    </tr>\n",
       "    <tr>\n",
       "      <th>4</th>\n",
       "      <td>sidewalk</td>\n",
       "      <td>[sidewalk, side]</td>\n",
       "    </tr>\n",
       "    <tr>\n",
       "      <th>5</th>\n",
       "      <td>driveway</td>\n",
       "      <td>[driveway, drive, way, private]</td>\n",
       "    </tr>\n",
       "    <tr>\n",
       "      <th>6</th>\n",
       "      <td>crosswalk</td>\n",
       "      <td>[crosswalk, cross]</td>\n",
       "    </tr>\n",
       "    <tr>\n",
       "      <th>7</th>\n",
       "      <td>handicap</td>\n",
       "      <td>[handicap, placard]</td>\n",
       "    </tr>\n",
       "    <tr>\n",
       "      <th>8</th>\n",
       "      <td>double parking</td>\n",
       "      <td>[double, triple]</td>\n",
       "    </tr>\n",
       "    <tr>\n",
       "      <th>9</th>\n",
       "      <td>no stopping</td>\n",
       "      <td>[stopping, loading]</td>\n",
       "    </tr>\n",
       "    <tr>\n",
       "      <th>10</th>\n",
       "      <td>visitor parking</td>\n",
       "      <td>[visitor, hour]</td>\n",
       "    </tr>\n",
       "  </tbody>\n",
       "</table>\n",
       "</div>"
      ],
      "text/plain": [
       "            category                               keywords\n",
       "0          bike lane  [bike, cycle, cycling, path, sharrow]\n",
       "1           bus lane                                  [bus]\n",
       "2   resident parking       [resident, state, plate, plates]\n",
       "3       fire hydrant                        [fire, hydrant]\n",
       "4           sidewalk                       [sidewalk, side]\n",
       "5           driveway        [driveway, drive, way, private]\n",
       "6          crosswalk                     [crosswalk, cross]\n",
       "7           handicap                    [handicap, placard]\n",
       "8     double parking                       [double, triple]\n",
       "9        no stopping                    [stopping, loading]\n",
       "10   visitor parking                        [visitor, hour]"
      ]
     },
     "execution_count": 2,
     "metadata": {},
     "output_type": "execute_result"
    }
   ],
   "source": [
    "category_keywords_dict = {\n",
    "    'bike lane' :           ['bike', 'cycle', 'cycling', 'path', 'sharrow'],\n",
    "    'bus lane' :            ['bus'],\n",
    "    'resident parking' :    ['resident', 'state', 'plate', 'plates'],\n",
    "    'fire hydrant' :        ['fire', 'hydrant'],\n",
    "    'sidewalk' :            ['sidewalk', 'side'],\n",
    "    'driveway' :            ['driveway', 'drive', 'way', 'private'],\n",
    "    'crosswalk' :           ['crosswalk', 'cross'],\n",
    "    'handicap' :            ['handicap', 'placard'],\n",
    "    'double parking' :      ['double', 'triple'],\n",
    "    'no stopping' :         ['stopping', 'loading'],\n",
    "    'visitor parking' :     ['visitor', 'hour']\n",
    "} \n",
    "\n",
    "category_keywords = pd.DataFrame(data=category_keywords_dict.items(), columns=['category', 'keywords'])\n",
    "category_keywords"
   ]
  },
  {
   "cell_type": "markdown",
   "metadata": {},
   "source": [
    "### 1. Data Preparation (Add Lemmatization)"
   ]
  },
  {
   "cell_type": "code",
   "execution_count": 3,
   "metadata": {},
   "outputs": [
    {
     "data": {
      "text/html": [
       "<div>\n",
       "<style scoped>\n",
       "    .dataframe tbody tr th:only-of-type {\n",
       "        vertical-align: middle;\n",
       "    }\n",
       "\n",
       "    .dataframe tbody tr th {\n",
       "        vertical-align: top;\n",
       "    }\n",
       "\n",
       "    .dataframe thead th {\n",
       "        text-align: right;\n",
       "    }\n",
       "</style>\n",
       "<table border=\"1\" class=\"dataframe\">\n",
       "  <thead>\n",
       "    <tr style=\"text-align: right;\">\n",
       "      <th></th>\n",
       "      <th>ID</th>\n",
       "      <th>Description</th>\n",
       "    </tr>\n",
       "  </thead>\n",
       "  <tbody>\n",
       "    <tr>\n",
       "      <th>0</th>\n",
       "      <td>101005335950</td>\n",
       "      <td>Illegal parking in the commercial loading Zone...</td>\n",
       "    </tr>\n",
       "    <tr>\n",
       "      <th>1</th>\n",
       "      <td>101005335949</td>\n",
       "      <td>Red Honda w New York plates illegally parked o...</td>\n",
       "    </tr>\n",
       "    <tr>\n",
       "      <th>2</th>\n",
       "      <td>101005335934</td>\n",
       "      <td>Car completely blocking turn in fire lane</td>\n",
       "    </tr>\n",
       "    <tr>\n",
       "      <th>3</th>\n",
       "      <td>101005335925</td>\n",
       "      <td>Double parking alone mass ave. No enforcement....</td>\n",
       "    </tr>\n",
       "    <tr>\n",
       "      <th>4</th>\n",
       "      <td>101005335924</td>\n",
       "      <td>truck on sidewalk</td>\n",
       "    </tr>\n",
       "  </tbody>\n",
       "</table>\n",
       "</div>"
      ],
      "text/plain": [
       "             ID                                        Description\n",
       "0  101005335950  Illegal parking in the commercial loading Zone...\n",
       "1  101005335949  Red Honda w New York plates illegally parked o...\n",
       "2  101005335934          Car completely blocking turn in fire lane\n",
       "3  101005335925  Double parking alone mass ave. No enforcement....\n",
       "4  101005335924                                  truck on sidewalk"
      ]
     },
     "execution_count": 3,
     "metadata": {},
     "output_type": "execute_result"
    }
   ],
   "source": [
    "# Load pickled service descriptions\n",
    "with open('pre-processing/API-responses/service_req_desc_03-02-24_01_09_24.pkl', 'rb') as file:\n",
    "    service_id_to_descriptions:dict = pickle.load(file)\n",
    "\n",
    "# Remove special characters and downcase, then tokenize\n",
    "def tokenize(doc):\n",
    "    return simple_preprocess(doc, deacc=True, min_len=2, max_len=15)\n",
    "\n",
    "service_drescriptions_df = pd.DataFrame(data=service_id_to_descriptions.items(), columns=['ID', 'Description'])\n",
    "service_drescriptions_df.head()"
   ]
  },
  {
   "cell_type": "markdown",
   "metadata": {},
   "source": [
    "#### Test, Training, Validate Split"
   ]
  },
  {
   "cell_type": "code",
   "execution_count": 4,
   "metadata": {},
   "outputs": [],
   "source": [
    "# Train=.70, Validate=.15, Test=.15\n",
    "# Split all data between train, (test AND validate)\n",
    "desc_train, desc_testval = train_test_split(service_drescriptions_df, test_size=.3)\n",
    "\n",
    "# Split (test AND validate) between test, validate\n",
    "# .3 * .5 = 0.15\n",
    "desc_val, desc_test = train_test_split(desc_testval, test_size=0.5)"
   ]
  },
  {
   "cell_type": "code",
   "execution_count": 5,
   "metadata": {},
   "outputs": [
    {
     "data": {
      "text/html": [
       "<div>\n",
       "<style scoped>\n",
       "    .dataframe tbody tr th:only-of-type {\n",
       "        vertical-align: middle;\n",
       "    }\n",
       "\n",
       "    .dataframe tbody tr th {\n",
       "        vertical-align: top;\n",
       "    }\n",
       "\n",
       "    .dataframe thead th {\n",
       "        text-align: right;\n",
       "    }\n",
       "</style>\n",
       "<table border=\"1\" class=\"dataframe\">\n",
       "  <thead>\n",
       "    <tr style=\"text-align: right;\">\n",
       "      <th></th>\n",
       "      <th>ID</th>\n",
       "      <th>Description</th>\n",
       "      <th>data_type</th>\n",
       "    </tr>\n",
       "  </thead>\n",
       "  <tbody>\n",
       "    <tr>\n",
       "      <th>0</th>\n",
       "      <td>101005296957</td>\n",
       "      <td>Blue Toyota exp. Inspection</td>\n",
       "      <td>train</td>\n",
       "    </tr>\n",
       "    <tr>\n",
       "      <th>1</th>\n",
       "      <td>101005191577</td>\n",
       "      <td>Parking in a school bus zone</td>\n",
       "      <td>train</td>\n",
       "    </tr>\n",
       "    <tr>\n",
       "      <th>2</th>\n",
       "      <td>101005228840</td>\n",
       "      <td>Blocking driveway</td>\n",
       "      <td>train</td>\n",
       "    </tr>\n",
       "    <tr>\n",
       "      <th>3</th>\n",
       "      <td>101005329064</td>\n",
       "      <td>How is the car parked illegally: [Handicapped ...</td>\n",
       "      <td>train</td>\n",
       "    </tr>\n",
       "    <tr>\n",
       "      <th>4</th>\n",
       "      <td>101005266315</td>\n",
       "      <td>A large silver truck with oregon plates always...</td>\n",
       "      <td>train</td>\n",
       "    </tr>\n",
       "  </tbody>\n",
       "</table>\n",
       "</div>"
      ],
      "text/plain": [
       "             ID                                        Description data_type\n",
       "0  101005296957                        Blue Toyota exp. Inspection     train\n",
       "1  101005191577                       Parking in a school bus zone     train\n",
       "2  101005228840                                  Blocking driveway     train\n",
       "3  101005329064  How is the car parked illegally: [Handicapped ...     train\n",
       "4  101005266315  A large silver truck with oregon plates always...     train"
      ]
     },
     "execution_count": 5,
     "metadata": {},
     "output_type": "execute_result"
    }
   ],
   "source": [
    "desc_train['data_type'] = 'train'\n",
    "desc_test['data_type'] = 'test'\n",
    "desc_val['data_type'] = 'validate'\n",
    "\n",
    "all_descriptions = pd.concat([desc_train, desc_test, desc_val]).reset_index(drop=True)\n",
    "all_descriptions.head()"
   ]
  },
  {
   "cell_type": "markdown",
   "metadata": {},
   "source": [
    "#### Service ID to Tag function"
   ]
  },
  {
   "cell_type": "code",
   "execution_count": 6,
   "metadata": {},
   "outputs": [],
   "source": [
    "service_id_list = []\n",
    "def service_id_to_tag(service_id:int) -> int:\n",
    "    if service_id in service_id_list:\n",
    "        return service_id_list.index(service_id)\n",
    "    service_id_list.append(service_id)\n",
    "    return len(service_id_list)"
   ]
  },
  {
   "cell_type": "markdown",
   "metadata": {},
   "source": [
    "#### Tagging Descriptions"
   ]
  },
  {
   "cell_type": "code",
   "execution_count": 7,
   "metadata": {},
   "outputs": [
    {
     "data": {
      "text/html": [
       "<div>\n",
       "<style scoped>\n",
       "    .dataframe tbody tr th:only-of-type {\n",
       "        vertical-align: middle;\n",
       "    }\n",
       "\n",
       "    .dataframe tbody tr th {\n",
       "        vertical-align: top;\n",
       "    }\n",
       "\n",
       "    .dataframe thead th {\n",
       "        text-align: right;\n",
       "    }\n",
       "</style>\n",
       "<table border=\"1\" class=\"dataframe\">\n",
       "  <thead>\n",
       "    <tr style=\"text-align: right;\">\n",
       "      <th></th>\n",
       "      <th>ID</th>\n",
       "      <th>Description</th>\n",
       "      <th>data_type</th>\n",
       "      <th>tagged_desc</th>\n",
       "    </tr>\n",
       "  </thead>\n",
       "  <tbody>\n",
       "    <tr>\n",
       "      <th>0</th>\n",
       "      <td>101005296957</td>\n",
       "      <td>Blue Toyota exp. Inspection</td>\n",
       "      <td>train</td>\n",
       "      <td>([blue, toyota, exp, inspection], [1])</td>\n",
       "    </tr>\n",
       "    <tr>\n",
       "      <th>1</th>\n",
       "      <td>101005191577</td>\n",
       "      <td>Parking in a school bus zone</td>\n",
       "      <td>train</td>\n",
       "      <td>([parking, in, school, bus, zone], [2])</td>\n",
       "    </tr>\n",
       "    <tr>\n",
       "      <th>2</th>\n",
       "      <td>101005228840</td>\n",
       "      <td>Blocking driveway</td>\n",
       "      <td>train</td>\n",
       "      <td>([blocking, driveway], [3])</td>\n",
       "    </tr>\n",
       "    <tr>\n",
       "      <th>3</th>\n",
       "      <td>101005329064</td>\n",
       "      <td>How is the car parked illegally: [Handicapped ...</td>\n",
       "      <td>train</td>\n",
       "      <td>([how, is, the, car, parked, illegally, handic...</td>\n",
       "    </tr>\n",
       "    <tr>\n",
       "      <th>4</th>\n",
       "      <td>101005266315</td>\n",
       "      <td>A large silver truck with oregon plates always...</td>\n",
       "      <td>train</td>\n",
       "      <td>([large, silver, truck, with, oregon, plates, ...</td>\n",
       "    </tr>\n",
       "  </tbody>\n",
       "</table>\n",
       "</div>"
      ],
      "text/plain": [
       "             ID                                        Description data_type  \\\n",
       "0  101005296957                        Blue Toyota exp. Inspection     train   \n",
       "1  101005191577                       Parking in a school bus zone     train   \n",
       "2  101005228840                                  Blocking driveway     train   \n",
       "3  101005329064  How is the car parked illegally: [Handicapped ...     train   \n",
       "4  101005266315  A large silver truck with oregon plates always...     train   \n",
       "\n",
       "                                         tagged_desc  \n",
       "0             ([blue, toyota, exp, inspection], [1])  \n",
       "1            ([parking, in, school, bus, zone], [2])  \n",
       "2                        ([blocking, driveway], [3])  \n",
       "3  ([how, is, the, car, parked, illegally, handic...  \n",
       "4  ([large, silver, truck, with, oregon, plates, ...  "
      ]
     },
     "execution_count": 7,
     "metadata": {},
     "output_type": "execute_result"
    }
   ],
   "source": [
    "all_descriptions['tagged_desc'] = all_descriptions.apply(lambda row: TaggedDocument(tokenize(row['Description']), [service_id_to_tag(int(row['ID']))]), axis=1)\n",
    "all_descriptions.head()"
   ]
  },
  {
   "cell_type": "markdown",
   "metadata": {},
   "source": [
    "### 2. Model Training"
   ]
  },
  {
   "cell_type": "code",
   "execution_count": 8,
   "metadata": {},
   "outputs": [
    {
     "name": "stderr",
     "output_type": "stream",
     "text": [
      "2024-03-24 14:44:19,192 - Lbl2Vec - INFO - Train document and word embeddings\n",
      "2024-03-24 14:44:34,716 - Lbl2Vec - INFO - Train label embeddings\n",
      "2024-03-24 14:44:34,719 - Lbl2Vec - WARNING - The following keywords from the 'keywords_list' are unknown to the Doc2Vec model and therefore not used to train the model: cycle cycling sharrow\n"
     ]
    }
   ],
   "source": [
    "model = Lbl2Vec(\n",
    "    keywords_list=list(category_keywords['keywords']),\n",
    "    tagged_documents=all_descriptions['tagged_desc'][all_descriptions['data_type'] == 'train'],\n",
    "    vector_size=300, \n",
    "    min_count=1, \n",
    "    similarity_threshold=0.3\n",
    "    )\n",
    "\n",
    "model.fit()"
   ]
  },
  {
   "cell_type": "markdown",
   "metadata": {},
   "source": [
    "#### Predict Description Labels"
   ]
  },
  {
   "cell_type": "code",
   "execution_count": 16,
   "metadata": {},
   "outputs": [
    {
     "name": "stderr",
     "output_type": "stream",
     "text": [
      "2024-03-24 15:04:14,697 - Lbl2Vec - INFO - Get document embeddings from model\n",
      "2024-03-24 15:04:14,714 - Lbl2Vec - INFO - Calculate document<->label similarities\n"
     ]
    },
    {
     "data": {
      "text/html": [
       "<div>\n",
       "<style scoped>\n",
       "    .dataframe tbody tr th:only-of-type {\n",
       "        vertical-align: middle;\n",
       "    }\n",
       "\n",
       "    .dataframe tbody tr th {\n",
       "        vertical-align: top;\n",
       "    }\n",
       "\n",
       "    .dataframe thead th {\n",
       "        text-align: right;\n",
       "    }\n",
       "</style>\n",
       "<table border=\"1\" class=\"dataframe\">\n",
       "  <thead>\n",
       "    <tr style=\"text-align: right;\">\n",
       "      <th></th>\n",
       "      <th>doc_key</th>\n",
       "      <th>most_similar_label</th>\n",
       "      <th>highest_similarity_score</th>\n",
       "      <th>label_0</th>\n",
       "      <th>label_1</th>\n",
       "      <th>label_2</th>\n",
       "      <th>label_3</th>\n",
       "      <th>label_4</th>\n",
       "      <th>label_5</th>\n",
       "      <th>label_6</th>\n",
       "      <th>label_7</th>\n",
       "      <th>label_8</th>\n",
       "      <th>label_9</th>\n",
       "      <th>label_10</th>\n",
       "    </tr>\n",
       "  </thead>\n",
       "  <tbody>\n",
       "    <tr>\n",
       "      <th>0</th>\n",
       "      <td>0</td>\n",
       "      <td>label_10</td>\n",
       "      <td>0.030059</td>\n",
       "      <td>0.030044</td>\n",
       "      <td>0.029812</td>\n",
       "      <td>0.030044</td>\n",
       "      <td>0.030041</td>\n",
       "      <td>0.030045</td>\n",
       "      <td>0.030045</td>\n",
       "      <td>0.030045</td>\n",
       "      <td>0.030044</td>\n",
       "      <td>0.030046</td>\n",
       "      <td>0.030043</td>\n",
       "      <td>0.030059</td>\n",
       "    </tr>\n",
       "    <tr>\n",
       "      <th>1</th>\n",
       "      <td>1</td>\n",
       "      <td>label_8</td>\n",
       "      <td>0.891777</td>\n",
       "      <td>0.891746</td>\n",
       "      <td>0.891280</td>\n",
       "      <td>0.891738</td>\n",
       "      <td>0.891760</td>\n",
       "      <td>0.891750</td>\n",
       "      <td>0.891740</td>\n",
       "      <td>0.891714</td>\n",
       "      <td>0.891701</td>\n",
       "      <td>0.891777</td>\n",
       "      <td>0.891738</td>\n",
       "      <td>0.891652</td>\n",
       "    </tr>\n",
       "    <tr>\n",
       "      <th>2</th>\n",
       "      <td>2</td>\n",
       "      <td>label_10</td>\n",
       "      <td>0.925019</td>\n",
       "      <td>0.924969</td>\n",
       "      <td>0.924613</td>\n",
       "      <td>0.924977</td>\n",
       "      <td>0.924966</td>\n",
       "      <td>0.924966</td>\n",
       "      <td>0.924971</td>\n",
       "      <td>0.924978</td>\n",
       "      <td>0.924982</td>\n",
       "      <td>0.924956</td>\n",
       "      <td>0.924966</td>\n",
       "      <td>0.925019</td>\n",
       "    </tr>\n",
       "    <tr>\n",
       "      <th>3</th>\n",
       "      <td>3</td>\n",
       "      <td>label_8</td>\n",
       "      <td>0.425022</td>\n",
       "      <td>0.424991</td>\n",
       "      <td>0.424655</td>\n",
       "      <td>0.424978</td>\n",
       "      <td>0.425001</td>\n",
       "      <td>0.424993</td>\n",
       "      <td>0.424983</td>\n",
       "      <td>0.424952</td>\n",
       "      <td>0.424942</td>\n",
       "      <td>0.425022</td>\n",
       "      <td>0.424979</td>\n",
       "      <td>0.424882</td>\n",
       "    </tr>\n",
       "    <tr>\n",
       "      <th>4</th>\n",
       "      <td>4</td>\n",
       "      <td>label_1</td>\n",
       "      <td>0.952883</td>\n",
       "      <td>0.952849</td>\n",
       "      <td>0.952883</td>\n",
       "      <td>0.952850</td>\n",
       "      <td>0.952850</td>\n",
       "      <td>0.952850</td>\n",
       "      <td>0.952849</td>\n",
       "      <td>0.952853</td>\n",
       "      <td>0.952853</td>\n",
       "      <td>0.952845</td>\n",
       "      <td>0.952848</td>\n",
       "      <td>0.952859</td>\n",
       "    </tr>\n",
       "    <tr>\n",
       "      <th>...</th>\n",
       "      <td>...</td>\n",
       "      <td>...</td>\n",
       "      <td>...</td>\n",
       "      <td>...</td>\n",
       "      <td>...</td>\n",
       "      <td>...</td>\n",
       "      <td>...</td>\n",
       "      <td>...</td>\n",
       "      <td>...</td>\n",
       "      <td>...</td>\n",
       "      <td>...</td>\n",
       "      <td>...</td>\n",
       "      <td>...</td>\n",
       "      <td>...</td>\n",
       "    </tr>\n",
       "    <tr>\n",
       "      <th>6838</th>\n",
       "      <td>6838</td>\n",
       "      <td>label_8</td>\n",
       "      <td>0.976301</td>\n",
       "      <td>0.976290</td>\n",
       "      <td>0.976172</td>\n",
       "      <td>0.976287</td>\n",
       "      <td>0.976296</td>\n",
       "      <td>0.976291</td>\n",
       "      <td>0.976286</td>\n",
       "      <td>0.976277</td>\n",
       "      <td>0.976273</td>\n",
       "      <td>0.976301</td>\n",
       "      <td>0.976286</td>\n",
       "      <td>0.976248</td>\n",
       "    </tr>\n",
       "    <tr>\n",
       "      <th>6839</th>\n",
       "      <td>6839</td>\n",
       "      <td>label_1</td>\n",
       "      <td>0.983041</td>\n",
       "      <td>0.982897</td>\n",
       "      <td>0.983041</td>\n",
       "      <td>0.982900</td>\n",
       "      <td>0.982894</td>\n",
       "      <td>0.982897</td>\n",
       "      <td>0.982900</td>\n",
       "      <td>0.982908</td>\n",
       "      <td>0.982911</td>\n",
       "      <td>0.982889</td>\n",
       "      <td>0.982900</td>\n",
       "      <td>0.982928</td>\n",
       "    </tr>\n",
       "    <tr>\n",
       "      <th>6840</th>\n",
       "      <td>6840</td>\n",
       "      <td>label_10</td>\n",
       "      <td>0.925339</td>\n",
       "      <td>0.925228</td>\n",
       "      <td>0.924340</td>\n",
       "      <td>0.925246</td>\n",
       "      <td>0.925211</td>\n",
       "      <td>0.925222</td>\n",
       "      <td>0.925233</td>\n",
       "      <td>0.925255</td>\n",
       "      <td>0.925260</td>\n",
       "      <td>0.925201</td>\n",
       "      <td>0.925231</td>\n",
       "      <td>0.925339</td>\n",
       "    </tr>\n",
       "    <tr>\n",
       "      <th>6841</th>\n",
       "      <td>6841</td>\n",
       "      <td>label_8</td>\n",
       "      <td>0.882172</td>\n",
       "      <td>0.882154</td>\n",
       "      <td>0.881970</td>\n",
       "      <td>0.882149</td>\n",
       "      <td>0.882164</td>\n",
       "      <td>0.882157</td>\n",
       "      <td>0.882151</td>\n",
       "      <td>0.882137</td>\n",
       "      <td>0.882129</td>\n",
       "      <td>0.882172</td>\n",
       "      <td>0.882146</td>\n",
       "      <td>0.882101</td>\n",
       "    </tr>\n",
       "    <tr>\n",
       "      <th>6842</th>\n",
       "      <td>6842</td>\n",
       "      <td>label_8</td>\n",
       "      <td>0.983951</td>\n",
       "      <td>0.983949</td>\n",
       "      <td>0.983708</td>\n",
       "      <td>0.983949</td>\n",
       "      <td>0.983950</td>\n",
       "      <td>0.983948</td>\n",
       "      <td>0.983946</td>\n",
       "      <td>0.983943</td>\n",
       "      <td>0.983941</td>\n",
       "      <td>0.983951</td>\n",
       "      <td>0.983946</td>\n",
       "      <td>0.983933</td>\n",
       "    </tr>\n",
       "  </tbody>\n",
       "</table>\n",
       "<p>6843 rows × 14 columns</p>\n",
       "</div>"
      ],
      "text/plain": [
       "      doc_key most_similar_label  highest_similarity_score   label_0  \\\n",
       "0           0           label_10                  0.030059  0.030044   \n",
       "1           1            label_8                  0.891777  0.891746   \n",
       "2           2           label_10                  0.925019  0.924969   \n",
       "3           3            label_8                  0.425022  0.424991   \n",
       "4           4            label_1                  0.952883  0.952849   \n",
       "...       ...                ...                       ...       ...   \n",
       "6838     6838            label_8                  0.976301  0.976290   \n",
       "6839     6839            label_1                  0.983041  0.982897   \n",
       "6840     6840           label_10                  0.925339  0.925228   \n",
       "6841     6841            label_8                  0.882172  0.882154   \n",
       "6842     6842            label_8                  0.983951  0.983949   \n",
       "\n",
       "       label_1   label_2   label_3   label_4   label_5   label_6   label_7  \\\n",
       "0     0.029812  0.030044  0.030041  0.030045  0.030045  0.030045  0.030044   \n",
       "1     0.891280  0.891738  0.891760  0.891750  0.891740  0.891714  0.891701   \n",
       "2     0.924613  0.924977  0.924966  0.924966  0.924971  0.924978  0.924982   \n",
       "3     0.424655  0.424978  0.425001  0.424993  0.424983  0.424952  0.424942   \n",
       "4     0.952883  0.952850  0.952850  0.952850  0.952849  0.952853  0.952853   \n",
       "...        ...       ...       ...       ...       ...       ...       ...   \n",
       "6838  0.976172  0.976287  0.976296  0.976291  0.976286  0.976277  0.976273   \n",
       "6839  0.983041  0.982900  0.982894  0.982897  0.982900  0.982908  0.982911   \n",
       "6840  0.924340  0.925246  0.925211  0.925222  0.925233  0.925255  0.925260   \n",
       "6841  0.881970  0.882149  0.882164  0.882157  0.882151  0.882137  0.882129   \n",
       "6842  0.983708  0.983949  0.983950  0.983948  0.983946  0.983943  0.983941   \n",
       "\n",
       "       label_8   label_9  label_10  \n",
       "0     0.030046  0.030043  0.030059  \n",
       "1     0.891777  0.891738  0.891652  \n",
       "2     0.924956  0.924966  0.925019  \n",
       "3     0.425022  0.424979  0.424882  \n",
       "4     0.952845  0.952848  0.952859  \n",
       "...        ...       ...       ...  \n",
       "6838  0.976301  0.976286  0.976248  \n",
       "6839  0.982889  0.982900  0.982928  \n",
       "6840  0.925201  0.925231  0.925339  \n",
       "6841  0.882172  0.882146  0.882101  \n",
       "6842  0.983951  0.983946  0.983933  \n",
       "\n",
       "[6843 rows x 14 columns]"
      ]
     },
     "execution_count": 16,
     "metadata": {},
     "output_type": "execute_result"
    }
   ],
   "source": [
    "model.predict_model_docs()"
   ]
  },
  {
   "cell_type": "markdown",
   "metadata": {},
   "source": [
    "####  Manually Catagorize Data"
   ]
  },
  {
   "cell_type": "code",
   "execution_count": 32,
   "metadata": {},
   "outputs": [],
   "source": [
    "def getDesAndIDOfKeyWord(dataframe, column, keyword, n_entries):\n",
    "    \"\"\"\n",
    "    Filters the dataframe to only include rows where the specified column contains the keyword.\n",
    "\n",
    "    Parameters:\n",
    "    - dataframe: The pandas DataFrame to filter.\n",
    "    - column: The name of the column in the DataFrame to search for the keyword.\n",
    "    - keyword: The keyword to search for within the specified column.\n",
    "    - n_entries: Number of entries to display.\n",
    "\n",
    "    Prints the ID and Description of entries where the specified column contains the keyword\n",
    "    \"\"\"\n",
    "    # Filter the DataFrame\n",
    "    filtered_df = dataframe[dataframe[column].astype(str).str.contains(keyword, case=False, na=False)]\n",
    "    \n",
    "    # Get the first n_entries\n",
    "    n_entDF = filtered_df.head(n_entries)\n",
    "\n",
    "    # Print the desired output\n",
    "    for index, row in n_entDF.iterrows():\n",
    "        print(f\"ID: {row['ID']}, {column}: {row[column]}\")"
   ]
  },
  {
   "cell_type": "code",
   "execution_count": 35,
   "metadata": {},
   "outputs": [
    {
     "name": "stdout",
     "output_type": "stream",
     "text": [
      "ID: 101005335507, Description: -- auto translated (en) -- Parked in bus lane…almost daily occurrence -- original (en) -- Parked in bus lane…almost daily occurrence\n",
      "ID: 101005335153, Description: Black ford with Maine license plates parked in active Bus stop.\n",
      "ID: 101005335041, Description: This red truck and a few other cars frequently park in this spot and leaves it for more than an hour. Fidelis way and Washington are busy streets and it makes for cars coming out of Fidelis incredibly hard to turn when you have these monstrosities blocking and using them as long term parking. These spaces are for 10-15 minutes only and this is a bps school bus stop!\n",
      "ID: 101005334964, Description: Cars blocking the pm bus lane, Washington St in Roslindale please ticket\n",
      "ID: 101005334810, Description: Constituent requests Copley Square be monitored regularly for ongoing violations of double parking and parking in bus lanes. States this creates safety issues for the public. | How is the car parked illegally: [Other]\n",
      "ID: 101005334186, Description: Illegal parking. Bus lane.\n",
      "ID: 101005333973, Description: -- auto translated (en) -- Illegally Double parked blocking the bus lane Dunkin’ Donuts customers -- original (en) -- Illegally Double parked blocking the bus lane Dunkin’ Donuts customers\n",
      "ID: 101005332782, Description: Delivery truck blatantly blocking bus stop outside Boston Latin School.\n",
      "ID: 101005333847, Description: Bedlam in Copley square.  Busses stopped in the bus lanes.  Double parking, motor scooters traveling on the sidewalks.   Someone is going to get hurt in all this craziness.  Mayor Wu, please do something about this!!\n",
      "ID: 101005333169, Description: There are multiple cars illegally parked and facing the wrond direction in the bus lane outside Sal's Pizza on the corner of L St. and E 8th in Southie\n",
      "ID: 101005332709, Description: Blocking the bus lane no front plates\n",
      "ID: 101005332197, Description: Multiple. Cars parked in pm bus lane on What Roslindale please ticket\n",
      "ID: 101005332362, Description: Row of cars parked in washington st bus lane\n",
      "ID: 101005331547, Description: Parked in bus lane Dunkin customer!!!\n",
      "ID: 101005330183, Description: -- auto translated (en) -- Local motion school bus parked on a tiny side street in Hyde Park on the corner residents are unable to take a turn onto Maple Street in Hyde Park!! They are parked there all day long emergency vehicles also cannot access a right turn!! How was the school bus able to park here all day,, it’s not Boston Public?!!  -- original (en) -- Local motion school bus parked on a tiny side street in Hyde Park on the corner residents are unable to take a turn onto Maple Street in Hyde Park!! They are parked there all day long emergency vehicles also cannot access a right turn!! How was the school bus able to park here all day,, it’s not Boston Public￼!!\n"
     ]
    },
    {
     "data": {
      "text/plain": [
       "[101005335507, 101005334964]"
      ]
     },
     "execution_count": 35,
     "metadata": {},
     "output_type": "execute_result"
    }
   ],
   "source": [
    "busIDS = getDesAndIDOfKeyWord(service_drescriptions_df, \"Description\", \" bus \", 15)\n",
    "# IDs of 10 Bus Lane Incidents:\n",
    "[101005335507, 101005334964, 101005334964, 101005334186, 101005333847, 101005333973, 101005333169, 101005332709, 101005332197, 101005331547]"
   ]
  },
  {
   "cell_type": "code",
   "execution_count": 36,
   "metadata": {},
   "outputs": [
    {
     "name": "stdout",
     "output_type": "stream",
     "text": [
      "ID: 101005335795, Description: -- auto translated (en) -- Cars parked in “separated” bike lane -- original (en) -- Cars parked in “separated” bike lane\n",
      "ID: 101005335096, Description: This red Camry is consistently parked in the bike lane across from the West Roxbury Branch of the Public Library, in front of the pizza joint and the dry cleaners.\n",
      "ID: 101005334866, Description: Truck parked in bike lane\n",
      "ID: 101005334723, Description: Truck parked in bike lane\n",
      "ID: 101005334683, Description: SUV parked on bike lane\n",
      "ID: 101005334584, Description: Illegally parked cars in no parking zone and bike lane\n",
      "ID: 101005334083, Description: Car parked in bike lane\n",
      "ID: 101005332739, Description: MBTA truck parked in bike lane, blocking fire hydrant, mailbox, and crosswalk. The quadradecta! Tow this pos\n",
      "ID: 101005333947, Description: White SUV parked 2 feet from the curb in the bike lane.\n",
      "ID: 101005333057, Description: Illegal bike lane obstruction. Cars need to be ticketed and towed. Need flex posts to prevent illegal parking.\n",
      "ID: 101005332805, Description: Same car same bike lane 1SJV93\n",
      "ID: 101005332083, Description: Parked in bike lane!!\n",
      "ID: 101005332081, Description: Can BTD please enforce all the cars blocking the No Stopping areas around Longwood.  Brookline Ave is filled with illegally parked cars blocking bike lane and travel lane, preventing traffic including medical transports from safely navigating area.  Ongoing problems, need visible enforcement.\n",
      "ID: 101005331548, Description: Illegal parking. When will the flexpost for the bike lane be installed?\n",
      "ID: 101005331429, Description: Parked in bike lane\n"
     ]
    },
    {
     "data": {
      "text/plain": [
       "[]"
      ]
     },
     "execution_count": 36,
     "metadata": {},
     "output_type": "execute_result"
    }
   ],
   "source": [
    "getDesAndIDOfKeyWord(service_drescriptions_df, \"Description\", \" bike \", 15)\n",
    "# IDs of 10 Bike Lane Incidents:\n",
    "[101005335795, 101005335096, 101005334866, 101005334683, 101005334584, 101005332739, 101005333947, 101005333057, 101005332081, 101005331429]"
   ]
  },
  {
   "cell_type": "code",
   "execution_count": 37,
   "metadata": {},
   "outputs": [
    {
     "name": "stdout",
     "output_type": "stream",
     "text": [
      "ID: 101005335792, Description: No resident sticker parked in resident only\n",
      "ID: 101005335731, Description: Non-resident vehicle parked for several days in resident parking. Segel Street\n",
      "ID: 101005335399, Description: Red car parked in front of 1940 Commonwealth Ave without resident parking sticker.\n",
      "ID: 101005335384, Description: Illegal parking in resident only spots\n",
      "ID: 101005335228, Description: -- auto translated (en) -- White Toyota Corolla has been parked here in a resident only part of Emmons Street in East Boston. The car has a Mission Hill resident sticker. Please come to ticket or even better, tow this car as it hasn’t moved for two weeks now. Thanks.  -- original (en) -- White Toyota Corolla has been parked here in a resident only part of Emmons Street in East Boston. The car has a Mission Hill resident sticker. Please come to ticket or even better, tow this car as it hasn’t moved for two weeks now. Thanks.\n",
      "ID: 101005335225, Description: Black Toyota SUV parked illegally in resident permit parking.  This was reported 15 hrs ago and no one has bothered to respond.\n",
      "ID: 101005335211, Description: Across from 65 P street in Resident parking car with New Hampshire plates has not moved for days.  Please do something!\n",
      "ID: 101005335054, Description: Constituent is calling to report commercial vehicles parked in resident parking. | Type of vehicle: [Car]  Details: [constuction Vehicle]  Make: [Acura]\n",
      "ID: 101005334978, Description: Car illegally parked in resident only\n",
      "ID: 101005334908, Description: One of a couple vehicles parked in resident only spaces that aren't residents.\n",
      "ID: 101005334885, Description: -- auto translated (en) -- Still no response from BTD oh wait they will respond back to me in 24hours what a joke…So I drive around the block looking for a parking spot and all the non resident with no parking sticker are on this section of Webster Street go figure -- original (en) -- Still no response from BTD oh wait they will respond back to me in 24hours what a joke…So I drive around the block looking for a parking spot and all the non resident with no parking sticker are on this section of Webster Street go figure\n",
      "ID: 101005334840, Description: Constituent reports multiple commerical trucks parked at this location without resident stickers. | The closest intersecting street: [Ramsdell St]  Make: [Unknown]  Model: [Unknown]  Color: [Unknown]\n",
      "ID: 101005333487, Description: No resident sticker in two hour residential space for several hours\n",
      "ID: 101005334540, Description: blue suburu with NH late 170-2978 parked in resident permit parking across from 63 old harbor st\n",
      "ID: 101005334182, Description: At least 6 vehicles without resident sticker illegally parked on Pilgrim Rd\n"
     ]
    }
   ],
   "source": [
    "getDesAndIDOfKeyWord(service_drescriptions_df, \"Description\", \" resident \", 15)\n",
    "# IDs of non-resident parking Incidents:\n",
    "[101005335792, 101005335731, 101005335399, 101005335228, 101005335225, 101005335054, 101005334908, 101005334840, 101005333487, 101005334182]"
   ]
  },
  {
   "cell_type": "code",
   "execution_count": 38,
   "metadata": {},
   "outputs": [
    {
     "name": "stdout",
     "output_type": "stream",
     "text": [
      "ID: 101005335836, Description: Vehicle near hydrant  MKE: HNDA  MDEL: CIVIC 3XYK69\n",
      "ID: 101005335320, Description: Vechile parked too close to fire Hydrant, less than 5 to 10 from the Hydrant dk color sedan.\n",
      "ID: 101005335227, Description: Truck parked in front of fire hydrant on Athol Street.\n",
      "ID: 101005334484, Description: Two motor vehicles blocking fire hydrant behind 11 Channel Ctr. St. On Medallion Ave. ongoing problem!\n",
      "ID: 101005334236, Description: Same car has been parked blocking the fire hydrant overnight! License plate reads 3XFB78. I have noticed this car does this frequently.  This is not safe for neighbors who live here. Please remedy this!\n",
      "ID: 101005331891, Description: White Honda less than 1000 ft from hydrant as per 700CMR ORDINANCE\n",
      "ID: 101005333965, Description: -- auto translated (en) -- In front of 94 Litchfield St/Brighton. White 4 door car blocking fire hydrant & trash cans (trash pickup b/w 7-8am today/Friday’s). -- original (en) -- In front of 94 Litchfield St/Brighton. White 4 door car blocking fire hydrant & trash cans (trash pickup b/w 7-8am today/Friday’s).\n",
      "ID: 101005333882, Description: Constituent states there is a car blocking the hydrant and is requesting inspection and ticket. | How is the car parked illegally: [Blocking hydrant]  Details: [navy blue]  Make: [Nissan]  Model: [4DR]  Color: [Blue]  Vehicle License Plate Registration: [2XNH26]  Vehicle License Plate State: [MA]\n",
      "ID: 101005333064, Description: Car blocking fire hydrant at 7 Greenheys Street. Dorchester,  MA 02121\n",
      "ID: 101005333420, Description: Box truck parked on side street blocking view of cars coming around the corner. This box truck has no registration sticker on the license plate and only has a front plate. I have reported this over and over and yet NOTHING has happened and it has become very frustrating. Please do something! You want people to report things to keep the city looking beautiful, yet you have done nothing about the eyesores in this one block. I can name 3 eyesores in just this block. (1) the box truck on highland st. (2) the 2 vehicles on Williams ave that havent moved in over a year that one blocks your view coming from Pond St to Williams ave its a gold Suburban vehicle (3) another vehicle on Williams Ave in front of the police academy near a hydrant a black mercedes. I know numerous complaints have been made and yet NOTHING happens, yet you keep closing these cases. Please do something\n",
      "ID: 101005331210, Description: Parked in front of hydrant at 1710 comm ave\n",
      "ID: 101005332487, Description: Constituent states there is a car blocking the fire hydrant and is constantly there. Constituent is requesting for inspection and ticket. | How is the car parked illegally: [Blocking hydrant]  Make: [Toyota]  Model: [4DR]  Color: [White]  Vehicle License Plate State: [MA]\n",
      "ID: 101005332011, Description: Parked in front of hydrant at 1710 comm ave\n",
      "ID: 101005331333, Description: Completely blocked hydrant overnight\n",
      "ID: 101005331144, Description: 17 Duncan St: car parked blocking fire hydrant and corner of Duncan Place/Duncan Street making exit/entering difficult and dangerous.\n"
     ]
    }
   ],
   "source": [
    "getDesAndIDOfKeyWord(service_drescriptions_df, \"Description\", \" hydrant \", 15)\n",
    "# IDs of fire hydrant parking Incidents:\n",
    "[101005335836, 101005335320, 101005335227, 101005334484, 101005334236, 101005331891, 101005333965, 101005333882, 101005333064, 101005331333]"
   ]
  },
  {
   "cell_type": "code",
   "execution_count": 39,
   "metadata": {},
   "outputs": [
    {
     "name": "stdout",
     "output_type": "stream",
     "text": [
      "ID: 101005335787, Description: Tow zone & parked on sidewalk | How is the car parked illegally: [Other]  Details: [black nissian and grey sedan]  Make: [Hyundai]  Color: [Blue]\n",
      "ID: 101005335744, Description: White Cadillac suv on sidewalk 30 baker st WR\n",
      "ID: 101005335283, Description: Illegal parking blocking sidewalk at a handicapped space.\n",
      "ID: 101005335233, Description: -- auto translated (en) -- Date 3/2/24 12:30am  Front of 14 porter st east Boston. I work for public safety.  My client is 14 porter st east Boston. North Suffolk community service.  The client told me to try to keep the sidewalk handicap ramp open. Due to having medical treatment, appt, as well for the First responder.  There is a 24/7 crisis team here. Sometime is difficult to bring patients and due to the blocking of the handicap ramp.  As well if there can be a sign and pole. Place there as well. This has been on going issues. Plus at night when people park.  Because they go to the night clubs.. I know because I see everything in the CCTV camera’s. Thank you -- original (en) -- Date 3/2/24 12:30am \n",
      "Front of 14 porter st east Boston.\n",
      "I work for public safety.  My client is 14 porter st east Boston. North Suffolk community service. \n",
      "\n",
      "The client told me to try to keep the sidewalk handicap ramp open. Due to having medical treatment, appt, as well for the First responder.  There is a 24/7 crisis team here. Sometime is difficult to bring patients and due to the blocking of the handicap ramp.  As well if there can be a sign and pole. Place there as well. This has been on going issues. Plus at night when people park.  Because they go to the night clubs.. I know because I see everything in the CCTV camera’s.\n",
      "\n",
      "Thank you\n",
      "ID: 101005335226, Description: Cars parked illegally on sidewalk of odd side of Moody St\n",
      "ID: 101005335152, Description: -- auto translated (en) -- There’s always someone parked here I feel like, and it makes crossing on the sidewalk dangerous for pedestrians. North side of Blossom St as it enters Storrow -- original (en) -- There’s always someone parked here I feel like, and it makes crossing on the sidewalk dangerous for pedestrians. North side of Blossom St as it enters Storrow\n",
      "ID: 101005335135, Description: -- auto translated (en) -- A truck on the sidewalk blocking the Church’s steps and the sidewalk  -- original (en) -- A truck on the sidewalk blocking the Church’s steps and the sidewalk\n",
      "ID: 101005335120, Description: Black pickup truck parked on the sidewalk on Manthorne Rd between Rickerhill St and the VFW, going toward the VFW.\n",
      "ID: 101005335030, Description: Truck is parked in sidewalk and too close to fire hydrant.\n",
      "ID: 101005334919, Description: Parked on sidewalk every day. Just before 222 Lake Street.\n",
      "ID: 101005334755, Description: White jeep suv blocking the sidewalk by illegally parking over it\n",
      "ID: 101005334258, Description: Car illegally parked on the sidewalk and a person in a wheelchair had to go out in the street to get around it\n",
      "ID: 101005333797, Description: Tow cars parked on sidewalk blocking pedestrians. This is unacceptable and dangerous.\n",
      "ID: 101005333404, Description: parked on sidewalk | How is the car parked illegally: [Other]  Type of vehicle: [Car]  Details: [several cars parked on sidewalk]  Make: [Unknown]  Model: [4DR]  Color: [Unknown]\n",
      "ID: 101005333127, Description: Cars, Vans parked on sidewalk everyday, night....on Athens St from  Dst to Bst ... please patrol\n"
     ]
    }
   ],
   "source": [
    "getDesAndIDOfKeyWord(service_drescriptions_df, \"Description\", \" sidewalk \", 15)\n",
    "# IDs of sidewalk blocking Incidents:\n",
    "[101005335787, 101005335744, 101005335226, 101005335233, 101005335226, 101005335135, 101005335120, 101005334919, 101005334755, 101005334258]"
   ]
  },
  {
   "cell_type": "code",
   "execution_count": null,
   "metadata": {},
   "outputs": [],
   "source": []
  }
 ],
 "metadata": {
  "kernelspec": {
   "display_name": "Python 3 (ipykernel)",
   "language": "python",
   "name": "python3"
  },
  "language_info": {
   "codemirror_mode": {
    "name": "ipython",
    "version": 3
   },
   "file_extension": ".py",
   "mimetype": "text/x-python",
   "name": "python",
   "nbconvert_exporter": "python",
   "pygments_lexer": "ipython3",
   "version": "3.9.12"
  }
 },
 "nbformat": 4,
 "nbformat_minor": 4
}
