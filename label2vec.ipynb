{
 "cells": [
  {
   "cell_type": "code",
   "execution_count": 25,
   "metadata": {},
   "outputs": [],
   "source": [
    "from gensim.utils import simple_preprocess\n",
    "from gensim.models.doc2vec import TaggedDocument, Doc2Vec\n",
    "import pandas as pd\n",
    "import pickle\n",
    "from sklearn.model_selection import train_test_split\n",
    "from lbl2vec import Lbl2Vec\n",
    "from gensim.downloader import load\n",
    "import numpy as np"
   ]
  },
  {
   "cell_type": "markdown",
   "metadata": {},
   "source": [
    "# Plan Overview:\n",
    "0. Keyword Definition\n",
    "1. Data Preparation\n",
    "2. Model Training"
   ]
  },
  {
   "cell_type": "markdown",
   "metadata": {},
   "source": [
    "### 0. Keyword Definition"
   ]
  },
  {
   "cell_type": "markdown",
   "metadata": {},
   "source": [
    "#### Categories:"
   ]
  },
  {
   "cell_type": "markdown",
   "metadata": {},
   "source": [
    "    1.  Bike Lane Obstruction: bike, cycle, path,  \n",
    "    2.  Bus Lane Obstruction: bus, stop, \n",
    "    3.  Non-resident Parking: resident, state\n",
    "    4.  Blocked Fire Hydrant: fire, hydrant\n",
    "    5.  Blocked Sidewalk: sidewalk, side, walk\n",
    "    6.  Blocked Driveway: driveway, drive, way, private\n",
    "    7.  Blocked Crosswalk: crosswalk, cross, walk\n",
    "    8.  Blocked Handicap spot: handicap, placard,\n",
    "    9.  Double Parking: double, triple\n",
    "    10. No stopping zone: stopping, zone\n",
    "    11. visitor spot: visitor, hour"
   ]
  },
  {
   "cell_type": "code",
   "execution_count": 2,
   "metadata": {},
   "outputs": [
    {
     "data": {
      "text/html": [
       "<div>\n",
       "<style scoped>\n",
       "    .dataframe tbody tr th:only-of-type {\n",
       "        vertical-align: middle;\n",
       "    }\n",
       "\n",
       "    .dataframe tbody tr th {\n",
       "        vertical-align: top;\n",
       "    }\n",
       "\n",
       "    .dataframe thead th {\n",
       "        text-align: right;\n",
       "    }\n",
       "</style>\n",
       "<table border=\"1\" class=\"dataframe\">\n",
       "  <thead>\n",
       "    <tr style=\"text-align: right;\">\n",
       "      <th></th>\n",
       "      <th>category</th>\n",
       "      <th>keywords</th>\n",
       "    </tr>\n",
       "  </thead>\n",
       "  <tbody>\n",
       "    <tr>\n",
       "      <th>0</th>\n",
       "      <td>bike lane</td>\n",
       "      <td>[bike, cycle, cycling, path, sharrow]</td>\n",
       "    </tr>\n",
       "    <tr>\n",
       "      <th>1</th>\n",
       "      <td>bus lane</td>\n",
       "      <td>[bus]</td>\n",
       "    </tr>\n",
       "    <tr>\n",
       "      <th>2</th>\n",
       "      <td>resident parking</td>\n",
       "      <td>[resident, state, plate, plates]</td>\n",
       "    </tr>\n",
       "    <tr>\n",
       "      <th>3</th>\n",
       "      <td>fire hydrant</td>\n",
       "      <td>[fire, hydrant]</td>\n",
       "    </tr>\n",
       "    <tr>\n",
       "      <th>4</th>\n",
       "      <td>sidewalk</td>\n",
       "      <td>[sidewalk, side]</td>\n",
       "    </tr>\n",
       "    <tr>\n",
       "      <th>5</th>\n",
       "      <td>driveway</td>\n",
       "      <td>[driveway, drive, way, private]</td>\n",
       "    </tr>\n",
       "    <tr>\n",
       "      <th>6</th>\n",
       "      <td>crosswalk</td>\n",
       "      <td>[crosswalk, cross]</td>\n",
       "    </tr>\n",
       "    <tr>\n",
       "      <th>7</th>\n",
       "      <td>handicap</td>\n",
       "      <td>[handicap, placard]</td>\n",
       "    </tr>\n",
       "    <tr>\n",
       "      <th>8</th>\n",
       "      <td>double parking</td>\n",
       "      <td>[double, triple]</td>\n",
       "    </tr>\n",
       "    <tr>\n",
       "      <th>9</th>\n",
       "      <td>no stopping</td>\n",
       "      <td>[stopping, loading]</td>\n",
       "    </tr>\n",
       "    <tr>\n",
       "      <th>10</th>\n",
       "      <td>visitor parking</td>\n",
       "      <td>[visitor, hour]</td>\n",
       "    </tr>\n",
       "  </tbody>\n",
       "</table>\n",
       "</div>"
      ],
      "text/plain": [
       "            category                               keywords\n",
       "0          bike lane  [bike, cycle, cycling, path, sharrow]\n",
       "1           bus lane                                  [bus]\n",
       "2   resident parking       [resident, state, plate, plates]\n",
       "3       fire hydrant                        [fire, hydrant]\n",
       "4           sidewalk                       [sidewalk, side]\n",
       "5           driveway        [driveway, drive, way, private]\n",
       "6          crosswalk                     [crosswalk, cross]\n",
       "7           handicap                    [handicap, placard]\n",
       "8     double parking                       [double, triple]\n",
       "9        no stopping                    [stopping, loading]\n",
       "10   visitor parking                        [visitor, hour]"
      ]
     },
     "execution_count": 2,
     "metadata": {},
     "output_type": "execute_result"
    }
   ],
   "source": [
    "category_keywords_dict = {\n",
    "    'bike lane' :           ['bike', 'cycle', 'cycling', 'path', 'sharrow'],\n",
    "    'bus lane' :            ['bus'],\n",
    "    'resident parking' :    ['resident', 'state', 'plate', 'plates'],\n",
    "    'fire hydrant' :        ['fire', 'hydrant'],\n",
    "    'sidewalk' :            ['sidewalk', 'side'],\n",
    "    'driveway' :            ['driveway', 'drive', 'way', 'private'],\n",
    "    'crosswalk' :           ['crosswalk', 'cross'],\n",
    "    'handicap' :            ['handicap', 'placard'],\n",
    "    'double parking' :      ['double', 'triple'],\n",
    "    'no stopping' :         ['stopping', 'loading'],\n",
    "    'visitor parking' :     ['visitor', 'hour']\n",
    "} \n",
    "\n",
    "category_keywords = pd.DataFrame(data=category_keywords_dict.items(), columns=['category', 'keywords'])\n",
    "category_keywords"
   ]
  },
  {
   "cell_type": "markdown",
   "metadata": {},
   "source": [
    "### 1. Data Preparation (Add Lemmatization)"
   ]
  },
  {
   "cell_type": "code",
   "execution_count": 4,
   "metadata": {},
   "outputs": [
    {
     "data": {
      "text/html": [
       "<div>\n",
       "<style scoped>\n",
       "    .dataframe tbody tr th:only-of-type {\n",
       "        vertical-align: middle;\n",
       "    }\n",
       "\n",
       "    .dataframe tbody tr th {\n",
       "        vertical-align: top;\n",
       "    }\n",
       "\n",
       "    .dataframe thead th {\n",
       "        text-align: right;\n",
       "    }\n",
       "</style>\n",
       "<table border=\"1\" class=\"dataframe\">\n",
       "  <thead>\n",
       "    <tr style=\"text-align: right;\">\n",
       "      <th></th>\n",
       "      <th>ID</th>\n",
       "      <th>Description</th>\n",
       "    </tr>\n",
       "  </thead>\n",
       "  <tbody>\n",
       "    <tr>\n",
       "      <th>0</th>\n",
       "      <td>101005335950</td>\n",
       "      <td>Illegal parking in the commercial loading Zone...</td>\n",
       "    </tr>\n",
       "    <tr>\n",
       "      <th>1</th>\n",
       "      <td>101005335949</td>\n",
       "      <td>Red Honda w New York plates illegally parked o...</td>\n",
       "    </tr>\n",
       "    <tr>\n",
       "      <th>2</th>\n",
       "      <td>101005335934</td>\n",
       "      <td>Car completely blocking turn in fire lane</td>\n",
       "    </tr>\n",
       "    <tr>\n",
       "      <th>3</th>\n",
       "      <td>101005335925</td>\n",
       "      <td>Double parking alone mass ave. No enforcement....</td>\n",
       "    </tr>\n",
       "    <tr>\n",
       "      <th>4</th>\n",
       "      <td>101005335924</td>\n",
       "      <td>truck on sidewalk</td>\n",
       "    </tr>\n",
       "  </tbody>\n",
       "</table>\n",
       "</div>"
      ],
      "text/plain": [
       "             ID                                        Description\n",
       "0  101005335950  Illegal parking in the commercial loading Zone...\n",
       "1  101005335949  Red Honda w New York plates illegally parked o...\n",
       "2  101005335934          Car completely blocking turn in fire lane\n",
       "3  101005335925  Double parking alone mass ave. No enforcement....\n",
       "4  101005335924                                  truck on sidewalk"
      ]
     },
     "execution_count": 4,
     "metadata": {},
     "output_type": "execute_result"
    }
   ],
   "source": [
    "# Load pickled service descriptions\n",
    "with open('pre-processing/API-responses/service_req_desc_03-02-24_01_09_24.pkl', 'rb') as file:\n",
    "    service_id_to_descriptions:dict = pickle.load(file)\n",
    "\n",
    "# Remove special characters and downcase, then tokenize\n",
    "def tokenize(doc):\n",
    "    return simple_preprocess(doc, deacc=True, min_len=2, max_len=15)\n",
    "\n",
    "service_drescriptions_df = pd.DataFrame(data=service_id_to_descriptions.items(), columns=['ID', 'Description'])\n",
    "service_drescriptions_df.head()"
   ]
  },
  {
   "cell_type": "markdown",
   "metadata": {},
   "source": [
    "#### Test, Training, Validate Split"
   ]
  },
  {
   "cell_type": "code",
   "execution_count": 4,
   "metadata": {},
   "outputs": [],
   "source": [
    "# Train=.70, Validate=.15, Test=.15\n",
    "# Split all data between train, (test AND validate)\n",
    "desc_train, desc_testval = train_test_split(service_drescriptions_df, test_size=.3)\n",
    "\n",
    "# Split (test AND validate) between test, validate\n",
    "# .3 * .5 = 0.15\n",
    "desc_val, desc_test = train_test_split(desc_testval, test_size=0.5)"
   ]
  },
  {
   "cell_type": "code",
   "execution_count": 5,
   "metadata": {},
   "outputs": [
    {
     "data": {
      "text/html": [
       "<div>\n",
       "<style scoped>\n",
       "    .dataframe tbody tr th:only-of-type {\n",
       "        vertical-align: middle;\n",
       "    }\n",
       "\n",
       "    .dataframe tbody tr th {\n",
       "        vertical-align: top;\n",
       "    }\n",
       "\n",
       "    .dataframe thead th {\n",
       "        text-align: right;\n",
       "    }\n",
       "</style>\n",
       "<table border=\"1\" class=\"dataframe\">\n",
       "  <thead>\n",
       "    <tr style=\"text-align: right;\">\n",
       "      <th></th>\n",
       "      <th>ID</th>\n",
       "      <th>Description</th>\n",
       "      <th>data_type</th>\n",
       "    </tr>\n",
       "  </thead>\n",
       "  <tbody>\n",
       "    <tr>\n",
       "      <th>0</th>\n",
       "      <td>101005296957</td>\n",
       "      <td>Blue Toyota exp. Inspection</td>\n",
       "      <td>train</td>\n",
       "    </tr>\n",
       "    <tr>\n",
       "      <th>1</th>\n",
       "      <td>101005191577</td>\n",
       "      <td>Parking in a school bus zone</td>\n",
       "      <td>train</td>\n",
       "    </tr>\n",
       "    <tr>\n",
       "      <th>2</th>\n",
       "      <td>101005228840</td>\n",
       "      <td>Blocking driveway</td>\n",
       "      <td>train</td>\n",
       "    </tr>\n",
       "    <tr>\n",
       "      <th>3</th>\n",
       "      <td>101005329064</td>\n",
       "      <td>How is the car parked illegally: [Handicapped ...</td>\n",
       "      <td>train</td>\n",
       "    </tr>\n",
       "    <tr>\n",
       "      <th>4</th>\n",
       "      <td>101005266315</td>\n",
       "      <td>A large silver truck with oregon plates always...</td>\n",
       "      <td>train</td>\n",
       "    </tr>\n",
       "  </tbody>\n",
       "</table>\n",
       "</div>"
      ],
      "text/plain": [
       "             ID                                        Description data_type\n",
       "0  101005296957                        Blue Toyota exp. Inspection     train\n",
       "1  101005191577                       Parking in a school bus zone     train\n",
       "2  101005228840                                  Blocking driveway     train\n",
       "3  101005329064  How is the car parked illegally: [Handicapped ...     train\n",
       "4  101005266315  A large silver truck with oregon plates always...     train"
      ]
     },
     "execution_count": 5,
     "metadata": {},
     "output_type": "execute_result"
    }
   ],
   "source": [
    "desc_train['data_type'] = 'train'\n",
    "desc_test['data_type'] = 'test'\n",
    "desc_val['data_type'] = 'validate'\n",
    "\n",
    "all_descriptions = pd.concat([desc_train, desc_test, desc_val]).reset_index(drop=True)\n",
    "all_descriptions.head()"
   ]
  },
  {
   "cell_type": "markdown",
   "metadata": {},
   "source": [
    "#### Service ID to Tag function"
   ]
  },
  {
   "cell_type": "code",
   "execution_count": 6,
   "metadata": {},
   "outputs": [],
   "source": [
    "service_id_list = []\n",
    "def service_id_to_tag(service_id:int) -> int:\n",
    "    if service_id in service_id_list:\n",
    "        return service_id_list.index(service_id)\n",
    "    service_id_list.append(service_id)\n",
    "    return len(service_id_list)"
   ]
  },
  {
   "cell_type": "markdown",
   "metadata": {},
   "source": [
    "#### Tagging Descriptions"
   ]
  },
  {
   "cell_type": "code",
   "execution_count": 7,
   "metadata": {},
   "outputs": [
    {
     "data": {
      "text/html": [
       "<div>\n",
       "<style scoped>\n",
       "    .dataframe tbody tr th:only-of-type {\n",
       "        vertical-align: middle;\n",
       "    }\n",
       "\n",
       "    .dataframe tbody tr th {\n",
       "        vertical-align: top;\n",
       "    }\n",
       "\n",
       "    .dataframe thead th {\n",
       "        text-align: right;\n",
       "    }\n",
       "</style>\n",
       "<table border=\"1\" class=\"dataframe\">\n",
       "  <thead>\n",
       "    <tr style=\"text-align: right;\">\n",
       "      <th></th>\n",
       "      <th>ID</th>\n",
       "      <th>Description</th>\n",
       "      <th>data_type</th>\n",
       "      <th>tagged_desc</th>\n",
       "    </tr>\n",
       "  </thead>\n",
       "  <tbody>\n",
       "    <tr>\n",
       "      <th>0</th>\n",
       "      <td>101005296957</td>\n",
       "      <td>Blue Toyota exp. Inspection</td>\n",
       "      <td>train</td>\n",
       "      <td>([blue, toyota, exp, inspection], [1])</td>\n",
       "    </tr>\n",
       "    <tr>\n",
       "      <th>1</th>\n",
       "      <td>101005191577</td>\n",
       "      <td>Parking in a school bus zone</td>\n",
       "      <td>train</td>\n",
       "      <td>([parking, in, school, bus, zone], [2])</td>\n",
       "    </tr>\n",
       "    <tr>\n",
       "      <th>2</th>\n",
       "      <td>101005228840</td>\n",
       "      <td>Blocking driveway</td>\n",
       "      <td>train</td>\n",
       "      <td>([blocking, driveway], [3])</td>\n",
       "    </tr>\n",
       "    <tr>\n",
       "      <th>3</th>\n",
       "      <td>101005329064</td>\n",
       "      <td>How is the car parked illegally: [Handicapped ...</td>\n",
       "      <td>train</td>\n",
       "      <td>([how, is, the, car, parked, illegally, handic...</td>\n",
       "    </tr>\n",
       "    <tr>\n",
       "      <th>4</th>\n",
       "      <td>101005266315</td>\n",
       "      <td>A large silver truck with oregon plates always...</td>\n",
       "      <td>train</td>\n",
       "      <td>([large, silver, truck, with, oregon, plates, ...</td>\n",
       "    </tr>\n",
       "  </tbody>\n",
       "</table>\n",
       "</div>"
      ],
      "text/plain": [
       "             ID                                        Description data_type  \\\n",
       "0  101005296957                        Blue Toyota exp. Inspection     train   \n",
       "1  101005191577                       Parking in a school bus zone     train   \n",
       "2  101005228840                                  Blocking driveway     train   \n",
       "3  101005329064  How is the car parked illegally: [Handicapped ...     train   \n",
       "4  101005266315  A large silver truck with oregon plates always...     train   \n",
       "\n",
       "                                         tagged_desc  \n",
       "0             ([blue, toyota, exp, inspection], [1])  \n",
       "1            ([parking, in, school, bus, zone], [2])  \n",
       "2                        ([blocking, driveway], [3])  \n",
       "3  ([how, is, the, car, parked, illegally, handic...  \n",
       "4  ([large, silver, truck, with, oregon, plates, ...  "
      ]
     },
     "execution_count": 7,
     "metadata": {},
     "output_type": "execute_result"
    }
   ],
   "source": [
    "all_descriptions['tagged_desc'] = all_descriptions.apply(lambda row: TaggedDocument(tokenize(row['Description']), [service_id_to_tag(int(row['ID']))]), axis=1)\n",
    "all_descriptions.head()"
   ]
  },
  {
   "cell_type": "markdown",
   "metadata": {},
   "source": [
    "### 2. Model Training"
   ]
  },
  {
   "cell_type": "code",
   "execution_count": 8,
   "metadata": {},
   "outputs": [
    {
     "name": "stderr",
     "output_type": "stream",
     "text": [
      "2024-03-24 14:44:19,192 - Lbl2Vec - INFO - Train document and word embeddings\n",
      "2024-03-24 14:44:34,716 - Lbl2Vec - INFO - Train label embeddings\n",
      "2024-03-24 14:44:34,719 - Lbl2Vec - WARNING - The following keywords from the 'keywords_list' are unknown to the Doc2Vec model and therefore not used to train the model: cycle cycling sharrow\n"
     ]
    }
   ],
   "source": [
    "model = Lbl2Vec(\n",
    "    keywords_list=list(category_keywords['keywords']),\n",
    "    tagged_documents=all_descriptions['tagged_desc'][all_descriptions['data_type'] == 'train'],\n",
    "    vector_size=300, \n",
    "    min_count=1, \n",
    "    similarity_threshold=0.3\n",
    "    )\n",
    "\n",
    "model.fit()"
   ]
  },
  {
   "cell_type": "markdown",
   "metadata": {},
   "source": [
    "#### Predict Description Labels"
   ]
  },
  {
   "cell_type": "code",
   "execution_count": 16,
   "metadata": {},
   "outputs": [
    {
     "name": "stderr",
     "output_type": "stream",
     "text": [
      "2024-03-24 15:04:14,697 - Lbl2Vec - INFO - Get document embeddings from model\n",
      "2024-03-24 15:04:14,714 - Lbl2Vec - INFO - Calculate document<->label similarities\n"
     ]
    },
    {
     "data": {
      "text/html": [
       "<div>\n",
       "<style scoped>\n",
       "    .dataframe tbody tr th:only-of-type {\n",
       "        vertical-align: middle;\n",
       "    }\n",
       "\n",
       "    .dataframe tbody tr th {\n",
       "        vertical-align: top;\n",
       "    }\n",
       "\n",
       "    .dataframe thead th {\n",
       "        text-align: right;\n",
       "    }\n",
       "</style>\n",
       "<table border=\"1\" class=\"dataframe\">\n",
       "  <thead>\n",
       "    <tr style=\"text-align: right;\">\n",
       "      <th></th>\n",
       "      <th>doc_key</th>\n",
       "      <th>most_similar_label</th>\n",
       "      <th>highest_similarity_score</th>\n",
       "      <th>label_0</th>\n",
       "      <th>label_1</th>\n",
       "      <th>label_2</th>\n",
       "      <th>label_3</th>\n",
       "      <th>label_4</th>\n",
       "      <th>label_5</th>\n",
       "      <th>label_6</th>\n",
       "      <th>label_7</th>\n",
       "      <th>label_8</th>\n",
       "      <th>label_9</th>\n",
       "      <th>label_10</th>\n",
       "    </tr>\n",
       "  </thead>\n",
       "  <tbody>\n",
       "    <tr>\n",
       "      <th>0</th>\n",
       "      <td>0</td>\n",
       "      <td>label_10</td>\n",
       "      <td>0.030059</td>\n",
       "      <td>0.030044</td>\n",
       "      <td>0.029812</td>\n",
       "      <td>0.030044</td>\n",
       "      <td>0.030041</td>\n",
       "      <td>0.030045</td>\n",
       "      <td>0.030045</td>\n",
       "      <td>0.030045</td>\n",
       "      <td>0.030044</td>\n",
       "      <td>0.030046</td>\n",
       "      <td>0.030043</td>\n",
       "      <td>0.030059</td>\n",
       "    </tr>\n",
       "    <tr>\n",
       "      <th>1</th>\n",
       "      <td>1</td>\n",
       "      <td>label_8</td>\n",
       "      <td>0.891777</td>\n",
       "      <td>0.891746</td>\n",
       "      <td>0.891280</td>\n",
       "      <td>0.891738</td>\n",
       "      <td>0.891760</td>\n",
       "      <td>0.891750</td>\n",
       "      <td>0.891740</td>\n",
       "      <td>0.891714</td>\n",
       "      <td>0.891701</td>\n",
       "      <td>0.891777</td>\n",
       "      <td>0.891738</td>\n",
       "      <td>0.891652</td>\n",
       "    </tr>\n",
       "    <tr>\n",
       "      <th>2</th>\n",
       "      <td>2</td>\n",
       "      <td>label_10</td>\n",
       "      <td>0.925019</td>\n",
       "      <td>0.924969</td>\n",
       "      <td>0.924613</td>\n",
       "      <td>0.924977</td>\n",
       "      <td>0.924966</td>\n",
       "      <td>0.924966</td>\n",
       "      <td>0.924971</td>\n",
       "      <td>0.924978</td>\n",
       "      <td>0.924982</td>\n",
       "      <td>0.924956</td>\n",
       "      <td>0.924966</td>\n",
       "      <td>0.925019</td>\n",
       "    </tr>\n",
       "    <tr>\n",
       "      <th>3</th>\n",
       "      <td>3</td>\n",
       "      <td>label_8</td>\n",
       "      <td>0.425022</td>\n",
       "      <td>0.424991</td>\n",
       "      <td>0.424655</td>\n",
       "      <td>0.424978</td>\n",
       "      <td>0.425001</td>\n",
       "      <td>0.424993</td>\n",
       "      <td>0.424983</td>\n",
       "      <td>0.424952</td>\n",
       "      <td>0.424942</td>\n",
       "      <td>0.425022</td>\n",
       "      <td>0.424979</td>\n",
       "      <td>0.424882</td>\n",
       "    </tr>\n",
       "    <tr>\n",
       "      <th>4</th>\n",
       "      <td>4</td>\n",
       "      <td>label_1</td>\n",
       "      <td>0.952883</td>\n",
       "      <td>0.952849</td>\n",
       "      <td>0.952883</td>\n",
       "      <td>0.952850</td>\n",
       "      <td>0.952850</td>\n",
       "      <td>0.952850</td>\n",
       "      <td>0.952849</td>\n",
       "      <td>0.952853</td>\n",
       "      <td>0.952853</td>\n",
       "      <td>0.952845</td>\n",
       "      <td>0.952848</td>\n",
       "      <td>0.952859</td>\n",
       "    </tr>\n",
       "    <tr>\n",
       "      <th>...</th>\n",
       "      <td>...</td>\n",
       "      <td>...</td>\n",
       "      <td>...</td>\n",
       "      <td>...</td>\n",
       "      <td>...</td>\n",
       "      <td>...</td>\n",
       "      <td>...</td>\n",
       "      <td>...</td>\n",
       "      <td>...</td>\n",
       "      <td>...</td>\n",
       "      <td>...</td>\n",
       "      <td>...</td>\n",
       "      <td>...</td>\n",
       "      <td>...</td>\n",
       "    </tr>\n",
       "    <tr>\n",
       "      <th>6838</th>\n",
       "      <td>6838</td>\n",
       "      <td>label_8</td>\n",
       "      <td>0.976301</td>\n",
       "      <td>0.976290</td>\n",
       "      <td>0.976172</td>\n",
       "      <td>0.976287</td>\n",
       "      <td>0.976296</td>\n",
       "      <td>0.976291</td>\n",
       "      <td>0.976286</td>\n",
       "      <td>0.976277</td>\n",
       "      <td>0.976273</td>\n",
       "      <td>0.976301</td>\n",
       "      <td>0.976286</td>\n",
       "      <td>0.976248</td>\n",
       "    </tr>\n",
       "    <tr>\n",
       "      <th>6839</th>\n",
       "      <td>6839</td>\n",
       "      <td>label_1</td>\n",
       "      <td>0.983041</td>\n",
       "      <td>0.982897</td>\n",
       "      <td>0.983041</td>\n",
       "      <td>0.982900</td>\n",
       "      <td>0.982894</td>\n",
       "      <td>0.982897</td>\n",
       "      <td>0.982900</td>\n",
       "      <td>0.982908</td>\n",
       "      <td>0.982911</td>\n",
       "      <td>0.982889</td>\n",
       "      <td>0.982900</td>\n",
       "      <td>0.982928</td>\n",
       "    </tr>\n",
       "    <tr>\n",
       "      <th>6840</th>\n",
       "      <td>6840</td>\n",
       "      <td>label_10</td>\n",
       "      <td>0.925339</td>\n",
       "      <td>0.925228</td>\n",
       "      <td>0.924340</td>\n",
       "      <td>0.925246</td>\n",
       "      <td>0.925211</td>\n",
       "      <td>0.925222</td>\n",
       "      <td>0.925233</td>\n",
       "      <td>0.925255</td>\n",
       "      <td>0.925260</td>\n",
       "      <td>0.925201</td>\n",
       "      <td>0.925231</td>\n",
       "      <td>0.925339</td>\n",
       "    </tr>\n",
       "    <tr>\n",
       "      <th>6841</th>\n",
       "      <td>6841</td>\n",
       "      <td>label_8</td>\n",
       "      <td>0.882172</td>\n",
       "      <td>0.882154</td>\n",
       "      <td>0.881970</td>\n",
       "      <td>0.882149</td>\n",
       "      <td>0.882164</td>\n",
       "      <td>0.882157</td>\n",
       "      <td>0.882151</td>\n",
       "      <td>0.882137</td>\n",
       "      <td>0.882129</td>\n",
       "      <td>0.882172</td>\n",
       "      <td>0.882146</td>\n",
       "      <td>0.882101</td>\n",
       "    </tr>\n",
       "    <tr>\n",
       "      <th>6842</th>\n",
       "      <td>6842</td>\n",
       "      <td>label_8</td>\n",
       "      <td>0.983951</td>\n",
       "      <td>0.983949</td>\n",
       "      <td>0.983708</td>\n",
       "      <td>0.983949</td>\n",
       "      <td>0.983950</td>\n",
       "      <td>0.983948</td>\n",
       "      <td>0.983946</td>\n",
       "      <td>0.983943</td>\n",
       "      <td>0.983941</td>\n",
       "      <td>0.983951</td>\n",
       "      <td>0.983946</td>\n",
       "      <td>0.983933</td>\n",
       "    </tr>\n",
       "  </tbody>\n",
       "</table>\n",
       "<p>6843 rows × 14 columns</p>\n",
       "</div>"
      ],
      "text/plain": [
       "      doc_key most_similar_label  highest_similarity_score   label_0  \\\n",
       "0           0           label_10                  0.030059  0.030044   \n",
       "1           1            label_8                  0.891777  0.891746   \n",
       "2           2           label_10                  0.925019  0.924969   \n",
       "3           3            label_8                  0.425022  0.424991   \n",
       "4           4            label_1                  0.952883  0.952849   \n",
       "...       ...                ...                       ...       ...   \n",
       "6838     6838            label_8                  0.976301  0.976290   \n",
       "6839     6839            label_1                  0.983041  0.982897   \n",
       "6840     6840           label_10                  0.925339  0.925228   \n",
       "6841     6841            label_8                  0.882172  0.882154   \n",
       "6842     6842            label_8                  0.983951  0.983949   \n",
       "\n",
       "       label_1   label_2   label_3   label_4   label_5   label_6   label_7  \\\n",
       "0     0.029812  0.030044  0.030041  0.030045  0.030045  0.030045  0.030044   \n",
       "1     0.891280  0.891738  0.891760  0.891750  0.891740  0.891714  0.891701   \n",
       "2     0.924613  0.924977  0.924966  0.924966  0.924971  0.924978  0.924982   \n",
       "3     0.424655  0.424978  0.425001  0.424993  0.424983  0.424952  0.424942   \n",
       "4     0.952883  0.952850  0.952850  0.952850  0.952849  0.952853  0.952853   \n",
       "...        ...       ...       ...       ...       ...       ...       ...   \n",
       "6838  0.976172  0.976287  0.976296  0.976291  0.976286  0.976277  0.976273   \n",
       "6839  0.983041  0.982900  0.982894  0.982897  0.982900  0.982908  0.982911   \n",
       "6840  0.924340  0.925246  0.925211  0.925222  0.925233  0.925255  0.925260   \n",
       "6841  0.881970  0.882149  0.882164  0.882157  0.882151  0.882137  0.882129   \n",
       "6842  0.983708  0.983949  0.983950  0.983948  0.983946  0.983943  0.983941   \n",
       "\n",
       "       label_8   label_9  label_10  \n",
       "0     0.030046  0.030043  0.030059  \n",
       "1     0.891777  0.891738  0.891652  \n",
       "2     0.924956  0.924966  0.925019  \n",
       "3     0.425022  0.424979  0.424882  \n",
       "4     0.952845  0.952848  0.952859  \n",
       "...        ...       ...       ...  \n",
       "6838  0.976301  0.976286  0.976248  \n",
       "6839  0.982889  0.982900  0.982928  \n",
       "6840  0.925201  0.925231  0.925339  \n",
       "6841  0.882172  0.882146  0.882101  \n",
       "6842  0.983951  0.983946  0.983933  \n",
       "\n",
       "[6843 rows x 14 columns]"
      ]
     },
     "execution_count": 16,
     "metadata": {},
     "output_type": "execute_result"
    }
   ],
   "source": [
    "model.predict_model_docs()"
   ]
  },
  {
   "cell_type": "markdown",
   "metadata": {},
   "source": [
    "####  Manually Catagorize Data"
   ]
  },
  {
   "cell_type": "code",
   "execution_count": 8,
   "metadata": {},
   "outputs": [],
   "source": [
    "def getDesAndIDOfKeyWord(dataframe, column, keyword, n_entries):\n",
    "    \"\"\"\n",
    "    Filters the dataframe to only include rows where the specified column contains the keyword.\n",
    "\n",
    "    Parameters:\n",
    "    - dataframe: The pandas DataFrame to filter.\n",
    "    - column: The name of the column in the DataFrame to search for the keyword.\n",
    "    - keyword: The keyword to search for within the specified column.\n",
    "    - n_entries: Number of entries to display.\n",
    "\n",
    "    Prints the ID and Description of entries where the specified column contains the keyword\n",
    "    \"\"\"\n",
    "    # Filter the DataFrame\n",
    "    filtered_df = dataframe[dataframe[column].astype(str).str.contains(keyword, case=False, na=False)]\n",
    "    \n",
    "    # Get the first n_entries\n",
    "    n_entDF = filtered_df.head(n_entries)\n",
    "\n",
    "    # Print the desired output\n",
    "    for index, row in n_entDF.iterrows():\n",
    "        print(f\"ID: {row['ID']}, {column}: {row[column]}\")\n",
    "    return n_entDF"
   ]
  },
  {
   "cell_type": "code",
   "execution_count": 19,
   "metadata": {},
   "outputs": [
    {
     "name": "stdout",
     "output_type": "stream",
     "text": [
      "ID: 101005335507, Description: -- auto translated (en) -- Parked in bus lane…almost daily occurrence -- original (en) -- Parked in bus lane…almost daily occurrence\n",
      "ID: 101005335153, Description: Black ford with Maine license plates parked in active Bus stop.\n",
      "ID: 101005335041, Description: This red truck and a few other cars frequently park in this spot and leaves it for more than an hour. Fidelis way and Washington are busy streets and it makes for cars coming out of Fidelis incredibly hard to turn when you have these monstrosities blocking and using them as long term parking. These spaces are for 10-15 minutes only and this is a bps school bus stop!\n",
      "ID: 101005334964, Description: Cars blocking the pm bus lane, Washington St in Roslindale please ticket\n",
      "ID: 101005334810, Description: Constituent requests Copley Square be monitored regularly for ongoing violations of double parking and parking in bus lanes. States this creates safety issues for the public. | How is the car parked illegally: [Other]\n",
      "ID: 101005334186, Description: Illegal parking. Bus lane.\n",
      "ID: 101005333973, Description: -- auto translated (en) -- Illegally Double parked blocking the bus lane Dunkin’ Donuts customers -- original (en) -- Illegally Double parked blocking the bus lane Dunkin’ Donuts customers\n",
      "ID: 101005332782, Description: Delivery truck blatantly blocking bus stop outside Boston Latin School.\n",
      "ID: 101005333847, Description: Bedlam in Copley square.  Busses stopped in the bus lanes.  Double parking, motor scooters traveling on the sidewalks.   Someone is going to get hurt in all this craziness.  Mayor Wu, please do something about this!!\n",
      "ID: 101005333169, Description: There are multiple cars illegally parked and facing the wrond direction in the bus lane outside Sal's Pizza on the corner of L St. and E 8th in Southie\n",
      "ID: 101005332709, Description: Blocking the bus lane no front plates\n",
      "ID: 101005332197, Description: Multiple. Cars parked in pm bus lane on What Roslindale please ticket\n",
      "ID: 101005332362, Description: Row of cars parked in washington st bus lane\n",
      "ID: 101005331547, Description: Parked in bus lane Dunkin customer!!!\n",
      "ID: 101005330183, Description: -- auto translated (en) -- Local motion school bus parked on a tiny side street in Hyde Park on the corner residents are unable to take a turn onto Maple Street in Hyde Park!! They are parked there all day long emergency vehicles also cannot access a right turn!! How was the school bus able to park here all day,, it’s not Boston Public?!!  -- original (en) -- Local motion school bus parked on a tiny side street in Hyde Park on the corner residents are unable to take a turn onto Maple Street in Hyde Park!! They are parked there all day long emergency vehicles also cannot access a right turn!! How was the school bus able to park here all day,, it’s not Boston Public￼!!\n"
     ]
    }
   ],
   "source": [
    "busIDS = getDesAndIDOfKeyWord(service_drescriptions_df, \"Description\", \" bus \", 15)\n",
    "# IDs of 10 Bus Lane Incidents:\n",
    "gt_bus_ids = [101005335507, 101005334964, 101005334964, 101005334186, 101005333847, 101005333973, 101005333169, 101005332709, 101005332197, 101005331547]"
   ]
  },
  {
   "cell_type": "code",
   "execution_count": 18,
   "metadata": {},
   "outputs": [
    {
     "name": "stdout",
     "output_type": "stream",
     "text": [
      "ID: 101005335795, Description: -- auto translated (en) -- Cars parked in “separated” bike lane -- original (en) -- Cars parked in “separated” bike lane\n",
      "ID: 101005335096, Description: This red Camry is consistently parked in the bike lane across from the West Roxbury Branch of the Public Library, in front of the pizza joint and the dry cleaners.\n",
      "ID: 101005334866, Description: Truck parked in bike lane\n",
      "ID: 101005334723, Description: Truck parked in bike lane\n",
      "ID: 101005334683, Description: SUV parked on bike lane\n",
      "ID: 101005334584, Description: Illegally parked cars in no parking zone and bike lane\n",
      "ID: 101005334083, Description: Car parked in bike lane\n",
      "ID: 101005332739, Description: MBTA truck parked in bike lane, blocking fire hydrant, mailbox, and crosswalk. The quadradecta! Tow this pos\n",
      "ID: 101005333947, Description: White SUV parked 2 feet from the curb in the bike lane.\n",
      "ID: 101005333057, Description: Illegal bike lane obstruction. Cars need to be ticketed and towed. Need flex posts to prevent illegal parking.\n",
      "ID: 101005332805, Description: Same car same bike lane 1SJV93\n",
      "ID: 101005332083, Description: Parked in bike lane!!\n",
      "ID: 101005332081, Description: Can BTD please enforce all the cars blocking the No Stopping areas around Longwood.  Brookline Ave is filled with illegally parked cars blocking bike lane and travel lane, preventing traffic including medical transports from safely navigating area.  Ongoing problems, need visible enforcement.\n",
      "ID: 101005331548, Description: Illegal parking. When will the flexpost for the bike lane be installed?\n",
      "ID: 101005331429, Description: Parked in bike lane\n"
     ]
    }
   ],
   "source": [
    "getDesAndIDOfKeyWord(service_drescriptions_df, \"Description\", \" bike \", 15)\n",
    "# IDs of 10 Bike Lane Incidents:\n",
    "gt_bike_ids = [101005335795, 101005335096, 101005334866, 101005334683, 101005334584, 101005332739, 101005333947, 101005333057, 101005332081, 101005331429]"
   ]
  },
  {
   "cell_type": "code",
   "execution_count": 17,
   "metadata": {},
   "outputs": [
    {
     "name": "stdout",
     "output_type": "stream",
     "text": [
      "ID: 101005335792, Description: No resident sticker parked in resident only\n",
      "ID: 101005335731, Description: Non-resident vehicle parked for several days in resident parking. Segel Street\n",
      "ID: 101005335399, Description: Red car parked in front of 1940 Commonwealth Ave without resident parking sticker.\n",
      "ID: 101005335384, Description: Illegal parking in resident only spots\n",
      "ID: 101005335228, Description: -- auto translated (en) -- White Toyota Corolla has been parked here in a resident only part of Emmons Street in East Boston. The car has a Mission Hill resident sticker. Please come to ticket or even better, tow this car as it hasn’t moved for two weeks now. Thanks.  -- original (en) -- White Toyota Corolla has been parked here in a resident only part of Emmons Street in East Boston. The car has a Mission Hill resident sticker. Please come to ticket or even better, tow this car as it hasn’t moved for two weeks now. Thanks.\n",
      "ID: 101005335225, Description: Black Toyota SUV parked illegally in resident permit parking.  This was reported 15 hrs ago and no one has bothered to respond.\n",
      "ID: 101005335211, Description: Across from 65 P street in Resident parking car with New Hampshire plates has not moved for days.  Please do something!\n",
      "ID: 101005335054, Description: Constituent is calling to report commercial vehicles parked in resident parking. | Type of vehicle: [Car]  Details: [constuction Vehicle]  Make: [Acura]\n",
      "ID: 101005334978, Description: Car illegally parked in resident only\n",
      "ID: 101005334908, Description: One of a couple vehicles parked in resident only spaces that aren't residents.\n",
      "ID: 101005334885, Description: -- auto translated (en) -- Still no response from BTD oh wait they will respond back to me in 24hours what a joke…So I drive around the block looking for a parking spot and all the non resident with no parking sticker are on this section of Webster Street go figure -- original (en) -- Still no response from BTD oh wait they will respond back to me in 24hours what a joke…So I drive around the block looking for a parking spot and all the non resident with no parking sticker are on this section of Webster Street go figure\n",
      "ID: 101005334840, Description: Constituent reports multiple commerical trucks parked at this location without resident stickers. | The closest intersecting street: [Ramsdell St]  Make: [Unknown]  Model: [Unknown]  Color: [Unknown]\n",
      "ID: 101005333487, Description: No resident sticker in two hour residential space for several hours\n",
      "ID: 101005334540, Description: blue suburu with NH late 170-2978 parked in resident permit parking across from 63 old harbor st\n",
      "ID: 101005334182, Description: At least 6 vehicles without resident sticker illegally parked on Pilgrim Rd\n"
     ]
    }
   ],
   "source": [
    "getDesAndIDOfKeyWord(service_drescriptions_df, \"Description\", \" resident \", 15)\n",
    "# IDs of non-resident parking Incidents:\n",
    "gt_resident_ids = [101005335792, 101005335731, 101005335399, 101005335228, 101005335225, 101005335054, 101005334908, 101005334840, 101005333487, 101005334182]"
   ]
  },
  {
   "cell_type": "code",
   "execution_count": 16,
   "metadata": {},
   "outputs": [
    {
     "name": "stdout",
     "output_type": "stream",
     "text": [
      "ID: 101005335836, Description: Vehicle near hydrant  MKE: HNDA  MDEL: CIVIC 3XYK69\n",
      "ID: 101005335320, Description: Vechile parked too close to fire Hydrant, less than 5 to 10 from the Hydrant dk color sedan.\n",
      "ID: 101005335227, Description: Truck parked in front of fire hydrant on Athol Street.\n",
      "ID: 101005334484, Description: Two motor vehicles blocking fire hydrant behind 11 Channel Ctr. St. On Medallion Ave. ongoing problem!\n",
      "ID: 101005334236, Description: Same car has been parked blocking the fire hydrant overnight! License plate reads 3XFB78. I have noticed this car does this frequently.  This is not safe for neighbors who live here. Please remedy this!\n",
      "ID: 101005331891, Description: White Honda less than 1000 ft from hydrant as per 700CMR ORDINANCE\n",
      "ID: 101005333965, Description: -- auto translated (en) -- In front of 94 Litchfield St/Brighton. White 4 door car blocking fire hydrant & trash cans (trash pickup b/w 7-8am today/Friday’s). -- original (en) -- In front of 94 Litchfield St/Brighton. White 4 door car blocking fire hydrant & trash cans (trash pickup b/w 7-8am today/Friday’s).\n",
      "ID: 101005333882, Description: Constituent states there is a car blocking the hydrant and is requesting inspection and ticket. | How is the car parked illegally: [Blocking hydrant]  Details: [navy blue]  Make: [Nissan]  Model: [4DR]  Color: [Blue]  Vehicle License Plate Registration: [2XNH26]  Vehicle License Plate State: [MA]\n",
      "ID: 101005333064, Description: Car blocking fire hydrant at 7 Greenheys Street. Dorchester,  MA 02121\n",
      "ID: 101005333420, Description: Box truck parked on side street blocking view of cars coming around the corner. This box truck has no registration sticker on the license plate and only has a front plate. I have reported this over and over and yet NOTHING has happened and it has become very frustrating. Please do something! You want people to report things to keep the city looking beautiful, yet you have done nothing about the eyesores in this one block. I can name 3 eyesores in just this block. (1) the box truck on highland st. (2) the 2 vehicles on Williams ave that havent moved in over a year that one blocks your view coming from Pond St to Williams ave its a gold Suburban vehicle (3) another vehicle on Williams Ave in front of the police academy near a hydrant a black mercedes. I know numerous complaints have been made and yet NOTHING happens, yet you keep closing these cases. Please do something\n",
      "ID: 101005331210, Description: Parked in front of hydrant at 1710 comm ave\n",
      "ID: 101005332487, Description: Constituent states there is a car blocking the fire hydrant and is constantly there. Constituent is requesting for inspection and ticket. | How is the car parked illegally: [Blocking hydrant]  Make: [Toyota]  Model: [4DR]  Color: [White]  Vehicle License Plate State: [MA]\n",
      "ID: 101005332011, Description: Parked in front of hydrant at 1710 comm ave\n",
      "ID: 101005331333, Description: Completely blocked hydrant overnight\n",
      "ID: 101005331144, Description: 17 Duncan St: car parked blocking fire hydrant and corner of Duncan Place/Duncan Street making exit/entering difficult and dangerous.\n"
     ]
    }
   ],
   "source": [
    "getDesAndIDOfKeyWord(service_drescriptions_df, \"Description\", \" hydrant \", 15)\n",
    "# IDs of fire hydrant parking Incidents:\n",
    "gt_hydrant_ids = [101005335836, 101005335320, 101005335227, 101005334484, 101005334236, 101005331891, 101005333965, 101005333882, 101005333064, 101005331333]"
   ]
  },
  {
   "cell_type": "code",
   "execution_count": 15,
   "metadata": {},
   "outputs": [
    {
     "name": "stdout",
     "output_type": "stream",
     "text": [
      "ID: 101005335787, Description: Tow zone & parked on sidewalk | How is the car parked illegally: [Other]  Details: [black nissian and grey sedan]  Make: [Hyundai]  Color: [Blue]\n",
      "ID: 101005335744, Description: White Cadillac suv on sidewalk 30 baker st WR\n",
      "ID: 101005335283, Description: Illegal parking blocking sidewalk at a handicapped space.\n",
      "ID: 101005335233, Description: -- auto translated (en) -- Date 3/2/24 12:30am  Front of 14 porter st east Boston. I work for public safety.  My client is 14 porter st east Boston. North Suffolk community service.  The client told me to try to keep the sidewalk handicap ramp open. Due to having medical treatment, appt, as well for the First responder.  There is a 24/7 crisis team here. Sometime is difficult to bring patients and due to the blocking of the handicap ramp.  As well if there can be a sign and pole. Place there as well. This has been on going issues. Plus at night when people park.  Because they go to the night clubs.. I know because I see everything in the CCTV camera’s. Thank you -- original (en) -- Date 3/2/24 12:30am \n",
      "Front of 14 porter st east Boston.\n",
      "I work for public safety.  My client is 14 porter st east Boston. North Suffolk community service. \n",
      "\n",
      "The client told me to try to keep the sidewalk handicap ramp open. Due to having medical treatment, appt, as well for the First responder.  There is a 24/7 crisis team here. Sometime is difficult to bring patients and due to the blocking of the handicap ramp.  As well if there can be a sign and pole. Place there as well. This has been on going issues. Plus at night when people park.  Because they go to the night clubs.. I know because I see everything in the CCTV camera’s.\n",
      "\n",
      "Thank you\n",
      "ID: 101005335226, Description: Cars parked illegally on sidewalk of odd side of Moody St\n",
      "ID: 101005335152, Description: -- auto translated (en) -- There’s always someone parked here I feel like, and it makes crossing on the sidewalk dangerous for pedestrians. North side of Blossom St as it enters Storrow -- original (en) -- There’s always someone parked here I feel like, and it makes crossing on the sidewalk dangerous for pedestrians. North side of Blossom St as it enters Storrow\n",
      "ID: 101005335135, Description: -- auto translated (en) -- A truck on the sidewalk blocking the Church’s steps and the sidewalk  -- original (en) -- A truck on the sidewalk blocking the Church’s steps and the sidewalk\n",
      "ID: 101005335120, Description: Black pickup truck parked on the sidewalk on Manthorne Rd between Rickerhill St and the VFW, going toward the VFW.\n",
      "ID: 101005335030, Description: Truck is parked in sidewalk and too close to fire hydrant.\n",
      "ID: 101005334919, Description: Parked on sidewalk every day. Just before 222 Lake Street.\n",
      "ID: 101005334755, Description: White jeep suv blocking the sidewalk by illegally parking over it\n",
      "ID: 101005334258, Description: Car illegally parked on the sidewalk and a person in a wheelchair had to go out in the street to get around it\n",
      "ID: 101005333797, Description: Tow cars parked on sidewalk blocking pedestrians. This is unacceptable and dangerous.\n",
      "ID: 101005333404, Description: parked on sidewalk | How is the car parked illegally: [Other]  Type of vehicle: [Car]  Details: [several cars parked on sidewalk]  Make: [Unknown]  Model: [4DR]  Color: [Unknown]\n",
      "ID: 101005333127, Description: Cars, Vans parked on sidewalk everyday, night....on Athens St from  Dst to Bst ... please patrol\n"
     ]
    }
   ],
   "source": [
    "getDesAndIDOfKeyWord(service_drescriptions_df, \"Description\", \" sidewalk \", 15)\n",
    "# IDs of sidewalk blocking Incidents:\n",
    "gt_sidewalk_ids = [101005335787, 101005335744, 101005335226, 101005335233, 101005335226, 101005335135, 101005335120, 101005334919, 101005334755, 101005334258]"
   ]
  },
  {
   "cell_type": "code",
   "execution_count": 20,
   "metadata": {},
   "outputs": [
    {
     "name": "stdout",
     "output_type": "stream",
     "text": [
      "ID: 101005335798, Description: W53069 overhanging driveway at 838 Dot Ave\n",
      "ID: 101005335658, Description: PARTIALLY BLOCKING DRIVEWAY | How is the car parked illegally: [Other]  Make: [Jeep]  Model: [SUV]  Color: [RedOrange]  Vehicle License Plate Registration: [7MEN50]\n",
      "ID: 101005335501, Description: Can the city please enforce this on weekends? Car in marked tow zone, residents cant exit driveway on one way street.\n",
      "ID: 101005335488, Description: PARTIALLTY BLOCKING DRIVEWAY | How is the car parked illegally: [Other]  Make: [Ford]  Model: [SUV]  Color: [Black]  Vehicle License Plate Registration: [H12315]  Vehicle License Plate State: [MA]\n",
      "ID: 101005335375, Description: Car parked in front of driveway 50 Woodward street\n",
      "ID: 101005335201, Description: Illegal parking. White Subaru blocking wheelchair access to my driveway and garage\n",
      "ID: 101005335039, Description: Illegally parked car blocking driveway for 5 hours\n",
      "ID: 101005334906, Description: Illegal driveway being used yet again\n",
      "ID: 101005334816, Description: Blocking Driveway | Make: [Toyota]  Model: [SUV]  Color: [GreySilver]  Vehicle License Plate Registration: [2HK866]  Vehicle License Plate State: [MA]\n",
      "ID: 101005334636, Description: Two car on driveway on Pearl St in South end\n",
      "ID: 101005334480, Description: Blocking driveway | How is the car parked illegally: [Other]  Type of vehicle: [Car]  Make: [BMW]  Model: [4DR]  Color: [Black]  Vehicle License Plate Registration: [2CHT44]  Vehicle License Plate State: [MA]\n",
      "ID: 101005332880, Description: Blocking driveway | The closest intersecting street: [Vinton st]  How is the car parked illegally: [Other]  Make: [Toyota]  Model: [4DR]  Color: [GreySilver]  Vehicle License Plate Registration: [2wwf94]  Vehicle License Plate State: [MA]\n",
      "ID: 101005332587, Description: -- auto translated (en) -- Car partially blocking driveway  ? -- original (en) -- Car partially blocking driveway \n",
      "\n",
      "\n",
      "￼\n",
      "ID: 101005332712, Description: blocking driveway | How is the car parked illegally: [Other]  Make: [Honda]  Model: [4DR]  Color: [GreySilver]  Vehicle License Plate Registration: [5MP134]  Vehicle License Plate State: [MA]\n",
      "ID: 101005332575, Description: Car parked halfway in driveway blocking sidewalk for pedestrians please ticket\n"
     ]
    }
   ],
   "source": [
    "getDesAndIDOfKeyWord(service_drescriptions_df, 'Description', ' driveway ', 15)['ID'].array\n",
    "\n",
    "# IDs of hydrant blocking incidents\n",
    "gt_hydrant_ids = [101005335798, 101005335658, 101005335501, 101005335488,\n",
    " 101005335375, 101005335201, 101005335039, 101005334906,\n",
    " 101005334816, 101005334636, 101005334480, 101005332880,\n",
    " 101005332587, 101005332712, 101005332575]"
   ]
  },
  {
   "cell_type": "code",
   "execution_count": 27,
   "metadata": {},
   "outputs": [
    {
     "name": "stdout",
     "output_type": "stream",
     "text": [
      "ID: 101005333519, Description: Car blocking crosswalk for over 24 hours.\n",
      "ID: 101005329346, Description: Car parked on crosswalk blocking handicap ramp.\n",
      "ID: 101005328951, Description: Cars parked in crosswalk everyday. Is this legal? Thanks\n",
      "ID: 101005326287, Description: White Nissan suv parked blocking crosswalk completely\n",
      "ID: 101005324592, Description: Parking in crosswalk and bike lane.\n",
      "ID: 101005325131, Description: This idiot has been parked in the crosswalk for over two hours. Please send BTD to check our neighborhood. This is a busy crosswalk going to the park.\n",
      "ID: 101005303753, Description: Please ticket. This same McLane truck blocks the entire crosswalk every week. We need our crosswalk clear and safe.\n",
      "ID: 101005299140, Description: White Hyundai with CT plate parked in the crosswalk at O & 4th\n",
      "ID: 101005299206, Description: Same Car covering crosswalk and hydrant\n",
      "ID: 101005299868, Description: -- auto translated (en) -- Please note this Classic Crosswalk Catastrophe™. Vehicles blocking ramp, parked on sidewalk, cars not stopping for pedestrians (me), etc. Please stripe. -- original (en) -- Please note this Classic Crosswalk Catastrophe™. Vehicles blocking ramp, parked on sidewalk, cars not stopping for pedestrians (me), etc. Please stripe.\n",
      "ID: 101005297355, Description: in no parking zone, blocking crosswalk | How is the car parked illegally: [Other]  Type of vehicle: [Truck]  Make: [Unknown]  Model: [Truck]  Color: [White]  Vehicle License Plate Registration: [X86568]  Vehicle License Plate State: [MA]\n",
      "ID: 101005297872, Description: Parked right in the crosswalk by Frieda Garcia Park on the corner of Stanhope and Clarendon\n",
      "ID: 101005296848, Description: Same car has been parked on the crosswalk on the corner of Russell and Walker for 3 days.\n",
      "ID: 101005296131, Description: Parked  blocking/in crosswalk mandarin residents! Please police this!\n",
      "ID: 101005284078, Description: Bronco with NH plates blocking crosswalk and curb cut\n"
     ]
    }
   ],
   "source": [
    "getDesAndIDOfKeyWord(service_drescriptions_df, 'Description', ' crosswalk ', 15)['ID'].array.astype(np.int64)\n",
    "\n",
    "gt_crosswalk_ids = [101005333519, 101005329346, 101005328951, 101005326287,\n",
    "       101005324592, 101005325131, 101005303753, 101005299140,\n",
    "       101005299206, 101005299868, 101005297355, 101005297872,\n",
    "       101005296848, 101005296131, 101005284078]"
   ]
  },
  {
   "cell_type": "code",
   "execution_count": 33,
   "metadata": {},
   "outputs": [
    {
     "name": "stdout",
     "output_type": "stream",
     "text": [
      "ID: 101005335352, Description: The constituent states that this vehicle is parked in the handicap spot. The constituetn who had a plaque couldnt park there and called us to report it. | How is the car parked illegally: [Handicapped parking space]  Details: [Black vehicle]  Make: [Unknown]  Model: [4DR]  Color: [Black]  Vehicle License Plate Registration: [3HAT53]  Vehicle License Plate State: [MA]\n",
      "ID: 101005335255, Description: -- auto translated (en) -- Here we go again. My sister is handicapped and all these vehicles keep parking here illegally! No handicap plate or placard.  My sister is handicap and can’t walk far so if she goes out that’s where the van or cars pull up. She has braces on both her ankles.  I shouldn’t have to even have talk about her disability. -- original (en) -- Here we go again. My sister is handicapped and all these vehicles keep parking here illegally! No handicap plate or placard.  My sister is handicap and can’t walk far so if she goes out that’s where the van or cars pull up. She has braces on both her ankles.  I shouldn’t have to even have talk about her disability.\n",
      "ID: 101005335233, Description: -- auto translated (en) -- Date 3/2/24 12:30am  Front of 14 porter st east Boston. I work for public safety.  My client is 14 porter st east Boston. North Suffolk community service.  The client told me to try to keep the sidewalk handicap ramp open. Due to having medical treatment, appt, as well for the First responder.  There is a 24/7 crisis team here. Sometime is difficult to bring patients and due to the blocking of the handicap ramp.  As well if there can be a sign and pole. Place there as well. This has been on going issues. Plus at night when people park.  Because they go to the night clubs.. I know because I see everything in the CCTV camera’s. Thank you -- original (en) -- Date 3/2/24 12:30am \n",
      "Front of 14 porter st east Boston.\n",
      "I work for public safety.  My client is 14 porter st east Boston. North Suffolk community service. \n",
      "\n",
      "The client told me to try to keep the sidewalk handicap ramp open. Due to having medical treatment, appt, as well for the First responder.  There is a 24/7 crisis team here. Sometime is difficult to bring patients and due to the blocking of the handicap ramp.  As well if there can be a sign and pole. Place there as well. This has been on going issues. Plus at night when people park.  Because they go to the night clubs.. I know because I see everything in the CCTV camera’s.\n",
      "\n",
      "Thank you\n",
      "ID: 101005335154, Description: Red car parked impeding handicap ramp and pedestrian path.\n",
      "ID: 101005334389, Description: commercial car parked in handicap spot\n",
      "ID: 101005334031, Description: This vehicle parks everyday/night in this Handicap parking spot. There are Handicap children in this building and their parents can't park here because of this vehicle. | How is the car parked illegally: [Handicapped parking space]  Make: [Unknown]  Model: [4DR]  Color: [GreySilver]  Vehicle License Plate Registration: [2THZ45]  Vehicle License Plate State: [MA]\n",
      "ID: 101005332490, Description: Car parked blocking cross walk & handicap ramp\n",
      "ID: 101005333034, Description: Constituent reports vehicle is parked 3 ft off the curb and partially parked in a handicap parking spot. | The closest intersecting street: [Douglas st]  How is the car parked illegally: [Handicapped parking space]  Type of vehicle: [Car]  Make: [Jaguar]  Model: [2DR]  Color: [White]  Vehicle License Plate Registration: [n/a]\n",
      "ID: 101005333785, Description: Car parked in my handicap spot with no placet.  435 Frankfort street East boston. Thank you\n",
      "ID: 101005333171, Description: Car blocking handicap ramp\n",
      "ID: 101005332888, Description: Parked in handicap spot not handicapped car\n",
      "ID: 101005332274, Description: Parking at a handicap spot without a handicap permit.\n",
      "ID: 101005332396, Description: -- auto translated (en) -- Two cars parked in handicap accessible spots in the Overlook at St. Gabriel’s parking garage. They have no handicap tags or plates. Please ticket and tow. When entering the parking garage, go straight all the way to the back. They are to the left next to the doors to the West building elevator. -- original (en) -- Two cars parked in handicap accessible spots in the Overlook at St. Gabriel’s parking garage. They have no handicap tags or plates. Please ticket and tow. When entering the parking garage, go straight all the way to the back. They are to the left next to the doors to the West building elevator.\n",
      "ID: 101005330140, Description: And once again, no handicap plate or placard! Please send someone.\n",
      "ID: 101005329606, Description: Cars always park in the fire lane or handicap parking spaces after this gym. This is the planet fitness at 500 neponset avenue\n"
     ]
    }
   ],
   "source": [
    "gt_handicap_ids = getDesAndIDOfKeyWord(service_drescriptions_df, 'Description', ' handicap ', 15)['ID'].array.astype(np.int64)"
   ]
  },
  {
   "cell_type": "code",
   "execution_count": 36,
   "metadata": {},
   "outputs": [
    {
     "name": "stdout",
     "output_type": "stream",
     "text": [
      "ID: 101005335675, Description: Parking and double parking in no stopping zone, across the street from a parking garage\n",
      "ID: 101005334898, Description: Another double parked car on Boylston Street\n",
      "ID: 101005334810, Description: Constituent requests Copley Square be monitored regularly for ongoing violations of double parking and parking in bus lanes. States this creates safety issues for the public. | How is the car parked illegally: [Other]\n",
      "ID: 101005334627, Description: White car double parked for an hour\n",
      "ID: 101005334300, Description: Illegally double parked\n",
      "ID: 101005333973, Description: -- auto translated (en) -- Illegally Double parked blocking the bus lane Dunkin’ Donuts customers -- original (en) -- Illegally Double parked blocking the bus lane Dunkin’ Donuts customers\n",
      "ID: 101005333847, Description: Bedlam in Copley square.  Busses stopped in the bus lanes.  Double parking, motor scooters traveling on the sidewalks.   Someone is going to get hurt in all this craziness.  Mayor Wu, please do something about this!!\n",
      "ID: 101005333577, Description: Vehicles regularly double parking at the salon. Also blockign | The closest intersecting street: [W concord]  How is the car parked illegally: [Double parked]  Make: [Nissan]  Model: [4DR]  Color: [GreySilver]\n",
      "ID: 101005332722, Description: Locking open parked spots illegally double parked\n",
      "ID: 101005331468, Description: Truck double parked since 7am\n",
      "ID: 101005329946, Description: Multiple vehicles parking illegally and double parking on north street (between Clark street and Fleet Street). They are block long resident only spots, park illegally and they are left unattended for hours. Please ticket for once.\n",
      "ID: 101005331007, Description: Illegally double parked at Boston Ballet!!!\n",
      "ID: 101005331011, Description: Illegally double parked on Bradford and Milford St!\n",
      "ID: 101005329985, Description: -- auto translated (en) -- Double Parking on both sides of L st by W. Broadway - every day - dangerous with cars and people crossing the street thru traffic, also there’s a lane drop there as well making it worse -- original (en) -- Double Parking on both sides of L st by W. Broadway - every day - dangerous with cars and people crossing the street thru traffic, also there’s a lane drop there as well making it worse\n",
      "ID: 101005330964, Description: Constituent states there are multiple cars double parked in front of the businesses. Constituent is requesting inspection and ticket | How is the car parked illegally: [Double parked]\n"
     ]
    }
   ],
   "source": [
    "gt_double_parking_ids = getDesAndIDOfKeyWord(service_drescriptions_df, 'Description', ' double ', 15)['ID'].array.astype(np.int64)"
   ]
  },
  {
   "cell_type": "code",
   "execution_count": 37,
   "metadata": {},
   "outputs": [
    {
     "name": "stdout",
     "output_type": "stream",
     "text": [
      "ID: 101005335675, Description: Parking and double parking in no stopping zone, across the street from a parking garage\n",
      "ID: 101005335373, Description: No Stopping | How is the car parked illegally: [Other]  Type of vehicle: [SUV]  Make: [Ford]  Model: [SUV]\n",
      "ID: 101005335207, Description: Car parked in no stopping zone and very far from curb. Hard for cars to pass\n",
      "ID: 101005334804, Description: large amount of cars in no stopping tow zone in front of the hodspital. At least 10. | How is the car parked illegally: [Fire lane]  Make: [Unknown]  Model: [4DR]  Color: [Unknown]\n",
      "ID: 101005333987, Description: Green mini cooper parked in no stopping zone\n",
      "ID: 101005333943, Description: Mercedes parked in No stopping zone\n",
      "ID: 101005333811, Description: Red bmw parked in No stopping zone going up brooks\n",
      "ID: 101005332081, Description: Can BTD please enforce all the cars blocking the No Stopping areas around Longwood.  Brookline Ave is filled with illegally parked cars blocking bike lane and travel lane, preventing traffic including medical transports from safely navigating area.  Ongoing problems, need visible enforcement.\n",
      "ID: 101005330950, Description: 4-5 cars parked in NO STOPPING ZONE partially blocking traffic\n",
      "ID: 101005328856, Description: Black sedan parked in no stopping zone\n",
      "ID: 101005327975, Description: Illegal/overnight parking in a no stopping zone, blocking sidewalk and trash pick up.\n",
      "ID: 101005328804, Description: -- auto translated (en) -- No stopping anytime -- original (zh-CN) -- no stoping anytime\n",
      "ID: 101005327240, Description: -- auto translated (en) -- No Chinatown residents parking facilities in residents parking space -- original (zh-CN) -- No Chinatown residents parking permits stopping  in residents parking space\n",
      "ID: 101005325653, Description: no standing no stopping | How is the car parked illegally: [Other]  Type of vehicle: [SUV]  Make: [Chevy]  Model: [4DR]  Color: [Black]  Vehicle License Plate Registration: [uknown]\n",
      "ID: 101005328120, Description: -- auto translated (en) -- No Chinatown residents parking spaces provided in residents parking space for 2 weeks  -- original (zh-CN) -- No Chinatown residents parking permits stopping  in residents parking space for 2 weeks\n"
     ]
    }
   ],
   "source": [
    "gt_stopping_ids = getDesAndIDOfKeyWord(service_drescriptions_df, 'Description', ' stopping ', 15)['ID'].array.astype(np.int64)"
   ]
  },
  {
   "cell_type": "code",
   "execution_count": 38,
   "metadata": {},
   "outputs": [
    {
     "name": "stdout",
     "output_type": "stream",
     "text": [
      "ID: 101005335815, Description: Mar-2-2024, cars using this spot for garage parking. Area is intersection between Mansur St & Grew Ave Roslindale. Iron-gate/shed area please refer to picture.  There is garbage in that same area as well. Dark blue sedan plate # 3KAG26 uses this place for extended periods of time Grey Camry 3AAB49 frequent visitor to Unit 137B who  plays EXTREMELY LOUD music     Please put signage as requested before.\n",
      "ID: 101005334932, Description: Vehicle with RI plates parked in 2 hour visitor spot for 24 hours now. No ticket.\n",
      "ID: 101005332804, Description: Cars without resident stickers parking all day in 2-hour visitor zone, leaving visitors no place to park. Noted especially Blue Infiniti SUV George plate SBE6559 that has become a regular. Need to be overtimed.\n",
      "ID: 101005329589, Description: Out of state car parked in 2 hour visitor spot for +24 hours\n",
      "ID: 101005328000, Description: -- auto translated (en) -- There is silver Toyota SUV (plate #5RW 714) that doesn’t have a resident parking sticker that has been parked in the visitor parking area on the corner of Hampstead Rd and Arborway in Jamaica Plain since Tuesday, 2/20/24 located on the left as you enter Hampstead Rd. It’s not fair for tax paying residents that have resident parking permits to park blocks away. -- original (en) -- There is silver Toyota SUV (plate #5RW 714) that doesn’t have a resident parking sticker that has been parked in the visitor parking area on the corner of Hampstead Rd and Arborway in Jamaica Plain since Tuesday, 2/20/24 located on the left as you enter Hampstead Rd. It’s not fair for tax paying residents that have resident parking permits to park blocks away.\n",
      "ID: 101005327948, Description: Between 51 and 59 Robinwood cars without resident stickers filled only 2-hour visitor spaces in the neighborhood. Will need to be overtimed.\n",
      "ID: 101005326462, Description: -- auto translated (en) -- What is the penalty for illegal parking? This vehicle had been in 2 hour visitor parking (and it’s 2 hour limited for all-there’s no time exemption for residents) since last weekend.  Further, it is dangerously close to the corner, making it very difficult to turn into the alley. What is the consequence of this? Parking enforcement came though earlier today, clearly saw this vehicle, and did not ticket it. I ask again, what is the consequence of this illegal parking? -- original (en) -- What is the penalty for illegal parking? This vehicle had been in 2 hour visitor parking (and it’s 2 hour limited for all-there’s no time exemption for residents) since last weekend.  Further, it is dangerously close to the corner, making it very difficult to turn into the alley. What is the consequence of this? Parking enforcement came though earlier today, clearly saw this vehicle, and did not ticket it. I ask again, what is the consequence of this illegal parking?\n",
      "ID: 101005325183, Description: -- auto translated (en) -- Gray Mazda Mass Plate ?2YT 584 Visitor Parking No RPP Has Been  Parked Here For Two Days  ?? -- original (en) -- Gray Mazda Mass Plate ￼2YT 584 Visitor Parking No RPP Has Been  Parked Here For Two Days \n",
      "\n",
      "￼￼\n",
      "ID: 101005302912, Description: This car has been in 2 hour visitor parking since Saturday. Just as bad, it is so close to the corner as to make it very difficult to turn into the alley. Please, what is the consequence of this? How long can it stay there?\n",
      "ID: 101005301495, Description: 51-71 Robinwood Avenue, cars without resident stickers parking in resident zone in front of 71 and more cars (est. 5) without resident stickers parking all day in 2-hour visitor zone. They will need to be overtimed. Area has not been enforced in 2 weeks for all-day parkers.\n",
      "ID: 101005300923, Description: -- auto translated (en) -- This car is way too close to the corner, making it nearly impossible to turn just to the alley. It’s also in 2 hour visitor parking and has been here since last night.  -- original (en) -- This car is way too close to the corner, making it nearly impossible to turn just to the alley. It’s also in 2 hour visitor parking and has been here since last night.\n",
      "ID: 101005297043, Description: Cars without resident stickers parking all day in 2-hour visitor slot between 51-57 Robinwood. Affects neighbors with stickers who need spots and visitors to patients in hospital. Over-timing necessary; not done yesterday.\n",
      "ID: 101005297997, Description: -- auto translated (en) -- Still there….the owner has removed all the recently issued citations (thank you) but refuses to remove the vehicle. Is it cheaper to pay all those tickets than to register the car legally in Boston? Taking their chances with one more night of resident parking and then the vehicle can sit undisturbed until Tuesday evening as they enter third week of not moving this car.  Car with New Jersey plates parked in residential space in South Boston. And it’s taking up two spaces. Car remains parked there for weeks at a time and rarely gets ticketed despite numerous calls to 311 because it’s parked in two-hour visitor spot and traffic enforcement needs to swing by twice in one evening. Opposite 428 East 8th Street. -- original (en) -- Still there….the owner has removed all the recently issued citations (thank you) but refuses to remove the vehicle. Is it cheaper to pay all those tickets than to register the car legally in Boston? Taking their chances with one more night of resident parking and then the vehicle can sit undisturbed until Tuesday evening as they enter third week of not moving this car. \n",
      "Car with New Jersey plates parked in residential space in South Boston. And it’s taking up two spaces. Car remains parked there for weeks at a time and rarely gets ticketed despite numerous calls to 311 because it’s parked in two-hour visitor spot and traffic enforcement needs to swing by twice in one evening. Opposite 428 East 8th Street.\n",
      "ID: 101005297116, Description: Cars are parking illegally on a daily basis. The corner of Van Winkle St and Magdala St in Dorchester (02124) has a parking area for visitors on Magdala St. The sign states parking for two hours at a time is allowed. Residents and non-residents (without parking permits/stickers) are parking here all day. Some head for the red line T and return after an apparent working day. Those of us who have genuine visitors find that the visitors have no legal parking due to cars that are in the visitor spot for many hours or all day. While there seems to be occasional parking enforcement on Van Winkle St, there is no consequence for those parking illegally in the visitor parking area. Could someone please attempt to enforce the parking rules here.\n",
      "ID: 101005295791, Description: NY plates parked in visitor parking overnight non resident grey Hyundai\n"
     ]
    }
   ],
   "source": [
    "gt_visitor_ids = getDesAndIDOfKeyWord(service_drescriptions_df, 'Description', ' visitor ', 15).ID.array.astype(np.int64)"
   ]
  }
 ],
 "metadata": {
  "kernelspec": {
   "display_name": "Python 3 (ipykernel)",
   "language": "python",
   "name": "python3"
  },
  "language_info": {
   "codemirror_mode": {
    "name": "ipython",
    "version": 3
   },
   "file_extension": ".py",
   "mimetype": "text/x-python",
   "name": "python",
   "nbconvert_exporter": "python",
   "pygments_lexer": "ipython3",
   "version": "3.10.2"
  }
 },
 "nbformat": 4,
 "nbformat_minor": 4
}
