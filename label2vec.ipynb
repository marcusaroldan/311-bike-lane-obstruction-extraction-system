{
 "cells": [
  {
   "cell_type": "code",
   "execution_count": 25,
   "metadata": {},
   "outputs": [],
   "source": [
    "from gensim.utils import simple_preprocess\n",
    "from gensim.models.doc2vec import TaggedDocument, Doc2Vec\n",
    "import pandas as pd\n",
    "import pickle\n",
    "from sklearn.model_selection import train_test_split\n",
    "from lbl2vec import Lbl2Vec\n",
    "from gensim.downloader import load\n",
    "import numpy as np"
   ]
  },
  {
   "cell_type": "markdown",
   "metadata": {},
   "source": [
    "# Plan Overview:\n",
    "0. Keyword Definition\n",
    "1. Data Preparation\n",
    "2. Model Training"
   ]
  },
  {
   "cell_type": "markdown",
   "metadata": {},
   "source": [
    "### 0. Keyword Definition"
   ]
  },
  {
   "cell_type": "markdown",
   "metadata": {},
   "source": [
    "#### Categories:"
   ]
  },
  {
   "cell_type": "markdown",
   "metadata": {},
   "source": [
    "    1.  Bike Lane Obstruction: bike, cycle, path,  \n",
    "    2.  Bus Lane Obstruction: bus, stop, \n",
    "    3.  Non-resident Parking: resident, state\n",
    "    4.  Blocked Fire Hydrant: fire, hydrant\n",
    "    5.  Blocked Sidewalk: sidewalk, side, walk\n",
    "    6.  Blocked Driveway: driveway, drive, way, private\n",
    "    7.  Blocked Crosswalk: crosswalk, cross, walk\n",
    "    8.  Blocked Handicap spot: handicap, placard,\n",
    "    9.  Double Parking: double, triple\n",
    "    10. No stopping zone: stopping, zone\n",
    "    11. visitor spot: visitor, hour"
   ]
  },
  {
   "cell_type": "code",
   "execution_count": 2,
   "metadata": {},
   "outputs": [
    {
     "data": {
      "text/html": [
       "<div>\n",
       "<style scoped>\n",
       "    .dataframe tbody tr th:only-of-type {\n",
       "        vertical-align: middle;\n",
       "    }\n",
       "\n",
       "    .dataframe tbody tr th {\n",
       "        vertical-align: top;\n",
       "    }\n",
       "\n",
       "    .dataframe thead th {\n",
       "        text-align: right;\n",
       "    }\n",
       "</style>\n",
       "<table border=\"1\" class=\"dataframe\">\n",
       "  <thead>\n",
       "    <tr style=\"text-align: right;\">\n",
       "      <th></th>\n",
       "      <th>category</th>\n",
       "      <th>keywords</th>\n",
       "    </tr>\n",
       "  </thead>\n",
       "  <tbody>\n",
       "    <tr>\n",
       "      <th>0</th>\n",
       "      <td>bike lane</td>\n",
       "      <td>[bike, cycle, cycling, path, sharrow]</td>\n",
       "    </tr>\n",
       "    <tr>\n",
       "      <th>1</th>\n",
       "      <td>bus lane</td>\n",
       "      <td>[bus]</td>\n",
       "    </tr>\n",
       "    <tr>\n",
       "      <th>2</th>\n",
       "      <td>resident parking</td>\n",
       "      <td>[resident, state, plate, plates]</td>\n",
       "    </tr>\n",
       "    <tr>\n",
       "      <th>3</th>\n",
       "      <td>fire hydrant</td>\n",
       "      <td>[fire, hydrant]</td>\n",
       "    </tr>\n",
       "    <tr>\n",
       "      <th>4</th>\n",
       "      <td>sidewalk</td>\n",
       "      <td>[sidewalk, side]</td>\n",
       "    </tr>\n",
       "    <tr>\n",
       "      <th>5</th>\n",
       "      <td>driveway</td>\n",
       "      <td>[driveway, drive, way, private]</td>\n",
       "    </tr>\n",
       "    <tr>\n",
       "      <th>6</th>\n",
       "      <td>crosswalk</td>\n",
       "      <td>[crosswalk, cross]</td>\n",
       "    </tr>\n",
       "    <tr>\n",
       "      <th>7</th>\n",
       "      <td>handicap</td>\n",
       "      <td>[handicap, placard]</td>\n",
       "    </tr>\n",
       "    <tr>\n",
       "      <th>8</th>\n",
       "      <td>double parking</td>\n",
       "      <td>[double, triple]</td>\n",
       "    </tr>\n",
       "    <tr>\n",
       "      <th>9</th>\n",
       "      <td>no stopping</td>\n",
       "      <td>[stopping, loading]</td>\n",
       "    </tr>\n",
       "    <tr>\n",
       "      <th>10</th>\n",
       "      <td>visitor parking</td>\n",
       "      <td>[visitor, hour]</td>\n",
       "    </tr>\n",
       "  </tbody>\n",
       "</table>\n",
       "</div>"
      ],
      "text/plain": [
       "            category                               keywords\n",
       "0          bike lane  [bike, cycle, cycling, path, sharrow]\n",
       "1           bus lane                                  [bus]\n",
       "2   resident parking       [resident, state, plate, plates]\n",
       "3       fire hydrant                        [fire, hydrant]\n",
       "4           sidewalk                       [sidewalk, side]\n",
       "5           driveway        [driveway, drive, way, private]\n",
       "6          crosswalk                     [crosswalk, cross]\n",
       "7           handicap                    [handicap, placard]\n",
       "8     double parking                       [double, triple]\n",
       "9        no stopping                    [stopping, loading]\n",
       "10   visitor parking                        [visitor, hour]"
      ]
     },
     "execution_count": 2,
     "metadata": {},
     "output_type": "execute_result"
    }
   ],
   "source": [
    "category_keywords_dict = {\n",
    "    'bike lane' :           ['bike', 'cycle', 'cycling', 'path', 'sharrow'],\n",
    "    'bus lane' :            ['bus'],\n",
    "    'resident parking' :    ['resident', 'state', 'plate', 'plates'],\n",
    "    'fire hydrant' :        ['fire', 'hydrant'],\n",
    "    'sidewalk' :            ['sidewalk', 'side'],\n",
    "    'driveway' :            ['driveway', 'drive', 'way', 'private'],\n",
    "    'crosswalk' :           ['crosswalk', 'cross'],\n",
    "    'handicap' :            ['handicap', 'placard'],\n",
    "    'double parking' :      ['double', 'triple'],\n",
    "    'no stopping' :         ['stopping', 'loading'],\n",
    "    'visitor parking' :     ['visitor', 'hour']\n",
    "} \n",
    "\n",
    "category_keywords = pd.DataFrame(data=category_keywords_dict.items(), columns=['category', 'keywords'])\n",
    "category_keywords"
   ]
  },
  {
   "cell_type": "markdown",
   "metadata": {},
   "source": [
    "### 1. Data Preparation (Add Lemmatization)"
   ]
  },
  {
   "cell_type": "code",
   "execution_count": 4,
   "metadata": {},
   "outputs": [
    {
     "data": {
      "text/html": [
       "<div>\n",
       "<style scoped>\n",
       "    .dataframe tbody tr th:only-of-type {\n",
       "        vertical-align: middle;\n",
       "    }\n",
       "\n",
       "    .dataframe tbody tr th {\n",
       "        vertical-align: top;\n",
       "    }\n",
       "\n",
       "    .dataframe thead th {\n",
       "        text-align: right;\n",
       "    }\n",
       "</style>\n",
       "<table border=\"1\" class=\"dataframe\">\n",
       "  <thead>\n",
       "    <tr style=\"text-align: right;\">\n",
       "      <th></th>\n",
       "      <th>ID</th>\n",
       "      <th>Description</th>\n",
       "    </tr>\n",
       "  </thead>\n",
       "  <tbody>\n",
       "    <tr>\n",
       "      <th>0</th>\n",
       "      <td>101005335950</td>\n",
       "      <td>Illegal parking in the commercial loading Zone...</td>\n",
       "    </tr>\n",
       "    <tr>\n",
       "      <th>1</th>\n",
       "      <td>101005335949</td>\n",
       "      <td>Red Honda w New York plates illegally parked o...</td>\n",
       "    </tr>\n",
       "    <tr>\n",
       "      <th>2</th>\n",
       "      <td>101005335934</td>\n",
       "      <td>Car completely blocking turn in fire lane</td>\n",
       "    </tr>\n",
       "    <tr>\n",
       "      <th>3</th>\n",
       "      <td>101005335925</td>\n",
       "      <td>Double parking alone mass ave. No enforcement....</td>\n",
       "    </tr>\n",
       "    <tr>\n",
       "      <th>4</th>\n",
       "      <td>101005335924</td>\n",
       "      <td>truck on sidewalk</td>\n",
       "    </tr>\n",
       "  </tbody>\n",
       "</table>\n",
       "</div>"
      ],
      "text/plain": [
       "             ID                                        Description\n",
       "0  101005335950  Illegal parking in the commercial loading Zone...\n",
       "1  101005335949  Red Honda w New York plates illegally parked o...\n",
       "2  101005335934          Car completely blocking turn in fire lane\n",
       "3  101005335925  Double parking alone mass ave. No enforcement....\n",
       "4  101005335924                                  truck on sidewalk"
      ]
     },
     "execution_count": 4,
     "metadata": {},
     "output_type": "execute_result"
    }
   ],
   "source": [
    "# Load pickled service descriptions\n",
    "with open('pre-processing/API-responses/service_req_desc_03-02-24_01_09_24.pkl', 'rb') as file:\n",
    "    service_id_to_descriptions:dict = pickle.load(file)\n",
    "\n",
    "# Remove special characters and downcase, then tokenize\n",
    "def tokenize(doc):\n",
    "    return simple_preprocess(doc, deacc=True, min_len=2, max_len=15)\n",
    "\n",
    "service_drescriptions_df = pd.DataFrame(data=service_id_to_descriptions.items(), columns=['ID', 'Description'])\n",
    "service_drescriptions_df.head()"
   ]
  },
  {
   "cell_type": "markdown",
   "metadata": {},
   "source": [
    "#### Test, Training, Validate Split"
   ]
  },
  {
   "cell_type": "code",
   "execution_count": 40,
   "metadata": {},
   "outputs": [],
   "source": [
    "# Train=.70, Validate=.15, Test=.15\n",
    "# Split all data between train, (test AND validate)\n",
    "desc_train, desc_testval = train_test_split(service_drescriptions_df, test_size=.3)\n",
    "\n",
    "# Split (test AND validate) between test, validate\n",
    "# .3 * .5 = 0.15\n",
    "desc_val, desc_test = train_test_split(desc_testval, test_size=0.5)"
   ]
  },
  {
   "cell_type": "code",
   "execution_count": 41,
   "metadata": {},
   "outputs": [
    {
     "data": {
      "text/html": [
       "<div>\n",
       "<style scoped>\n",
       "    .dataframe tbody tr th:only-of-type {\n",
       "        vertical-align: middle;\n",
       "    }\n",
       "\n",
       "    .dataframe tbody tr th {\n",
       "        vertical-align: top;\n",
       "    }\n",
       "\n",
       "    .dataframe thead th {\n",
       "        text-align: right;\n",
       "    }\n",
       "</style>\n",
       "<table border=\"1\" class=\"dataframe\">\n",
       "  <thead>\n",
       "    <tr style=\"text-align: right;\">\n",
       "      <th></th>\n",
       "      <th>ID</th>\n",
       "      <th>Description</th>\n",
       "      <th>data_type</th>\n",
       "    </tr>\n",
       "  </thead>\n",
       "  <tbody>\n",
       "    <tr>\n",
       "      <th>0</th>\n",
       "      <td>101005273058</td>\n",
       "      <td>Constituent reports a white tesla parked in fr...</td>\n",
       "      <td>train</td>\n",
       "    </tr>\n",
       "    <tr>\n",
       "      <th>1</th>\n",
       "      <td>101005239921</td>\n",
       "      <td>More none RPP vehicles with CT plates with no ...</td>\n",
       "      <td>train</td>\n",
       "    </tr>\n",
       "    <tr>\n",
       "      <th>2</th>\n",
       "      <td>101005282207</td>\n",
       "      <td>sidewalk blocked</td>\n",
       "      <td>train</td>\n",
       "    </tr>\n",
       "    <tr>\n",
       "      <th>3</th>\n",
       "      <td>101005300480</td>\n",
       "      <td>Vehicle parked in emergency vehicle access zon...</td>\n",
       "      <td>train</td>\n",
       "    </tr>\n",
       "    <tr>\n",
       "      <th>4</th>\n",
       "      <td>101005274751</td>\n",
       "      <td>Dumpster permit expired a week ago. Dumpster s...</td>\n",
       "      <td>train</td>\n",
       "    </tr>\n",
       "  </tbody>\n",
       "</table>\n",
       "</div>"
      ],
      "text/plain": [
       "             ID                                        Description data_type\n",
       "0  101005273058  Constituent reports a white tesla parked in fr...     train\n",
       "1  101005239921  More none RPP vehicles with CT plates with no ...     train\n",
       "2  101005282207                                   sidewalk blocked     train\n",
       "3  101005300480  Vehicle parked in emergency vehicle access zon...     train\n",
       "4  101005274751  Dumpster permit expired a week ago. Dumpster s...     train"
      ]
     },
     "execution_count": 41,
     "metadata": {},
     "output_type": "execute_result"
    }
   ],
   "source": [
    "desc_train['data_type'] = 'train'\n",
    "desc_test['data_type'] = 'test'\n",
    "desc_val['data_type'] = 'validate'\n",
    "\n",
    "all_descriptions = pd.concat([desc_train, desc_test, desc_val]).reset_index(drop=True)\n",
    "all_descriptions.head()"
   ]
  },
  {
   "cell_type": "markdown",
   "metadata": {},
   "source": [
    "#### Service ID to Tag function"
   ]
  },
  {
   "cell_type": "code",
   "execution_count": 42,
   "metadata": {},
   "outputs": [],
   "source": [
    "service_id_list = []\n",
    "def service_id_to_tag(service_id:int) -> int:\n",
    "    if service_id in service_id_list:\n",
    "        return service_id_list.index(service_id)\n",
    "    service_id_list.append(service_id)\n",
    "    return len(service_id_list)"
   ]
  },
  {
   "cell_type": "markdown",
   "metadata": {},
   "source": [
    "#### Tagging Descriptions"
   ]
  },
  {
   "cell_type": "code",
   "execution_count": 43,
   "metadata": {},
   "outputs": [
    {
     "data": {
      "text/html": [
       "<div>\n",
       "<style scoped>\n",
       "    .dataframe tbody tr th:only-of-type {\n",
       "        vertical-align: middle;\n",
       "    }\n",
       "\n",
       "    .dataframe tbody tr th {\n",
       "        vertical-align: top;\n",
       "    }\n",
       "\n",
       "    .dataframe thead th {\n",
       "        text-align: right;\n",
       "    }\n",
       "</style>\n",
       "<table border=\"1\" class=\"dataframe\">\n",
       "  <thead>\n",
       "    <tr style=\"text-align: right;\">\n",
       "      <th></th>\n",
       "      <th>ID</th>\n",
       "      <th>Description</th>\n",
       "      <th>data_type</th>\n",
       "      <th>tagged_desc</th>\n",
       "    </tr>\n",
       "  </thead>\n",
       "  <tbody>\n",
       "    <tr>\n",
       "      <th>0</th>\n",
       "      <td>101005273058</td>\n",
       "      <td>Constituent reports a white tesla parked in fr...</td>\n",
       "      <td>train</td>\n",
       "      <td>([constituent, reports, white, tesla, parked, ...</td>\n",
       "    </tr>\n",
       "    <tr>\n",
       "      <th>1</th>\n",
       "      <td>101005239921</td>\n",
       "      <td>More none RPP vehicles with CT plates with no ...</td>\n",
       "      <td>train</td>\n",
       "      <td>([more, none, rpp, vehicles, with, ct, plates,...</td>\n",
       "    </tr>\n",
       "    <tr>\n",
       "      <th>2</th>\n",
       "      <td>101005282207</td>\n",
       "      <td>sidewalk blocked</td>\n",
       "      <td>train</td>\n",
       "      <td>([sidewalk, blocked], [3])</td>\n",
       "    </tr>\n",
       "    <tr>\n",
       "      <th>3</th>\n",
       "      <td>101005300480</td>\n",
       "      <td>Vehicle parked in emergency vehicle access zon...</td>\n",
       "      <td>train</td>\n",
       "      <td>([vehicle, parked, in, emergency, vehicle, acc...</td>\n",
       "    </tr>\n",
       "    <tr>\n",
       "      <th>4</th>\n",
       "      <td>101005274751</td>\n",
       "      <td>Dumpster permit expired a week ago. Dumpster s...</td>\n",
       "      <td>train</td>\n",
       "      <td>([dumpster, permit, expired, week, ago, dumpst...</td>\n",
       "    </tr>\n",
       "  </tbody>\n",
       "</table>\n",
       "</div>"
      ],
      "text/plain": [
       "             ID                                        Description data_type  \\\n",
       "0  101005273058  Constituent reports a white tesla parked in fr...     train   \n",
       "1  101005239921  More none RPP vehicles with CT plates with no ...     train   \n",
       "2  101005282207                                   sidewalk blocked     train   \n",
       "3  101005300480  Vehicle parked in emergency vehicle access zon...     train   \n",
       "4  101005274751  Dumpster permit expired a week ago. Dumpster s...     train   \n",
       "\n",
       "                                         tagged_desc  \n",
       "0  ([constituent, reports, white, tesla, parked, ...  \n",
       "1  ([more, none, rpp, vehicles, with, ct, plates,...  \n",
       "2                         ([sidewalk, blocked], [3])  \n",
       "3  ([vehicle, parked, in, emergency, vehicle, acc...  \n",
       "4  ([dumpster, permit, expired, week, ago, dumpst...  "
      ]
     },
     "execution_count": 43,
     "metadata": {},
     "output_type": "execute_result"
    }
   ],
   "source": [
    "all_descriptions['tagged_desc'] = all_descriptions.apply(lambda row: TaggedDocument(tokenize(row['Description']), [service_id_to_tag(int(row['ID']))]), axis=1)\n",
    "all_descriptions.head()"
   ]
  },
  {
   "cell_type": "markdown",
   "metadata": {},
   "source": [
    "### 2. Model Training"
   ]
  },
  {
   "cell_type": "code",
   "execution_count": 8,
   "metadata": {},
   "outputs": [
    {
     "name": "stderr",
     "output_type": "stream",
     "text": [
      "2024-03-24 14:44:19,192 - Lbl2Vec - INFO - Train document and word embeddings\n",
      "2024-03-24 14:44:34,716 - Lbl2Vec - INFO - Train label embeddings\n",
      "2024-03-24 14:44:34,719 - Lbl2Vec - WARNING - The following keywords from the 'keywords_list' are unknown to the Doc2Vec model and therefore not used to train the model: cycle cycling sharrow\n"
     ]
    }
   ],
   "source": [
    "model = Lbl2Vec(\n",
    "    keywords_list=list(category_keywords['keywords']),\n",
    "    tagged_documents=all_descriptions['tagged_desc'][all_descriptions['data_type'] == 'train'],\n",
    "    vector_size=300, \n",
    "    min_count=1, \n",
    "    similarity_threshold=0.3\n",
    "    )\n",
    "\n",
    "model.fit()"
   ]
  },
  {
   "cell_type": "markdown",
   "metadata": {},
   "source": [
    "#### Predict Description Labels"
   ]
  },
  {
   "cell_type": "code",
   "execution_count": 16,
   "metadata": {},
   "outputs": [
    {
     "name": "stderr",
     "output_type": "stream",
     "text": [
      "2024-03-24 15:04:14,697 - Lbl2Vec - INFO - Get document embeddings from model\n",
      "2024-03-24 15:04:14,714 - Lbl2Vec - INFO - Calculate document<->label similarities\n"
     ]
    },
    {
     "data": {
      "text/html": [
       "<div>\n",
       "<style scoped>\n",
       "    .dataframe tbody tr th:only-of-type {\n",
       "        vertical-align: middle;\n",
       "    }\n",
       "\n",
       "    .dataframe tbody tr th {\n",
       "        vertical-align: top;\n",
       "    }\n",
       "\n",
       "    .dataframe thead th {\n",
       "        text-align: right;\n",
       "    }\n",
       "</style>\n",
       "<table border=\"1\" class=\"dataframe\">\n",
       "  <thead>\n",
       "    <tr style=\"text-align: right;\">\n",
       "      <th></th>\n",
       "      <th>doc_key</th>\n",
       "      <th>most_similar_label</th>\n",
       "      <th>highest_similarity_score</th>\n",
       "      <th>label_0</th>\n",
       "      <th>label_1</th>\n",
       "      <th>label_2</th>\n",
       "      <th>label_3</th>\n",
       "      <th>label_4</th>\n",
       "      <th>label_5</th>\n",
       "      <th>label_6</th>\n",
       "      <th>label_7</th>\n",
       "      <th>label_8</th>\n",
       "      <th>label_9</th>\n",
       "      <th>label_10</th>\n",
       "    </tr>\n",
       "  </thead>\n",
       "  <tbody>\n",
       "    <tr>\n",
       "      <th>0</th>\n",
       "      <td>0</td>\n",
       "      <td>label_10</td>\n",
       "      <td>0.030059</td>\n",
       "      <td>0.030044</td>\n",
       "      <td>0.029812</td>\n",
       "      <td>0.030044</td>\n",
       "      <td>0.030041</td>\n",
       "      <td>0.030045</td>\n",
       "      <td>0.030045</td>\n",
       "      <td>0.030045</td>\n",
       "      <td>0.030044</td>\n",
       "      <td>0.030046</td>\n",
       "      <td>0.030043</td>\n",
       "      <td>0.030059</td>\n",
       "    </tr>\n",
       "    <tr>\n",
       "      <th>1</th>\n",
       "      <td>1</td>\n",
       "      <td>label_8</td>\n",
       "      <td>0.891777</td>\n",
       "      <td>0.891746</td>\n",
       "      <td>0.891280</td>\n",
       "      <td>0.891738</td>\n",
       "      <td>0.891760</td>\n",
       "      <td>0.891750</td>\n",
       "      <td>0.891740</td>\n",
       "      <td>0.891714</td>\n",
       "      <td>0.891701</td>\n",
       "      <td>0.891777</td>\n",
       "      <td>0.891738</td>\n",
       "      <td>0.891652</td>\n",
       "    </tr>\n",
       "    <tr>\n",
       "      <th>2</th>\n",
       "      <td>2</td>\n",
       "      <td>label_10</td>\n",
       "      <td>0.925019</td>\n",
       "      <td>0.924969</td>\n",
       "      <td>0.924613</td>\n",
       "      <td>0.924977</td>\n",
       "      <td>0.924966</td>\n",
       "      <td>0.924966</td>\n",
       "      <td>0.924971</td>\n",
       "      <td>0.924978</td>\n",
       "      <td>0.924982</td>\n",
       "      <td>0.924956</td>\n",
       "      <td>0.924966</td>\n",
       "      <td>0.925019</td>\n",
       "    </tr>\n",
       "    <tr>\n",
       "      <th>3</th>\n",
       "      <td>3</td>\n",
       "      <td>label_8</td>\n",
       "      <td>0.425022</td>\n",
       "      <td>0.424991</td>\n",
       "      <td>0.424655</td>\n",
       "      <td>0.424978</td>\n",
       "      <td>0.425001</td>\n",
       "      <td>0.424993</td>\n",
       "      <td>0.424983</td>\n",
       "      <td>0.424952</td>\n",
       "      <td>0.424942</td>\n",
       "      <td>0.425022</td>\n",
       "      <td>0.424979</td>\n",
       "      <td>0.424882</td>\n",
       "    </tr>\n",
       "    <tr>\n",
       "      <th>4</th>\n",
       "      <td>4</td>\n",
       "      <td>label_1</td>\n",
       "      <td>0.952883</td>\n",
       "      <td>0.952849</td>\n",
       "      <td>0.952883</td>\n",
       "      <td>0.952850</td>\n",
       "      <td>0.952850</td>\n",
       "      <td>0.952850</td>\n",
       "      <td>0.952849</td>\n",
       "      <td>0.952853</td>\n",
       "      <td>0.952853</td>\n",
       "      <td>0.952845</td>\n",
       "      <td>0.952848</td>\n",
       "      <td>0.952859</td>\n",
       "    </tr>\n",
       "    <tr>\n",
       "      <th>...</th>\n",
       "      <td>...</td>\n",
       "      <td>...</td>\n",
       "      <td>...</td>\n",
       "      <td>...</td>\n",
       "      <td>...</td>\n",
       "      <td>...</td>\n",
       "      <td>...</td>\n",
       "      <td>...</td>\n",
       "      <td>...</td>\n",
       "      <td>...</td>\n",
       "      <td>...</td>\n",
       "      <td>...</td>\n",
       "      <td>...</td>\n",
       "      <td>...</td>\n",
       "    </tr>\n",
       "    <tr>\n",
       "      <th>6838</th>\n",
       "      <td>6838</td>\n",
       "      <td>label_8</td>\n",
       "      <td>0.976301</td>\n",
       "      <td>0.976290</td>\n",
       "      <td>0.976172</td>\n",
       "      <td>0.976287</td>\n",
       "      <td>0.976296</td>\n",
       "      <td>0.976291</td>\n",
       "      <td>0.976286</td>\n",
       "      <td>0.976277</td>\n",
       "      <td>0.976273</td>\n",
       "      <td>0.976301</td>\n",
       "      <td>0.976286</td>\n",
       "      <td>0.976248</td>\n",
       "    </tr>\n",
       "    <tr>\n",
       "      <th>6839</th>\n",
       "      <td>6839</td>\n",
       "      <td>label_1</td>\n",
       "      <td>0.983041</td>\n",
       "      <td>0.982897</td>\n",
       "      <td>0.983041</td>\n",
       "      <td>0.982900</td>\n",
       "      <td>0.982894</td>\n",
       "      <td>0.982897</td>\n",
       "      <td>0.982900</td>\n",
       "      <td>0.982908</td>\n",
       "      <td>0.982911</td>\n",
       "      <td>0.982889</td>\n",
       "      <td>0.982900</td>\n",
       "      <td>0.982928</td>\n",
       "    </tr>\n",
       "    <tr>\n",
       "      <th>6840</th>\n",
       "      <td>6840</td>\n",
       "      <td>label_10</td>\n",
       "      <td>0.925339</td>\n",
       "      <td>0.925228</td>\n",
       "      <td>0.924340</td>\n",
       "      <td>0.925246</td>\n",
       "      <td>0.925211</td>\n",
       "      <td>0.925222</td>\n",
       "      <td>0.925233</td>\n",
       "      <td>0.925255</td>\n",
       "      <td>0.925260</td>\n",
       "      <td>0.925201</td>\n",
       "      <td>0.925231</td>\n",
       "      <td>0.925339</td>\n",
       "    </tr>\n",
       "    <tr>\n",
       "      <th>6841</th>\n",
       "      <td>6841</td>\n",
       "      <td>label_8</td>\n",
       "      <td>0.882172</td>\n",
       "      <td>0.882154</td>\n",
       "      <td>0.881970</td>\n",
       "      <td>0.882149</td>\n",
       "      <td>0.882164</td>\n",
       "      <td>0.882157</td>\n",
       "      <td>0.882151</td>\n",
       "      <td>0.882137</td>\n",
       "      <td>0.882129</td>\n",
       "      <td>0.882172</td>\n",
       "      <td>0.882146</td>\n",
       "      <td>0.882101</td>\n",
       "    </tr>\n",
       "    <tr>\n",
       "      <th>6842</th>\n",
       "      <td>6842</td>\n",
       "      <td>label_8</td>\n",
       "      <td>0.983951</td>\n",
       "      <td>0.983949</td>\n",
       "      <td>0.983708</td>\n",
       "      <td>0.983949</td>\n",
       "      <td>0.983950</td>\n",
       "      <td>0.983948</td>\n",
       "      <td>0.983946</td>\n",
       "      <td>0.983943</td>\n",
       "      <td>0.983941</td>\n",
       "      <td>0.983951</td>\n",
       "      <td>0.983946</td>\n",
       "      <td>0.983933</td>\n",
       "    </tr>\n",
       "  </tbody>\n",
       "</table>\n",
       "<p>6843 rows × 14 columns</p>\n",
       "</div>"
      ],
      "text/plain": [
       "      doc_key most_similar_label  highest_similarity_score   label_0  \\\n",
       "0           0           label_10                  0.030059  0.030044   \n",
       "1           1            label_8                  0.891777  0.891746   \n",
       "2           2           label_10                  0.925019  0.924969   \n",
       "3           3            label_8                  0.425022  0.424991   \n",
       "4           4            label_1                  0.952883  0.952849   \n",
       "...       ...                ...                       ...       ...   \n",
       "6838     6838            label_8                  0.976301  0.976290   \n",
       "6839     6839            label_1                  0.983041  0.982897   \n",
       "6840     6840           label_10                  0.925339  0.925228   \n",
       "6841     6841            label_8                  0.882172  0.882154   \n",
       "6842     6842            label_8                  0.983951  0.983949   \n",
       "\n",
       "       label_1   label_2   label_3   label_4   label_5   label_6   label_7  \\\n",
       "0     0.029812  0.030044  0.030041  0.030045  0.030045  0.030045  0.030044   \n",
       "1     0.891280  0.891738  0.891760  0.891750  0.891740  0.891714  0.891701   \n",
       "2     0.924613  0.924977  0.924966  0.924966  0.924971  0.924978  0.924982   \n",
       "3     0.424655  0.424978  0.425001  0.424993  0.424983  0.424952  0.424942   \n",
       "4     0.952883  0.952850  0.952850  0.952850  0.952849  0.952853  0.952853   \n",
       "...        ...       ...       ...       ...       ...       ...       ...   \n",
       "6838  0.976172  0.976287  0.976296  0.976291  0.976286  0.976277  0.976273   \n",
       "6839  0.983041  0.982900  0.982894  0.982897  0.982900  0.982908  0.982911   \n",
       "6840  0.924340  0.925246  0.925211  0.925222  0.925233  0.925255  0.925260   \n",
       "6841  0.881970  0.882149  0.882164  0.882157  0.882151  0.882137  0.882129   \n",
       "6842  0.983708  0.983949  0.983950  0.983948  0.983946  0.983943  0.983941   \n",
       "\n",
       "       label_8   label_9  label_10  \n",
       "0     0.030046  0.030043  0.030059  \n",
       "1     0.891777  0.891738  0.891652  \n",
       "2     0.924956  0.924966  0.925019  \n",
       "3     0.425022  0.424979  0.424882  \n",
       "4     0.952845  0.952848  0.952859  \n",
       "...        ...       ...       ...  \n",
       "6838  0.976301  0.976286  0.976248  \n",
       "6839  0.982889  0.982900  0.982928  \n",
       "6840  0.925201  0.925231  0.925339  \n",
       "6841  0.882172  0.882146  0.882101  \n",
       "6842  0.983951  0.983946  0.983933  \n",
       "\n",
       "[6843 rows x 14 columns]"
      ]
     },
     "execution_count": 16,
     "metadata": {},
     "output_type": "execute_result"
    }
   ],
   "source": [
    "model.predict_model_docs()"
   ]
  },
  {
   "cell_type": "markdown",
   "metadata": {},
   "source": [
    "####  Manually Catagorize Data"
   ]
  },
  {
   "cell_type": "code",
   "execution_count": 8,
   "metadata": {},
   "outputs": [],
   "source": [
    "def getDesAndIDOfKeyWord(dataframe, column, keyword, n_entries):\n",
    "    \"\"\"\n",
    "    Filters the dataframe to only include rows where the specified column contains the keyword.\n",
    "\n",
    "    Parameters:\n",
    "    - dataframe: The pandas DataFrame to filter.\n",
    "    - column: The name of the column in the DataFrame to search for the keyword.\n",
    "    - keyword: The keyword to search for within the specified column.\n",
    "    - n_entries: Number of entries to display.\n",
    "\n",
    "    Prints the ID and Description of entries where the specified column contains the keyword\n",
    "    \"\"\"\n",
    "    # Filter the DataFrame\n",
    "    filtered_df = dataframe[dataframe[column].astype(str).str.contains(keyword, case=False, na=False)]\n",
    "    \n",
    "    # Get the first n_entries\n",
    "    n_entDF = filtered_df.head(n_entries)\n",
    "\n",
    "    # Print the desired output\n",
    "    for index, row in n_entDF.iterrows():\n",
    "        print(f\"ID: {row['ID']}, {column}: {row[column]}\")\n",
    "    return n_entDF"
   ]
  },
  {
   "cell_type": "code",
   "execution_count": 57,
   "metadata": {},
   "outputs": [
    {
     "name": "stdout",
     "output_type": "stream",
     "text": [
      "ID: 101005231551, Description: Tow cars parked in bus stop\n",
      "ID: 101005284921, Description: Blocking bus due to double parked donut patrons inbound and outbound sides!!!  No enforcement cars been parked 20 minutes here.\n",
      "ID: 101005297064, Description: bus stop, caller has to take the 47 bus to BMC.  Every day there are people parked in the bus stop | The closest intersecting street: [harrison]  How is the car parked illegally: [Other]  Type of vehicle: [Truck]  Make: [Unknown]  Model: [Unknown]  Color: [Unknown]\n",
      "ID: 101005324559, Description: Parked in bus stop. Please ticket.\n",
      "ID: 101005265025, Description: Illegally parked vehicle in bus stop at intersection of E 8th st and N st.  Bus stop has two signs.\n",
      "ID: 101005327864, Description: Illegally parked vehicle in bus stop at intersection of E 8th st and N st.  The bus stop has two signs.\n",
      "ID: 101005276653, Description: -- auto translated (en) -- STATE TROOPER CAR PARKED IN BUS STOP! Please enforce or he’ll think this is okay. -- original (en) -- STATE TROOPER CAR PARKED IN BUS STOP! Please enforce or he’ll think this is okay.\n",
      "ID: 101005194242, Description: 168 west seventh. Parked all night and morning like this. Cars are swerving to avoid and on school bus route. Please ticket and tow\n",
      "ID: 101005186865, Description: Bus cannot pull in because there is a car in the bus stop\n",
      "ID: 101005325698, Description: Charlestown Liquors blocking bus stop. Please ticket.\n",
      "ID: 101005289634, Description: Cars parking in the commercial zone again today. You can see this truck cannot park in the space because these cars are there. So the truck parks in the bus lane. Everyday. Very much appreciate you taking care of this yesterday by ticketing, but other cars are back today. Thank you.\n",
      "ID: 101005191577, Description: Parking in a school bus zone\n",
      "ID: 101005278004, Description: Parked in bus stop. Please ticket.\n",
      "ID: 101005324131, Description: MA plate 2GFG65 parked in the bus stop. Right next to the no parking sign. Please ticket.\n",
      "ID: 101005204346, Description: Follow-up to #101005204336. Woman with stroller having to board 39 bus in the street. Plate 2CZM42.\n"
     ]
    }
   ],
   "source": [
    "gt_bus_ids = getDesAndIDOfKeyWord(all_descriptions[all_descriptions.data_type == 'test'], \"Description\", \" bus \", 15).ID.array.astype(np.int64)\n",
    "# IDs of 10 Bus Lane Incidents:"
   ]
  },
  {
   "cell_type": "code",
   "execution_count": 58,
   "metadata": {},
   "outputs": [
    {
     "name": "stdout",
     "output_type": "stream",
     "text": [
      "ID: 101005186135, Description: Truck parked in bike lane\n",
      "ID: 101005288825, Description: 3 SUVs parked on the bike lane. Blocking access for bikes.\n",
      "ID: 101005332805, Description: Same car same bike lane 1SJV93\n",
      "ID: 101005186133, Description: Truck blocking bike lane\n",
      "ID: 101005266206, Description: illegal parking in bike lane. Recurring issue in this area. Centre St. West Roxbury\n",
      "ID: 101005231210, Description: Car parked on bike lane\n",
      "ID: 101005186468, Description: Party trolley parked in the bike lane in front of the Liberty Hotel for a long time.\n",
      "ID: 101005187322, Description: Car illegally parked in bike lane\n",
      "ID: 101005296483, Description: Cars parked in no stopping and bike lanes. Intersection of Washington and milk streets\n",
      "ID: 101005333057, Description: Illegal bike lane obstruction. Cars need to be ticketed and towed. Need flex posts to prevent illegal parking.\n",
      "ID: 101005281217, Description: Truck parked right over the crosswalk, in front of Sugar Bakery, (1) blocking the crosswalk, (2) blocking the bike lane, and (3) parked too close to the corner. Please enforce the parking here, or at least put in a planter or something to make this spot less tempting to park! - License plate: 486 JR2 (MA)\n",
      "ID: 101005299787, Description: Driver blocking bike lane\n",
      "ID: 101005187313, Description: Car illegally parked in bike lane\n",
      "ID: 101005278568, Description: Driver in bike lane\n",
      "ID: 101005268512, Description: Parking in bike lane. Against n.\n"
     ]
    }
   ],
   "source": [
    "gt_bike_ids = getDesAndIDOfKeyWord(all_descriptions[all_descriptions.data_type == 'test'], \"Description\", \" bike \", 15).ID.array.astype(np.int64)\n",
    "# IDs of 10 Bike Lane Incidents:\n"
   ]
  },
  {
   "cell_type": "code",
   "execution_count": 59,
   "metadata": {},
   "outputs": [
    {
     "name": "stdout",
     "output_type": "stream",
     "text": [
      "ID: 101005278709, Description: Non-resident parked in resident parking\n",
      "ID: 101005285222, Description: Black Toyota Corolla VA plate UEN-6940 parked in resident permit parking zone during enforced hours without resident parking permit for the last 3 weeks without moving.\n",
      "ID: 101005203879, Description: -- auto translated (en) -- The truck is not getting any permission and permission on resident parking space for more than 6 weeks! Is it legal? I saw 101 Hudson construction workers wanted some from truck!   -- original (zh-CN) -- The truck is not get any permission and stopping on resident parking space for more than 6 weeks !  Is it legal? I saw 101 Hudson construction workers took some from truck!\n",
      "ID: 101005293710, Description: Several cars without resident stickers on our street\n",
      "ID: 101005329804, Description: This car is parked all day and is not a resident of East Boston. 2/27/2014 open 9:01 am\n",
      "ID: 101005301125, Description: Constituent reports a commericsl car parked at this location without a resident sticker. | Make: [Unknown]  Model: [Van]  Color: [White]  Vehicle License Plate Registration: [r45937]  Vehicle License Plate State: [MA]\n",
      "ID: 101005250105, Description: Non-resident parked in resident space\n",
      "ID: 101005296875, Description: Nonresident parked in resident parking\n",
      "ID: 101005271636, Description: Out of state license plates in a resident parking spot\n",
      "ID: 101005239996, Description: -- auto translated (en) -- Jeep Cherokee with Connecticut plate BJ-21220 has been parked in a resident spot for 3 days and hasn’t been ticketed  -- original (en) -- Jeep Cherokee with Connecticut plate BJ-21220 has been parked in a resident spot for 3 days and hasn’t been ticketed\n",
      "ID: 101005297546, Description: Out of state vehicle parked on resident only street. Radnor Rd side of 284 Foster.\n",
      "ID: 101005229569, Description: Reports 5 non resident cars/out of state. | How is the car parked illegally: [Resident parking spot]  Type of vehicle: [Car]  Make: [Unknown]  Model: [Unknown]  Color: [Unknown]\n",
      "ID: 101005202857, Description: Illegally parked cars in resident parking at 14 Union Street. Brighton.  Vehivle is a Red 4 door Subarj with Mass plate 3TRP46.\n",
      "ID: 101005274837, Description: Red Honda accord with New York lic plate illegally parked. No resident sticker\n",
      "ID: 101005252705, Description: He is not a resident of East Boston and he parks all day\n"
     ]
    }
   ],
   "source": [
    "gt_resident_ids = getDesAndIDOfKeyWord(all_descriptions[all_descriptions.data_type == 'test'], \"Description\", \" resident \", 15)\n",
    "# IDs of non-resident parking Incidents:"
   ]
  },
  {
   "cell_type": "code",
   "execution_count": 60,
   "metadata": {},
   "outputs": [
    {
     "name": "stdout",
     "output_type": "stream",
     "text": [
      "ID: 101005274669, Description: -- auto translated (en) -- Not 10’ from hydrant  -- original (en) -- Not 10’ from hydrant\n",
      "ID: 101005277471, Description: Too close to hydrant - third time reporting this issue\n",
      "ID: 101005274476, Description: Constituent states her case keeps getting closed out and the car is still blocking the fire hydrant. Constituent states the car has not moved in 3 days and if there is an emergency the hydrant is blocked. | How is the car parked illegally: [Blocking hydrant]  Details: [Constituent states her case keeps getting closed out and the car is still blocking the fire hydrant. Constituent states the car has not moved in 3 days and if there is an emergency the hydrant is blocked.]  Make: [Nissan]  Model: [4DR]  Color: [White]  Vehicle License Plate Registration: [21509]  Vehicle License Plate State: [IL]\n",
      "ID: 101005293832, Description: Commercial truck constantly parked in front of fire hydrant for residential buliding. White Ford F150 with License Plate X53247. Address: 425 Lagrange St. West Roxbury MA 02132\n",
      "ID: 101005267421, Description: Car blocking hydrant at 15 Linley Terrace south Boston\n",
      "ID: 101005271936, Description: Car parked in front of hydrant for the past few hours\n",
      "ID: 101005249210, Description: Black Kia suv parked at hydrant license plate 2CYB62\n",
      "ID: 101005333965, Description: -- auto translated (en) -- In front of 94 Litchfield St/Brighton. White 4 door car blocking fire hydrant & trash cans (trash pickup b/w 7-8am today/Friday’s). -- original (en) -- In front of 94 Litchfield St/Brighton. White 4 door car blocking fire hydrant & trash cans (trash pickup b/w 7-8am today/Friday’s).\n",
      "ID: 101005283963, Description: White car blocking hydrant please remove safety hazard\n",
      "ID: 101005246059, Description: -- auto translated (en) -- Not 10’ from hydrant  -- original (en) -- Not 10’ from hydrant\n",
      "ID: 101005265090, Description: Blocking hydrant | The closest intersecting street: [Flag]  How is the car parked illegally: [Blocking hydrant]  Make: [Mercedes]  Color: [Black]\n",
      "ID: 101005247465, Description: 542 east fourth st blocking hydrant blue Audi NY  LDA2771\n",
      "ID: 101005325160, Description: Car blocking hydrant very dangerous. 49 high st Charlestown\n",
      "ID: 101005235307, Description: Parked in front of a hydrant and in a tow zone.\n",
      "ID: 101005251602, Description: Fire hydrant parking\n"
     ]
    }
   ],
   "source": [
    "gt_hydrant_ids = getDesAndIDOfKeyWord(all_descriptions[all_descriptions.data_type == 'test'], \"Description\", \" hydrant \", 15).ID.array.astype(np.int64)"
   ]
  },
  {
   "cell_type": "code",
   "execution_count": 61,
   "metadata": {},
   "outputs": [
    {
     "name": "stdout",
     "output_type": "stream",
     "text": [
      "ID: 101005275229, Description: Individual still continuous to park in sidewalk. Can someone speak to this individual. Sidewalk width requirements are especially important for wheelchair-bound individuals. For ADA compliance,\n",
      "ID: 101005334258, Description: Car illegally parked on the sidewalk and a person in a wheelchair had to go out in the street to get around it\n",
      "ID: 101005288957, Description: Tow car parked in road and blocking sidewalk completely\n",
      "ID: 101005298907, Description: Truck parked on sidewalk in front of Napa again. This person pulled in front of me while I was walking up the sidewalk parked his truck completely blocking the sidewalk got out and walked away. The city really needs to do a better job enforcing this because this happens multiple times a week, almost every day there is a car parked on the sidewalk in front of Napa\n",
      "ID: 101005190454, Description: TRUCK PARKED ON SIDEWALK ILLEGALLY\n",
      "ID: 101005328152, Description: Construction Lift blocking sidewalk and impeding motor vehicle traffic. Building is occupancy permits that expired 24 days ago.\n",
      "ID: 101005202691, Description: completely blocking sidewalk access\n",
      "ID: 101005237715, Description: -- auto translated (en) -- Truck and trailer still parked on sidewalk on Silver St. it’s been there over 3 hours. Residents exiting the garage opposite cannot make a left turn. They are forced to go down Silver in the wrong direction. Vehicles must go onto the opposite curb in order to pass. Per the picture the plow was not able to pass. These people have been doing this for months.  -- original (en) -- Truck and trailer still parked on sidewalk on Silver St. it’s been there over 3 hours. Residents exiting the garage opposite cannot make a left turn. They are forced to go down Silver in the wrong direction. Vehicles must go onto the opposite curb in order to pass. Per the picture the plow was not able to pass. These people have been doing this for months.\n",
      "ID: 101005300503, Description: Vehicle is parked on sidewalk & in a Handicap parking space. | How is the car parked illegally: [Handicapped parking space]  Type of vehicle: [SUV]  Make: [Lexus]  Model: [4DR]\n",
      "ID: 101005335226, Description: Cars parked illegally on sidewalk of odd side of Moody St\n",
      "ID: 101005331195, Description: Car parked blocking sidewalk everyday\n",
      "ID: 101005279239, Description: -- auto translated (en) -- How is this expectable  that a BPD vehicle is parked on a SIDEWALK & HP RAMP  for 1hr + not on call  aren’t they supposed to lead by example  -- original (en) -- How is this expectable  that a BPD vehicle is parked on a SIDEWALK & HP RAMP  for 1hr + not on call \n",
      "aren’t they supposed to lead by example\n",
      "ID: 101005194084, Description: Please ticket the van on the sidewalk at 22 Rogers Street.\n",
      "ID: 101005286326, Description: A large truck has been parked on the sidewalk for months! Also it has  an expired registration,  no valid inspection\n",
      "ID: 101005270844, Description: Handicap access to sidewalk blocked by illegally parked car\n"
     ]
    }
   ],
   "source": [
    "gt_sidewalk_ids = getDesAndIDOfKeyWord(all_descriptions[all_descriptions.data_type == 'test'], \"Description\", \" sidewalk \", 15).ID.array.astype(np.int64)"
   ]
  },
  {
   "cell_type": "code",
   "execution_count": 62,
   "metadata": {},
   "outputs": [
    {
     "name": "stdout",
     "output_type": "stream",
     "text": [
      "ID: 101005229843, Description: 610 Walk Hill Street. White GMC parks in front of driveway every day. No one patrols the street so they continue to do it.\n",
      "ID: 101005203145, Description: Kia Forte MA Plates 5HRZ79 obstructing driveway between 211 & 219 W 3RD ST\n",
      "ID: 101005299474, Description: partially blocking driveway | How is the car parked illegally: [Other]  Details: [accord]  Make: [Honda]  Model: [4DR]  Color: [GreySilver]\n",
      "ID: 101005289336, Description: Car blocking our driveway on Linden street\n",
      "ID: 101005292884, Description: Auto from Hudeifa Auto is partially blocking my driveway at 25 Centre Street, Roxbury.\n",
      "ID: 101005334906, Description: Illegal driveway being used yet again\n",
      "ID: 101005281960, Description: Truck parked blocking an active driveway again. In front of format fitness on Hanover street\n",
      "ID: 101005284454, Description: A black jeep 4SRK37 has been blocking the driveway adjacent to 10 Roach Street for many hours. The driver was informed about the violation but did not comply.\n",
      "ID: 101005326413, Description: Car blocking driveway at 54 Crescent Av for 2 days bad for fire and ambulance\n",
      "ID: 101005284044, Description: 4YYP47 blocking driveway at 838 Dorchester Avenue\n",
      "ID: 101005189756, Description: Car parked on Dartmouth blocking driveway into parking lot behind 236 beacon\n",
      "ID: 101005288719, Description: Cars blocking driveway. Send BTD this happens Every day and nothing is done about it. Cant get in my driveway or out of it because of these parents from the school. BTD needs to come around here and fix the issue between the times of 3:35pm and 4:30pm.\n",
      "ID: 101005299600, Description: partially blocking driveway | How is the car parked illegally: [Other]  Details: [White Jeep SUV]  Make: [Honda]  Model: [SUV]  Color: [Black]\n",
      "ID: 101005291674, Description: Constituent reports there is a vehicle that is blocking driveway at this location. | Type of vehicle: [Car]  Make: [Toyota]  Model: [4DR]  Vehicle License Plate Registration: [9lx319]  Vehicle License Plate State: [MA]\n",
      "ID: 101005250431, Description: Blocking the driveway | The closest intersecting street: [Lextington]  How is the car parked illegally: [Other]  Details: [Please tagg and tow]  Vehicle License Plate State: [MA]\n"
     ]
    }
   ],
   "source": [
    "gt_driveway_ids = getDesAndIDOfKeyWord(all_descriptions[all_descriptions.data_type == 'test'], 'Description', ' driveway ', 15).ID.array.astype(np.int64)"
   ]
  },
  {
   "cell_type": "code",
   "execution_count": 63,
   "metadata": {},
   "outputs": [
    {
     "name": "stdout",
     "output_type": "stream",
     "text": [
      "ID: 101005253008, Description: Car parked in a crosswalk at a handicap ramp.\n",
      "ID: 101005279365, Description: -- auto translated (en) -- Corner of 7th & Nst car in crosswalk also blocking part of HP ramp. It is still in ur system from 4days ago. Not 1 ticket because it’s outside my kitchen window so I look starting at5am when I’m up. Let’s do better  -- original (en) -- Corner of 7th & Nst car in crosswalk also blocking part of HP ramp. It is still in ur system from 4days ago. Not 1 ticket because it’s outside my kitchen window so I look starting at5am when I’m up. Let’s do better\n",
      "ID: 101005187394, Description: -- auto translated (en) -- Truck repeatedly parks in tow zone at intersection of Walter and Hewlett street. It block the line-of-sight to the crosswalk and you can’t see children at all. Please come ticket and tow, someone is going to get hit. MA plate V755 -- original (en) -- Truck repeatedly parks in tow zone at intersection of Walter and Hewlett street. It block the line-of-sight to the crosswalk and you can’t see children at all. Please come ticket and tow, someone is going to get hit. MA plate V755\n",
      "ID: 101005263343, Description: -- auto translated (en) -- There is Cadillac SUV, blue in color that is consistently parked at the intersection of Bowker and new Chardon Street that is in an unpaid spot on the courthouse side of new chardon Street , sometimes partially in the crosswalk and sometimes at the crosswalk line. It is difficult to see as you cross the street making a dangerous situation. This is an ongoing problem with the individual as in conducting my business affairs in the city of Boston I have never seen him at minimum receive a ticket. So clearly he’s takin advantage of a poor situation. And aside from that there is an entire row of cars daily parked in an active turning lane on Bowker street in the right turn lane onto new chardon street.  -- original (en) -- There is Cadillac SUV, blue in color that is consistently parked at the intersection of Bowker and new Chardon Street that is in an unpaid spot on the courthouse side of new chardon Street , sometimes partially in the crosswalk and sometimes at the crosswalk line. It is difficult to see as you cross the street making a dangerous situation. This is an ongoing problem with the individual as in conducting my business affairs in the city of Boston I have never seen him at minimum receive a ticket. So clearly he’s takin advantage of a poor situation. And aside from that there is an entire row of cars daily parked in an active turning lane on Bowker street in the right turn lane onto new chardon street.\n",
      "ID: 101005204621, Description: please send enforcement to pilgrim road / gravest neighborhood- many non resident parking - including crosswalk at brookline - thanks\n",
      "ID: 101005291809, Description: in crosswalk | How is the car parked illegally: [Fire lane]  Make: [BMW]  Model: [4DR]  Color: [GreySilver]  Vehicle License Plate State: [AZ]\n",
      "ID: 101005283265, Description: Driver has illegally parked their car in the intersection of the crosswalk and the bike lane.\n",
      "ID: 101005329346, Description: Car parked on crosswalk blocking handicap ramp.\n",
      "ID: 101005231482, Description: Blocking a crosswalk and on top of a hydrant\n",
      "ID: 101005325131, Description: This idiot has been parked in the crosswalk for over two hours. Please send BTD to check our neighborhood. This is a busy crosswalk going to the park.\n",
      "ID: 101005271597, Description: White truck parked in crosswalk   Non resident\n",
      "ID: 101005250747, Description: -- auto translated (en) -- Illegally parked vehicle is obstructing the fire hydrant and crosswalk at 515 Blue Hill Avenue and impeding snow removal… -- original (en) -- Illegally parked vehicle is obstructing the fire hydrant and crosswalk at 515 Blue Hill Avenue and impeding snow removal…\n",
      "ID: 101005202706, Description: Waverly deliveries always obstruct the crosswalk again. Made life with. Stroller difficult.  When can we get any kind of enforcement?  They already have commercial spots all morning and they still do this.\n",
      "ID: 101005246657, Description: Van of a HVAC company parked on the crosswalk with no parking space\n",
      "ID: 101005247535, Description: Orange Audi blocking crosswalk completely\n"
     ]
    }
   ],
   "source": [
    "gt_crosswalk_ids = getDesAndIDOfKeyWord(all_descriptions[all_descriptions.data_type == 'test'], 'Description', ' crosswalk ', 15)['ID'].array.astype(np.int64)"
   ]
  },
  {
   "cell_type": "code",
   "execution_count": 64,
   "metadata": {},
   "outputs": [
    {
     "name": "stdout",
     "output_type": "stream",
     "text": [
      "ID: 101005279450, Description: Parked in handicap spot with no placard. The area needs enforcement please\n",
      "ID: 101005187324, Description: Car blocking handicap ramp\n",
      "ID: 101005288647, Description: White car parked in handicap spot\n",
      "ID: 101005253008, Description: Car parked in a crosswalk at a handicap ramp.\n",
      "ID: 101005239288, Description: This vehicle was parked legally before the handicap space was installed on 1/4 for my disabled husband (needs car to wheelchair transfer). It foes not have a placard so is now parked illegally. I have tried reaching out to neighbors with no luck. It has been parked here for 3 days. I am not sure how to proceed, as we really need to start using the space, especially with the impending snow on Sunday.\n",
      "ID: 101005275621, Description: Illegal parking in hc. 6 Trenton. East Boston. 02128. No placard in handicap spot.\n",
      "ID: 101005333171, Description: Car blocking handicap ramp\n",
      "ID: 101005300503, Description: Vehicle is parked on sidewalk & in a Handicap parking space. | How is the car parked illegally: [Handicapped parking space]  Type of vehicle: [SUV]  Make: [Lexus]  Model: [4DR]\n",
      "ID: 101005293891, Description: Could the parking be monitored. Car parked in handicap with no placard and also no one abides by time parking signs\n",
      "ID: 101005277346, Description: Parked in a handicap spot without a handicap placard.\n",
      "ID: 101005325163, Description: Constituent states cars are blocking the handicap ramp on the street. | Details: [Constituent states cars are blocking the handicap ramp on the street.]\n",
      "ID: 101005335255, Description: -- auto translated (en) -- Here we go again. My sister is handicapped and all these vehicles keep parking here illegally! No handicap plate or placard.  My sister is handicap and can’t walk far so if she goes out that’s where the van or cars pull up. She has braces on both her ankles.  I shouldn’t have to even have talk about her disability. -- original (en) -- Here we go again. My sister is handicapped and all these vehicles keep parking here illegally! No handicap plate or placard.  My sister is handicap and can’t walk far so if she goes out that’s where the van or cars pull up. She has braces on both her ankles.  I shouldn’t have to even have talk about her disability.\n",
      "ID: 101005232285, Description: White suv parked at handicap ramp.\n",
      "ID: 101005191804, Description: Truck with no placard parked in the handicap spot. This is ongoing since the road diet. Please have BTD or police   monitor\n",
      "ID: 101005264503, Description: Is this fair to handicap people. This individual always does this. Parks the vehicle on a handicap ramp. It's not cool at all.\n"
     ]
    }
   ],
   "source": [
    "gt_handicap_ids = getDesAndIDOfKeyWord(all_descriptions[all_descriptions.data_type == 'test'], 'Description', ' handicap ', 15)['ID'].array.astype(np.int64)"
   ]
  },
  {
   "cell_type": "code",
   "execution_count": 65,
   "metadata": {},
   "outputs": [
    {
     "name": "stdout",
     "output_type": "stream",
     "text": [
      "ID: 101005284921, Description: Blocking bus due to double parked donut patrons inbound and outbound sides!!!  No enforcement cars been parked 20 minutes here.\n",
      "ID: 101005274372, Description: Constituent states multiple cars double parked here everynight and nobody is ticketed. Constituent states the traffic is backed up for miles because they just leave there car's double parked all night. | How is the car parked illegally: [Other]\n",
      "ID: 101005243542, Description: Cars double parked\n",
      "ID: 101005329443, Description: Red bmw double parked with nobody in it. These people like to leave their cars in the street all night\n",
      "ID: 101005278934, Description: -- auto translated (en) -- I I just gotthe attached close from 311 saying all the double parked cars are not there, but I just looked out and the whole street is lined with double parked cars! It is clear no one came to look. Can you please send BTD traffic enforcement to ticket. It’s like this every day ad they never come and people have figured that out. It’s a big safety issue gif emergency vehicles. Frustrating to get a close report saying cars are not there when they are. Thank you.  -- original (en) -- I I just gotthe attached close from 311 saying all the double parked cars are not there, but I just looked out and the whole street is lined with double parked cars! It is clear no one came to look. Can you please send BTD traffic enforcement to ticket. It’s like this every day ad they never come and people have figured that out. It’s a big safety issue gif emergency vehicles. Frustrating to get a close report saying cars are not there when they are. Thank you.\n",
      "ID: 101005298722, Description: Multiple vehicles double parked at the spot | The closest intersecting street: [Burke]  Make: [Jeep]  Model: [2DR]  Color: [White]\n",
      "ID: 101005324517, Description: constant double parting\n",
      "ID: 101005298299, Description: Tow cars blocking flow of traffic illegal double parked\n",
      "ID: 101005238939, Description: 7 double parked cars on our street no enforcement at all\n",
      "ID: 101005278101, Description: Car double parked all the time | The closest intersecting street: [Jersey]  How is the car parked illegally: [Double parked]  Details: [Please tagg all the cars tht are double parked]\n",
      "ID: 101005279395, Description: Dailey trucks are double parked all day backing up traffic | The closest intersecting street: [Longwood]  How is the car parked illegally: [Double parked]\n",
      "ID: 101005292939, Description: Constituent states a blue suv has been double parked outside of the address all day. | The closest intersecting street: [Saratoga st]  How is the car parked illegally: [Double parked]  Type of vehicle: [SUV]  Make: [Unknown]  Model: [4DR]  Color: [Blue]\n",
      "ID: 101005289003, Description: Entire street of double parked cars at Boston ballet.\n",
      "ID: 101005247475, Description: Illegally double parked on Chandler st\n",
      "ID: 101005293471, Description: St.Brigid School Blocks  and double parks every morning every day.BLOCKING the fire lane all the time | The closest intersecting street: [N street]  How is the car parked illegally: [Fire lane]  Details: [The resident would like BTD come and stop the double parking every morning ,Happens starting at 7:oo am every day]\n"
     ]
    }
   ],
   "source": [
    "gt_double_parking_ids = getDesAndIDOfKeyWord(all_descriptions[all_descriptions.data_type == 'test'], 'Description', ' double ', 15)['ID'].array.astype(np.int64)"
   ]
  },
  {
   "cell_type": "code",
   "execution_count": 66,
   "metadata": {},
   "outputs": [
    {
     "name": "stdout",
     "output_type": "stream",
     "text": [
      "ID: 101005203879, Description: -- auto translated (en) -- The truck is not getting any permission and permission on resident parking space for more than 6 weeks! Is it legal? I saw 101 Hudson construction workers wanted some from truck!   -- original (zh-CN) -- The truck is not get any permission and stopping on resident parking space for more than 6 weeks !  Is it legal? I saw 101 Hudson construction workers took some from truck!\n",
      "ID: 101005324187, Description: -- auto translated (en) -- No Chinatown residents parking restrictions in residents parking space for more than 5 days  -- original (zh-CN) -- No Chinatown residents parking permits stopping  in residents parking space for more than 5 days\n",
      "ID: 101005324539, Description: No stopping anytime\n",
      "ID: 101005278740, Description: White suv parked in No stopping zone\n",
      "ID: 101005296483, Description: Cars parked in no stopping and bike lanes. Intersection of Washington and milk streets\n",
      "ID: 101005280160, Description: Car parked in No Stopping zone/bike lane\n",
      "ID: 101005244602, Description: Car  parked across from our garage dock our service vehicles having trouble  getting out no stopping anytime sign some nights there  3 to 4 cars\n",
      "ID: 101005266146, Description: Cars always sitting blocking the road. There is no stopping and they are always there.\n",
      "ID: 101005284138, Description: 20+cars parked in no stopping zone. Creates traffic\n",
      "ID: 101005192670, Description: Black Suv illegally parked on sidewalk, across crosswalk, in NO stopping anytime zone and HP access ramp how many violations do you have to have!!!!  please ticket parked there everyday!\n",
      "ID: 101005199194, Description: -- auto translated (en) -- Car parked in a ‘Tow Zone - no stopping anytime’. Has been parked here all day.  -- original (en) -- Car parked in a ‘Tow Zone - no stopping anytime’. Has been parked here all day.\n",
      "ID: 101005194104, Description: Truck parked in No stopping zone, blocking intersection. Emergency vehicle would have hard time taking the turn\n",
      "ID: 101005237484, Description: Van parked in a no stopping zone, emergency vehicles only\n",
      "ID: 101005186250, Description: -- auto translated (en) -- We’ve been reporting this area and nobody pays attention to any school areas until a person is hit Cedar street turns into a dangerous crawl between 8:30-9:15 am and 2:40-3:15 pm you all only come by and tag residents which is insane and only come after the fact but never enforce for these no stopping or standing signs for parents and they still for the longest nobody can get past anybody parents block every driveway they only have one crossing guard and for safety needs another these parents don’t respect anybody in the area they won’t even allow the buses to park please enforce when the parents are here so kids won’t be in danger of being hit by cars on this blind curb the bus has to double park because parents won’t move  -- original (en) -- We’ve been reporting this area and nobody pays attention to any school areas until a person is hit Cedar street turns into a dangerous crawl between 8:30-9:15 am and 2:40-3:15 pm you all only come by and tag residents which is insane and only come after the fact but never enforce for these no stopping or standing signs for parents and they still for the longest nobody can get past anybody parents block every driveway they only have one crossing guard and for safety needs another these parents don’t respect anybody in the area they won’t even allow the buses to park please enforce when the parents are here so kids won’t be in danger of being hit by cars on this blind curb the bus has to double park because parents won’t move\n",
      "ID: 101005239626, Description: White Jeep parked in no stopping anytime at the corner Melnea Cass blvd and Sojourner truth ct Roxbury\n"
     ]
    }
   ],
   "source": [
    "gt_stopping_ids = getDesAndIDOfKeyWord(all_descriptions[all_descriptions.data_type == 'test'], 'Description', ' stopping ', 15)['ID'].array.astype(np.int64)"
   ]
  },
  {
   "cell_type": "code",
   "execution_count": 67,
   "metadata": {},
   "outputs": [
    {
     "name": "stdout",
     "output_type": "stream",
     "text": [
      "ID: 101005266551, Description: Car parked in 2 hour visitor parking for multiple days\n",
      "ID: 101005285260, Description: 51-71 Robinwood Avenue, JP: Cars without permit parking in permit only areas and allay in 2-hour visitor area. the last will need to be overtimed.\n",
      "ID: 101005287505, Description: -- auto translated (en) -- Car with New Jersey plates parked in residential space in South Boston. And he’s taking up two spaces. Car remains parked there for weeks at a time and never gets ticketed despite numerous calls to 311 because he’s parked in two-hour visitor spot and apparently traffic enforcement can’t swing by twice in one evening. Opposite 428 East 8th Street.  -- original (en) -- Car with New Jersey plates parked in residential space in South Boston. And he’s taking up two spaces. Car remains parked there for weeks at a time and never gets ticketed despite numerous calls to 311 because he’s parked in two-hour visitor spot and apparently traffic enforcement can’t swing by twice in one evening. Opposite 428 East 8th Street.\n",
      "ID: 101005335815, Description: Mar-2-2024, cars using this spot for garage parking. Area is intersection between Mansur St & Grew Ave Roslindale. Iron-gate/shed area please refer to picture.  There is garbage in that same area as well. Dark blue sedan plate # 3KAG26 uses this place for extended periods of time Grey Camry 3AAB49 frequent visitor to Unit 137B who  plays EXTREMELY LOUD music     Please put signage as requested before.\n",
      "ID: 101005328000, Description: -- auto translated (en) -- There is silver Toyota SUV (plate #5RW 714) that doesn’t have a resident parking sticker that has been parked in the visitor parking area on the corner of Hampstead Rd and Arborway in Jamaica Plain since Tuesday, 2/20/24 located on the left as you enter Hampstead Rd. It’s not fair for tax paying residents that have resident parking permits to park blocks away. -- original (en) -- There is silver Toyota SUV (plate #5RW 714) that doesn’t have a resident parking sticker that has been parked in the visitor parking area on the corner of Hampstead Rd and Arborway in Jamaica Plain since Tuesday, 2/20/24 located on the left as you enter Hampstead Rd. It’s not fair for tax paying residents that have resident parking permits to park blocks away.\n",
      "ID: 101005202771, Description: Cars without resident stickers parking in resident slots and staying all day in 2-hour visitor slots. The latter will need to be overtimed.\n",
      "ID: 101005289010, Description: -- auto translated (en) -- Still there….still no ticket. 3rd report in 24 hours. No citation despite 311 claims.  Car with New Jersey plates parked in residential space in South Boston. And he’s taking up two spaces. Car remains parked there for weeks at a time and never gets ticketed despite numerous calls to 311 because he’s parked in two-hour visitor spot and apparently traffic enforcement can’t swing by twice in one evening. Opposite 428 East 8th Street. -- original (en) -- Still there….still no ticket. 3rd report in 24 hours. No citation despite 311 claims. \n",
      "Car with New Jersey plates parked in residential space in South Boston. And he’s taking up two spaces. Car remains parked there for weeks at a time and never gets ticketed despite numerous calls to 311 because he’s parked in two-hour visitor spot and apparently traffic enforcement can’t swing by twice in one evening. Opposite 428 East 8th Street.\n",
      "ID: 101005287612, Description: -- auto translated (en) -- Still there….still no ticket.      Car with New Jersey plates parked in residential space in South Boston. And he’s taking up two spaces. Car remains parked there for weeks at a time and never gets ticketed despite numerous calls to 311 because he’s parked in two-hour visitor spot and apparently traffic enforcement can’t swing by twice in one evening. Opposite 428 East 8th Street. -- original (en) -- Still there….still no ticket.     \n",
      "Car with New Jersey plates parked in residential space in South Boston. And he’s taking up two spaces. Car remains parked there for weeks at a time and never gets ticketed despite numerous calls to 311 because he’s parked in two-hour visitor spot and apparently traffic enforcement can’t swing by twice in one evening. Opposite 428 East 8th Street.\n"
     ]
    }
   ],
   "source": [
    "gt_visitor_ids = getDesAndIDOfKeyWord(all_descriptions[all_descriptions.data_type == 'test'], 'Description', ' visitor ', 15).ID.array.astype(np.int64)"
   ]
  },
  {
   "cell_type": "markdown",
   "metadata": {},
   "source": [
    "##### Evaluation Function:\n",
    "idea: take in list of ground truths, label id, evaluate a models predictions on "
   ]
  }
 ],
 "metadata": {
  "kernelspec": {
   "display_name": "Python 3 (ipykernel)",
   "language": "python",
   "name": "python3"
  },
  "language_info": {
   "codemirror_mode": {
    "name": "ipython",
    "version": 3
   },
   "file_extension": ".py",
   "mimetype": "text/x-python",
   "name": "python",
   "nbconvert_exporter": "python",
   "pygments_lexer": "ipython3",
   "version": "3.10.2"
  }
 },
 "nbformat": 4,
 "nbformat_minor": 4
}
