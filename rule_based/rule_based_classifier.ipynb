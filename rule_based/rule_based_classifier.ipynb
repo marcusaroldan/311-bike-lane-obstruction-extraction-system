{
 "cells": [
  {
   "cell_type": "code",
   "execution_count": 2,
   "metadata": {},
   "outputs": [],
   "source": [
    "import json\n",
    "from Levenshtein import distance as word_difference\n",
    "from gensim.utils import simple_preprocess\n",
    "import re\n",
    "import matplotlib.pyplot as plt\n",
    "import pandas as pd"
   ]
  },
  {
   "cell_type": "code",
   "execution_count": 3,
   "metadata": {},
   "outputs": [],
   "source": [
    "SERVICE_REQ_JSON_FILE_NAME = 'service_requests_last_90_days.json'"
   ]
  },
  {
   "cell_type": "code",
   "execution_count": 4,
   "metadata": {},
   "outputs": [],
   "source": [
    "def extract_request_id_with_description(filename:str) -> dict:\n",
    "    ''' \n",
    "    For a given file containing a JSON Array of Service Request JSON Objects, extract the service number and the description\n",
    "    (if it exists) into a dictionary for further preprocessing.\n",
    "\n",
    "    Returns: Dict (Service Request ID -> Service Request Description)\n",
    "    '''\n",
    "    request_id_descr_dict = {}\n",
    "    service_requests_json = json.loads(open(filename, 'r').read())\n",
    "\n",
    "    for service_request in service_requests_json:\n",
    "        # Ensure the description exists for this service request\n",
    "        description = service_request.get('description', False)\n",
    "        if not description: continue   \n",
    "        # status_notes = service_request.get('status_notes', False)\n",
    "        # if status_notes:\n",
    "        #     description = description + ' | ' + status_notes\n",
    "\n",
    "        # Add to dictionary using service request ID as key and service request description as value.\n",
    "        request_id_descr_dict[service_request['service_request_id']] = description\n",
    "\n",
    "    return request_id_descr_dict"
   ]
  },
  {
   "cell_type": "code",
   "execution_count": 5,
   "metadata": {},
   "outputs": [],
   "source": [
    "document_dictionary = extract_request_id_with_description(SERVICE_REQ_JSON_FILE_NAME)"
   ]
  },
  {
   "cell_type": "code",
   "execution_count": 6,
   "metadata": {},
   "outputs": [
    {
     "data": {
      "text/plain": [
       "9638"
      ]
     },
     "execution_count": 6,
     "metadata": {},
     "output_type": "execute_result"
    }
   ],
   "source": [
    "len(document_dictionary.keys())"
   ]
  },
  {
   "cell_type": "code",
   "execution_count": 7,
   "metadata": {},
   "outputs": [],
   "source": [
    "class_keywords = {\n",
    "\n",
    "    'blocked bike infra': ['bike'],\n",
    "    'blocked public transit infra': ['bus'],\n",
    "    'blocked emergency infra':  ['hydrant'],\n",
    "    'resident parking': ['resident', 'nonresident', 'sticker'],\n",
    "    'blocked driveway': ['driveway'],\n",
    "    'blocked pedestrian infra':  ['crosswalk', 'sidewalk'],\n",
    "    'blocked accesibility infra': ['handicap'],\n",
    "    'traffic flow impediment': ['double', 'stopped']\n",
    "\n",
    "}"
   ]
  },
  {
   "cell_type": "markdown",
   "metadata": {},
   "source": [
    "Algo outline:\n",
    "\n",
    "        for each class:\n",
    "            find and catalog exact matches\n",
    "    \n",
    "        on remaining documents until none remain or distance max acheived:\n",
    "            find and catalog matches with distance d\n",
    "        \n",
    "        if distance max acheived: remaining documents given unknown category\n"
   ]
  },
  {
   "cell_type": "code",
   "execution_count": 8,
   "metadata": {},
   "outputs": [],
   "source": [
    "def categorize_illegal_parking_reports(descriptions:dict, class_keywords:dict, max_distance:int):\n",
    "\n",
    "    match_count = 0\n",
    "\n",
    "    # Tokenize descriptions\n",
    "    description_tokens = {id: simple_preprocess(description, deacc=True) for id, description in descriptions.items()}\n",
    "\n",
    "    # Create new dictionary to keep track of descriptions that are not yet categorized\n",
    "    uncategorized_descriptions = dict(description_tokens)\n",
    "\n",
    "    # Create dictionary for the list of service ids for each class\n",
    "    class_service_ids = {}\n",
    "\n",
    "    # Create dictionary to track classes assigned to service ids (to analyze prevalance of multiclass descriptions)\n",
    "    service_id_classes = {}\n",
    "\n",
    "    # Find exact matches\n",
    "    uncategorized_descriptions_items = list(uncategorized_descriptions.items())\n",
    "    for id, tokens in uncategorized_descriptions_items:\n",
    "        match_found = False\n",
    "        for category, keywords in class_keywords.items():\n",
    "            if keywords_match(keywords, tokens):\n",
    "                match_found = True\n",
    "                match_count += 1\n",
    "\n",
    "                # Track the match in both dicts\n",
    "                service_ids:list = class_service_ids.get(category, [])\n",
    "                service_ids.append(id)\n",
    "                class_service_ids[category] = service_ids\n",
    "\n",
    "                classes = service_id_classes.get(id, [])\n",
    "                classes.append(category)\n",
    "                service_id_classes[id] = classes\n",
    "        \n",
    "        # If any match was found remove it from the uncategorized dictionary\n",
    "        if match_found: del uncategorized_descriptions[id]\n",
    "\n",
    "    # find matches with increasing distance\n",
    "    # create dictionary to hold fuzzy matches\n",
    "    distance_matches = {}\n",
    "    for distance in range(1, max_distance + 1):\n",
    "        current_distance_matches = {}\n",
    "        uncategorized_descriptions_items = list(uncategorized_descriptions.items())\n",
    "        for id, tokens in uncategorized_descriptions_items:\n",
    "            match_found = False\n",
    "            for category, keywords in class_keywords.items():\n",
    "                if keywords_fuzzy_match(keywords, tokens, distance):\n",
    "                    match_found = True\n",
    "                    match_count += 1\n",
    "\n",
    "                    # Track the match in both dicts\n",
    "                    service_ids = class_service_ids.get(category, [])\n",
    "                    service_ids.append(id)\n",
    "                    class_service_ids[category] = service_ids\n",
    "\n",
    "                    classes = service_id_classes.get(id, [])\n",
    "                    classes.append(category)\n",
    "                    service_id_classes[id] = classes\n",
    "\n",
    "                    distance_classes = current_distance_matches.get(category, [])\n",
    "                    distance_classes.append(id)\n",
    "                    current_distance_matches[category] = distance_classes\n",
    "\n",
    "            \n",
    "            # If any match was found remove it from the uncategorized dictionary\n",
    "            if match_found: del uncategorized_descriptions[id]\n",
    "        \n",
    "        distance_matches[distance] = current_distance_matches\n",
    "    \n",
    "    # print(f'Found {match_count} matches!')\n",
    "    return uncategorized_descriptions, class_service_ids, service_id_classes, distance_matches\n",
    "\n",
    "\n",
    "def keywords_match(keywords:list[str], tokens:list[str]):\n",
    "    affix_pattern = r'[a-z]*'\n",
    "    for keyword in keywords:\n",
    "        keyword_pattern = re.compile(affix_pattern + keyword + affix_pattern)\n",
    "        all_tokens = str.join(' ', tokens)\n",
    "        matches = re.findall(keyword_pattern, all_tokens)\n",
    "        if matches:\n",
    "            return True\n",
    "        \n",
    "    return False\n",
    "\n",
    "def keywords_fuzzy_match(keywords:list[str], tokens:list[str], distance:int):\n",
    "    for keyword in keywords:\n",
    "        for token in tokens:\n",
    "            difference = word_difference(keyword, token)\n",
    "            if difference <= distance:\n",
    "                return True\n",
    "            \n",
    "    return False"
   ]
  },
  {
   "cell_type": "code",
   "execution_count": 9,
   "metadata": {},
   "outputs": [],
   "source": [
    "unknown_desc, class_service_ids, service_id_classes, distance_matches = categorize_illegal_parking_reports(document_dictionary, class_keywords, 1)"
   ]
  },
  {
   "cell_type": "code",
   "execution_count": 10,
   "metadata": {},
   "outputs": [
    {
     "name": "stdout",
     "output_type": "stream",
     "text": [
      "# Unk: 3798\n",
      "# Classified 6334\n",
      "# Distance Matches: 89\n"
     ]
    }
   ],
   "source": [
    "print(f'# Unk: {len(unknown_desc)}')\n",
    "print(f'# Classified {sum([len(class_service_ids[cat]) for cat in class_service_ids.keys()])}')\n",
    "print(f'# Distance Matches: {sum([len(distance_matches[dist][cat]) for dist in distance_matches.keys() for cat in distance_matches[dist].keys()])}')"
   ]
  },
  {
   "cell_type": "markdown",
   "metadata": {},
   "source": [
    "Take the results of the categorization and process them into DataFrames for visualization"
   ]
  },
  {
   "cell_type": "code",
   "execution_count": 11,
   "metadata": {},
   "outputs": [
    {
     "data": {
      "text/html": [
       "<div>\n",
       "<style scoped>\n",
       "    .dataframe tbody tr th:only-of-type {\n",
       "        vertical-align: middle;\n",
       "    }\n",
       "\n",
       "    .dataframe tbody tr th {\n",
       "        vertical-align: top;\n",
       "    }\n",
       "\n",
       "    .dataframe thead th {\n",
       "        text-align: right;\n",
       "    }\n",
       "</style>\n",
       "<table border=\"1\" class=\"dataframe\">\n",
       "  <thead>\n",
       "    <tr style=\"text-align: right;\">\n",
       "      <th></th>\n",
       "      <th>resident parking</th>\n",
       "      <th>blocked driveway</th>\n",
       "      <th>traffic flow impediment</th>\n",
       "      <th>blocked pedestrian infra</th>\n",
       "      <th>blocked accesibility infra</th>\n",
       "      <th>blocked emergency infra</th>\n",
       "      <th>blocked bike infra</th>\n",
       "      <th>blocked public transit infra</th>\n",
       "    </tr>\n",
       "  </thead>\n",
       "  <tbody>\n",
       "    <tr>\n",
       "      <th>num_ids</th>\n",
       "      <td>2242</td>\n",
       "      <td>701</td>\n",
       "      <td>412</td>\n",
       "      <td>909</td>\n",
       "      <td>458</td>\n",
       "      <td>728</td>\n",
       "      <td>336</td>\n",
       "      <td>548</td>\n",
       "    </tr>\n",
       "  </tbody>\n",
       "</table>\n",
       "</div>"
      ],
      "text/plain": [
       "         resident parking  blocked driveway  traffic flow impediment  \\\n",
       "num_ids              2242               701                      412   \n",
       "\n",
       "         blocked pedestrian infra  blocked accesibility infra  \\\n",
       "num_ids                       909                         458   \n",
       "\n",
       "         blocked emergency infra  blocked bike infra  \\\n",
       "num_ids                      728                 336   \n",
       "\n",
       "         blocked public transit infra  \n",
       "num_ids                           548  "
      ]
     },
     "execution_count": 11,
     "metadata": {},
     "output_type": "execute_result"
    }
   ],
   "source": [
    "class_distr = {cat: len(ids) for cat, ids in class_service_ids.items()}\n",
    "class_distr_df = pd.DataFrame(data=class_distr, index=['num_ids'])\n",
    "class_distr_df.head()"
   ]
  },
  {
   "cell_type": "code",
   "execution_count": 12,
   "metadata": {},
   "outputs": [
    {
     "data": {
      "text/plain": [
       "([<matplotlib.patches.Wedge at 0x134d9679300>,\n",
       "  <matplotlib.patches.Wedge at 0x134d9679270>,\n",
       "  <matplotlib.patches.Wedge at 0x134d9679bd0>,\n",
       "  <matplotlib.patches.Wedge at 0x134d967a050>,\n",
       "  <matplotlib.patches.Wedge at 0x134d967a4d0>,\n",
       "  <matplotlib.patches.Wedge at 0x134d967a950>,\n",
       "  <matplotlib.patches.Wedge at 0x134d967add0>,\n",
       "  <matplotlib.patches.Wedge at 0x134d967b250>],\n",
       " [Text(0.48714947484842686, 0.9862481377193583, 'resident parking'),\n",
       "  Text(-0.9261557711984846, 0.5934943028165818, 'blocked driveway'),\n",
       "  Text(-1.0998246535786254, 0.019640045332355756, 'traffic flow impediment'),\n",
       "  Text(-0.8840459621272477, -0.654570650767745, 'blocked pedestrian infra'),\n",
       "  Text(-0.27793207794006414, -1.0643090528845078, 'blocked accesibility infra'),\n",
       "  Text(0.3593685318845668, -1.0396414085111902, 'blocked emergency infra'),\n",
       "  Text(0.8340145830811341, -0.7172305593099071, 'blocked bike infra'),\n",
       "  Text(1.059617602265326, -0.2953143020063219, 'blocked public transit infra')])"
      ]
     },
     "execution_count": 12,
     "metadata": {},
     "output_type": "execute_result"
    },
    {
     "data": {
      "image/png": "[encoded data removed]",
      "text/plain": [
       "<Figure size 640x480 with 1 Axes>"
      ]
     },
     "metadata": {},
     "output_type": "display_data"
    }
   ],
   "source": [
    "plt.clf()\n",
    "plt.pie(x=class_distr.values(), labels=class_distr.keys())"
   ]
  },
  {
   "cell_type": "markdown",
   "metadata": {},
   "source": [
    "## Packing up the classifications\n",
    "\n",
    "Will be the same as the service request JSON objects, but will have an additional field 'CLASS' which is one of:\n",
    "- resident parking\n",
    "- blocked driveway\n",
    "- blocked public transit infra\n",
    "- traffic flow impediment\n",
    "- blocked pedestrian infra\n",
    "- blocked accesibility infra\n",
    "- blocked emergency infra\n",
    "- blocked bike infra\n",
    "- unknown (uncategorized, contains no keywords within edit distance limit)\n",
    "\n",
    "Additional field 'DIST' shows the edit distance of the service request. For example, a service request that contains a keyword with a single typo \n",
    "will have value 1. Two typos will have value 2."
   ]
  },
  {
   "cell_type": "code",
   "execution_count": 29,
   "metadata": {},
   "outputs": [],
   "source": [
    "# Load the json service requests into a dictionary with keys=id, values=json_obj\n",
    "service_req_json = json.loads(open('service_requests_last_90_days.json', 'r').read())\n",
    "\n",
    "service_req_json_dict = {obj['service_request_id']: obj for obj in service_req_json}\n",
    "\n",
    "# go through each class, find each service id json object, add the proper fields, then save the json\n",
    "\n",
    "classified_service_requests = []\n",
    "\n",
    "# Distance zero requests\n",
    "distance = 0\n",
    "for class_name, ids in class_service_ids.items():\n",
    "    for req_id in ids:\n",
    "        req_json = service_req_json_dict[req_id]\n",
    "        req_json['class'] = class_name\n",
    "        req_json['distance'] = distance\n",
    "        classified_service_requests.append(req_json)\n",
    "\n",
    "# Distance requests\n",
    "for dist, matches in distance_matches.items():\n",
    "    distance = dist\n",
    "    for class_name, ids in matches.items():\n",
    "        for req_id in ids:\n",
    "            req_json = service_req_json_dict[req_id]\n",
    "            req_json['class'] = class_name\n",
    "            req_json['distance'] = distance\n",
    "            classified_service_requests.append(req_json)\n",
    "\n",
    "\n",
    "with open('classified_requests_test1.json', 'w') as file:\n",
    "    json.dump(classified_service_requests, file)\n"
   ]
  }
 ],
 "metadata": {
  "kernelspec": {
   "display_name": ".venv",
   "language": "python",
   "name": "python3"
  },
  "language_info": {
   "codemirror_mode": {
    "name": "ipython",
    "version": 3
   },
   "file_extension": ".py",
   "mimetype": "text/x-python",
   "name": "python",
   "nbconvert_exporter": "python",
   "pygments_lexer": "ipython3",
   "version": "3.10.2"
  }
 },
 "nbformat": 4,
 "nbformat_minor": 2
}
