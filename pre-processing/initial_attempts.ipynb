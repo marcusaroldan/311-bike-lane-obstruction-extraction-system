{
 "cells": [
  {
   "cell_type": "code",
   "execution_count": 55,
   "metadata": {},
   "outputs": [],
   "source": [
    "from sklearn.feature_extraction.text import TfidfTransformer, CountVectorizer\n",
    "from sklearn.model_selection import train_test_split\n",
    "import pickle\n",
    "import re\n",
    "import pandas as pd\n",
    "import itertools"
   ]
  },
  {
   "cell_type": "markdown",
   "metadata": {},
   "source": [
    "# Plan Overview:\n",
    "## 1. Data Preparation\n",
    "### a. remove special characters\n",
    "### b. downcase\n",
    "## 2. TF-IDF Representation\n",
    "### a. Train / Validate / Test Data Split\n",
    "### b. TF-IDF Vectorization\n",
    "## 3. Model Training\n",
    "### a. Affinity Propagation: https://scikit-learn.org/stable/modules/clustering.html#affinity-propagation\n",
    "### b. Mean-shift: https://scikit-learn.org/stable/modules/clustering.html#mean-shift"
   ]
  },
  {
   "cell_type": "markdown",
   "metadata": {},
   "source": [
    "## 1. Data Preparation"
   ]
  },
  {
   "cell_type": "code",
   "execution_count": 18,
   "metadata": {},
   "outputs": [
    {
     "data": {
      "text/plain": [
       "['illegal parking in the commercial loading zone and the  minute drop off zone   same cars i beg of you again to ticket  thank you for last time all  cars',\n",
       " 'red honda w new york plates illegally parked on all weekend',\n",
       " 'car completely blocking turn in fire lane',\n",
       " 'double parking alone mass ave no enforcement really a two lane becomes one lane are you all sleeping',\n",
       " 'truck on sidewalk']"
      ]
     },
     "execution_count": 18,
     "metadata": {},
     "output_type": "execute_result"
    }
   ],
   "source": [
    "# Load pickled service descriptions\n",
    "with open('API-responses/service_req_desc_03-02-24_01_09_24.pkl', 'rb') as file:\n",
    "    service_drescriptions:dict = pickle.load(file)\n",
    "\n",
    "# Remove special characters and downcase\n",
    "def remove_special_characters(input:str) -> str:\n",
    "    return re.sub(pattern=r'[^A-Za-z ]', repl='', string=input)\n",
    "\n",
    "service_drescriptions_clean = {}\n",
    "for key, value in service_drescriptions.items():\n",
    "    service_drescriptions_clean[key] = remove_special_characters(value).lower()\n",
    "\n",
    "list(service_drescriptions_clean.values())[:5]"
   ]
  },
  {
   "cell_type": "code",
   "execution_count": 22,
   "metadata": {},
   "outputs": [
    {
     "data": {
      "text/html": [
       "<div>\n",
       "<style scoped>\n",
       "    .dataframe tbody tr th:only-of-type {\n",
       "        vertical-align: middle;\n",
       "    }\n",
       "\n",
       "    .dataframe tbody tr th {\n",
       "        vertical-align: top;\n",
       "    }\n",
       "\n",
       "    .dataframe thead th {\n",
       "        text-align: right;\n",
       "    }\n",
       "</style>\n",
       "<table border=\"1\" class=\"dataframe\">\n",
       "  <thead>\n",
       "    <tr style=\"text-align: right;\">\n",
       "      <th></th>\n",
       "      <th>ID</th>\n",
       "      <th>Description</th>\n",
       "    </tr>\n",
       "  </thead>\n",
       "  <tbody>\n",
       "    <tr>\n",
       "      <th>0</th>\n",
       "      <td>101005335950</td>\n",
       "      <td>illegal parking in the commercial loading zone...</td>\n",
       "    </tr>\n",
       "    <tr>\n",
       "      <th>1</th>\n",
       "      <td>101005335949</td>\n",
       "      <td>red honda w new york plates illegally parked o...</td>\n",
       "    </tr>\n",
       "    <tr>\n",
       "      <th>2</th>\n",
       "      <td>101005335934</td>\n",
       "      <td>car completely blocking turn in fire lane</td>\n",
       "    </tr>\n",
       "    <tr>\n",
       "      <th>3</th>\n",
       "      <td>101005335925</td>\n",
       "      <td>double parking alone mass ave no enforcement r...</td>\n",
       "    </tr>\n",
       "    <tr>\n",
       "      <th>4</th>\n",
       "      <td>101005335924</td>\n",
       "      <td>truck on sidewalk</td>\n",
       "    </tr>\n",
       "  </tbody>\n",
       "</table>\n",
       "</div>"
      ],
      "text/plain": [
       "             ID                                        Description\n",
       "0  101005335950  illegal parking in the commercial loading zone...\n",
       "1  101005335949  red honda w new york plates illegally parked o...\n",
       "2  101005335934          car completely blocking turn in fire lane\n",
       "3  101005335925  double parking alone mass ave no enforcement r...\n",
       "4  101005335924                                  truck on sidewalk"
      ]
     },
     "execution_count": 22,
     "metadata": {},
     "output_type": "execute_result"
    }
   ],
   "source": [
    "service_drescriptions_df = pd.DataFrame(data=service_drescriptions_clean.items(), columns=['ID', 'Description'])\n",
    "service_drescriptions_df.head()"
   ]
  },
  {
   "cell_type": "markdown",
   "metadata": {},
   "source": [
    "## 2. TF-IDF Representation"
   ]
  },
  {
   "cell_type": "code",
   "execution_count": 43,
   "metadata": {},
   "outputs": [],
   "source": [
    "# Train=.70, Validate=.15, Test=.15\n",
    "# Split all data between train, (test AND validate)\n",
    "desc_train, desc_testval = train_test_split(service_drescriptions_df, test_size=.30)\n",
    "\n",
    "# Split (test AND validate) between test, validate\n",
    "# .3 * .5 = 0.15\n",
    "desc_val, desc_test = train_test_split(desc_testval, test_size=0.5)"
   ]
  },
  {
   "cell_type": "code",
   "execution_count": 42,
   "metadata": {},
   "outputs": [
    {
     "data": {
      "text/html": [
       "<div>\n",
       "<style scoped>\n",
       "    .dataframe tbody tr th:only-of-type {\n",
       "        vertical-align: middle;\n",
       "    }\n",
       "\n",
       "    .dataframe tbody tr th {\n",
       "        vertical-align: top;\n",
       "    }\n",
       "\n",
       "    .dataframe thead th {\n",
       "        text-align: right;\n",
       "    }\n",
       "</style>\n",
       "<table border=\"1\" class=\"dataframe\">\n",
       "  <thead>\n",
       "    <tr style=\"text-align: right;\">\n",
       "      <th></th>\n",
       "      <th>ID</th>\n",
       "      <th>Description</th>\n",
       "      <th>upcase_test</th>\n",
       "    </tr>\n",
       "  </thead>\n",
       "  <tbody>\n",
       "    <tr>\n",
       "      <th>734</th>\n",
       "      <td>101005330582</td>\n",
       "      <td>no parking</td>\n",
       "      <td>NO PARKING</td>\n",
       "    </tr>\n",
       "    <tr>\n",
       "      <th>3671</th>\n",
       "      <td>101005288189</td>\n",
       "      <td>parking in commercial spot now parents have to...</td>\n",
       "      <td>PARKING IN COMMERCIAL SPOT NOW PARENTS HAVE TO...</td>\n",
       "    </tr>\n",
       "    <tr>\n",
       "      <th>7376</th>\n",
       "      <td>101005203870</td>\n",
       "      <td>car parked in crosswalk</td>\n",
       "      <td>CAR PARKED IN CROSSWALK</td>\n",
       "    </tr>\n",
       "    <tr>\n",
       "      <th>9301</th>\n",
       "      <td>101005251004</td>\n",
       "      <td>illegally parked car blocking buildings garage...</td>\n",
       "      <td>ILLEGALLY PARKED CAR BLOCKING BUILDINGS GARAGE...</td>\n",
       "    </tr>\n",
       "    <tr>\n",
       "      <th>1075</th>\n",
       "      <td>101005328291</td>\n",
       "      <td>auto translated en  white toyota corolla stil...</td>\n",
       "      <td>AUTO TRANSLATED EN  WHITE TOYOTA COROLLA STIL...</td>\n",
       "    </tr>\n",
       "    <tr>\n",
       "      <th>...</th>\n",
       "      <td>...</td>\n",
       "      <td>...</td>\n",
       "      <td>...</td>\n",
       "    </tr>\n",
       "    <tr>\n",
       "      <th>8631</th>\n",
       "      <td>101005246959</td>\n",
       "      <td>non resident gray audi parked over the  hour l...</td>\n",
       "      <td>NON RESIDENT GRAY AUDI PARKED OVER THE  HOUR L...</td>\n",
       "    </tr>\n",
       "    <tr>\n",
       "      <th>8117</th>\n",
       "      <td>101005248902</td>\n",
       "      <td>numerous cars double parke busses cant make th...</td>\n",
       "      <td>NUMEROUS CARS DOUBLE PARKE BUSSES CANT MAKE TH...</td>\n",
       "    </tr>\n",
       "    <tr>\n",
       "      <th>4597</th>\n",
       "      <td>101005287544</td>\n",
       "      <td>no sticker parked by lot</td>\n",
       "      <td>NO STICKER PARKED BY LOT</td>\n",
       "    </tr>\n",
       "    <tr>\n",
       "      <th>9688</th>\n",
       "      <td>101005244980</td>\n",
       "      <td>type of vehicle other  make toyota  model pick...</td>\n",
       "      <td>TYPE OF VEHICLE OTHER  MAKE TOYOTA  MODEL PICK...</td>\n",
       "    </tr>\n",
       "    <tr>\n",
       "      <th>7237</th>\n",
       "      <td>101005269593</td>\n",
       "      <td>blocking entire st  how is the car parked ille...</td>\n",
       "      <td>BLOCKING ENTIRE ST  HOW IS THE CAR PARKED ILLE...</td>\n",
       "    </tr>\n",
       "  </tbody>\n",
       "</table>\n",
       "<p>1466 rows × 3 columns</p>\n",
       "</div>"
      ],
      "text/plain": [
       "                ID                                        Description  \\\n",
       "734   101005330582                                         no parking   \n",
       "3671  101005288189  parking in commercial spot now parents have to...   \n",
       "7376  101005203870                            car parked in crosswalk   \n",
       "9301  101005251004  illegally parked car blocking buildings garage...   \n",
       "1075  101005328291   auto translated en  white toyota corolla stil...   \n",
       "...            ...                                                ...   \n",
       "8631  101005246959  non resident gray audi parked over the  hour l...   \n",
       "8117  101005248902  numerous cars double parke busses cant make th...   \n",
       "4597  101005287544                           no sticker parked by lot   \n",
       "9688  101005244980  type of vehicle other  make toyota  model pick...   \n",
       "7237  101005269593  blocking entire st  how is the car parked ille...   \n",
       "\n",
       "                                            upcase_test  \n",
       "734                                          NO PARKING  \n",
       "3671  PARKING IN COMMERCIAL SPOT NOW PARENTS HAVE TO...  \n",
       "7376                            CAR PARKED IN CROSSWALK  \n",
       "9301  ILLEGALLY PARKED CAR BLOCKING BUILDINGS GARAGE...  \n",
       "1075   AUTO TRANSLATED EN  WHITE TOYOTA COROLLA STIL...  \n",
       "...                                                 ...  \n",
       "8631  NON RESIDENT GRAY AUDI PARKED OVER THE  HOUR L...  \n",
       "8117  NUMEROUS CARS DOUBLE PARKE BUSSES CANT MAKE TH...  \n",
       "4597                           NO STICKER PARKED BY LOT  \n",
       "9688  TYPE OF VEHICLE OTHER  MAKE TOYOTA  MODEL PICK...  \n",
       "7237  BLOCKING ENTIRE ST  HOW IS THE CAR PARKED ILLE...  \n",
       "\n",
       "[1466 rows x 3 columns]"
      ]
     },
     "execution_count": 42,
     "metadata": {},
     "output_type": "execute_result"
    }
   ],
   "source": [
    "desc_val"
   ]
  },
  {
   "cell_type": "code",
   "execution_count": 48,
   "metadata": {},
   "outputs": [],
   "source": [
    "# Initialize Count Vectorizer\n",
    "cv = CountVectorizer(stop_words='english', lowercase=False, strip_accents='ascii', analyzer='word')\n",
    "\n",
    "# Initialize Word Count Vector\n",
    "word_count_vector = cv.fit_transform(desc_train['Description'])\n",
    "\n",
    "# Initialize Transformer\n",
    "tfidf_transformer = TfidfTransformer(smooth_idf=True, use_idf=True)\n",
    "tfidf_transformer.fit(word_count_vector)\n",
    "\n",
    "# Create Test, Validate, and Train TF-IDF Matrices\n",
    "desc_train_matrix = tfidf_transformer.transform(cv.transform(desc_train['Description']))\n",
    "desc_test_matrix = tfidf_transformer.transform(cv.transform(desc_test['Description']))\n",
    "desc_val_matrix = tfidf_transformer.transform(cv.transform(desc_val['Description']))"
   ]
  },
  {
   "cell_type": "code",
   "execution_count": 56,
   "metadata": {},
   "outputs": [],
   "source": [
    "# Create Dictionaries to Map Service Request IDs to TF-IDF Matrices\n",
    "def id_to_matrix(ids, matrices) -> dict:\n",
    "    id_to_matrix = {}\n",
    "    for i, id in zip(range(matrices.get_shape()[0]), ids):\n",
    "        id_to_matrix[id] = matrices.getrow(i)\n",
    "    return id_to_matrix\n",
    "\n",
    "train_id_to_matrix:dict = id_to_matrix(desc_train['ID'], desc_train_matrix)\n",
    "test_id_to_matrix:dict = id_to_matrix(desc_test['ID'], desc_test_matrix)\n",
    "val_id_to_matrix:dict = id_to_matrix(desc_val['ID'], desc_val_matrix)"
   ]
  },
  {
   "cell_type": "markdown",
   "metadata": {},
   "source": [
    "## 3. Model Training"
   ]
  },
  {
   "cell_type": "markdown",
   "metadata": {},
   "source": [
    "### a. Affinity Propagation"
   ]
  },
  {
   "cell_type": "code",
   "execution_count": 62,
   "metadata": {},
   "outputs": [],
   "source": [
    "from sklearn.cluster import AffinityPropagation\n",
    "import matplotlib.pyplot as plt\n",
    "import numpy as np"
   ]
  },
  {
   "cell_type": "code",
   "execution_count": 61,
   "metadata": {},
   "outputs": [
    {
     "name": "stdout",
     "output_type": "stream",
     "text": [
      "Estimated number of clusters: 0\n"
     ]
    },
    {
     "name": "stderr",
     "output_type": "stream",
     "text": [
      "c:\\Users\\0mmaa\\Spring 2024 Workspaces\\CS4120\\Final Project\\311-bike-lane-obstruction-extraction-system\\.venv\\lib\\site-packages\\sklearn\\cluster\\_affinity_propagation.py:164: ConvergenceWarning: Affinity propagation did not converge and this model will not have any cluster centers.\n",
      "  warnings.warn(\n"
     ]
    }
   ],
   "source": [
    "af = AffinityPropagation(preference=-50, random_state=0).fit(desc_train_matrix)\n",
    "cluster_centers_indices = af.cluster_centers_indices_\n",
    "labels = af.labels_\n",
    "\n",
    "n_clusters_ = len(cluster_centers_indices)\n",
    "\n",
    "print(\"Estimated number of clusters: %d\" % n_clusters_)"
   ]
  },
  {
   "cell_type": "markdown",
   "metadata": {},
   "source": [
    "### b. Mean-Shift"
   ]
  },
  {
   "cell_type": "code",
   "execution_count": 63,
   "metadata": {},
   "outputs": [],
   "source": [
    "from sklearn.cluster import MeanShift, estimate_bandwidth"
   ]
  },
  {
   "cell_type": "code",
   "execution_count": 69,
   "metadata": {},
   "outputs": [
    {
     "name": "stdout",
     "output_type": "stream",
     "text": [
      "number of estimated clusters : 1\n"
     ]
    }
   ],
   "source": [
    "# Estimate Bandwidth\n",
    "bandwidth = estimate_bandwidth(desc_test_matrix.toarray(), quantile=0.2, n_samples=500)\n",
    "\n",
    "meanshift = MeanShift(bandwidth=bandwidth, bin_seeding=True)\n",
    "meanshift.fit(desc_test_matrix.toarray())\n",
    "\n",
    "labels = meanshift.labels_\n",
    "cluster_centers = meanshift.cluster_centers_\n",
    "\n",
    "unique_labels = np.unique(labels)\n",
    "n_clusters_ = len(unique_labels)\n",
    "\n",
    "print(\"number of estimated clusters : %d\" % n_clusters_)"
   ]
  },
  {
   "cell_type": "markdown",
   "metadata": {},
   "source": [
    "### c. K-Means"
   ]
  },
  {
   "cell_type": "code",
   "execution_count": 70,
   "metadata": {},
   "outputs": [],
   "source": [
    "from sklearn.cluster import KMeans"
   ]
  },
  {
   "cell_type": "code",
   "execution_count": null,
   "metadata": {},
   "outputs": [],
   "source": []
  }
 ],
 "metadata": {
  "kernelspec": {
   "display_name": ".venv",
   "language": "python",
   "name": "python3"
  },
  "language_info": {
   "codemirror_mode": {
    "name": "ipython",
    "version": 3
   },
   "file_extension": ".py",
   "mimetype": "text/x-python",
   "name": "python",
   "nbconvert_exporter": "python",
   "pygments_lexer": "ipython3",
   "version": "3.10.2"
  }
 },
 "nbformat": 4,
 "nbformat_minor": 2
}
